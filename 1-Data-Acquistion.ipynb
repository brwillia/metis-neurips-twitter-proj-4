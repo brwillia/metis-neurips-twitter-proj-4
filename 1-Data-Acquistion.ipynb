{
 "cells": [
  {
   "cell_type": "code",
   "execution_count": 5,
   "metadata": {
    "execution": {
     "iopub.execute_input": "2020-11-13T13:05:01.451157Z",
     "iopub.status.busy": "2020-11-13T13:05:01.450785Z",
     "iopub.status.idle": "2020-11-13T13:05:01.455342Z",
     "shell.execute_reply": "2020-11-13T13:05:01.454316Z",
     "shell.execute_reply.started": "2020-11-13T13:05:01.451123Z"
    }
   },
   "outputs": [],
   "source": [
    "import numpy as np\n",
    "import pandas as pd\n",
    "from collections import defaultdict"
   ]
  },
  {
   "cell_type": "markdown",
   "metadata": {},
   "source": [
    "## Acquiring NeurIPS tweets, 2017-2020:"
   ]
  },
  {
   "cell_type": "markdown",
   "metadata": {},
   "source": [
    "### Getting tweet URLs with snscrape:"
   ]
  },
  {
   "cell_type": "code",
   "execution_count": 2,
   "metadata": {
    "execution": {
     "iopub.execute_input": "2020-11-13T12:59:21.915467Z",
     "iopub.status.busy": "2020-11-13T12:59:21.915141Z",
     "iopub.status.idle": "2020-11-13T12:59:56.464708Z",
     "shell.execute_reply": "2020-11-13T12:59:56.463644Z",
     "shell.execute_reply.started": "2020-11-13T12:59:21.915432Z"
    }
   },
   "outputs": [],
   "source": [
    "%%bash\n",
    "# snscrape --max-results 5000 --since 2020-05-27 twitter-search neurips > neurips_search_5000.txt\n",
    "# Takes ~30 s on a fast connection. Only run if this is your first time through the notebook!\n",
    "# May 27 is the first paper submission deadline. Because snscrape does not offer \"until,\" I cannot\n",
    "# use snscrape to timebox other years; hence I use a hashtag."
   ]
  },
  {
   "cell_type": "code",
   "execution_count": 3,
   "metadata": {
    "execution": {
     "iopub.execute_input": "2020-11-13T13:00:51.597683Z",
     "iopub.status.busy": "2020-11-13T13:00:51.597326Z",
     "iopub.status.idle": "2020-11-13T13:01:24.153209Z",
     "shell.execute_reply": "2020-11-13T13:01:24.152318Z",
     "shell.execute_reply.started": "2020-11-13T13:00:51.597651Z"
    }
   },
   "outputs": [],
   "source": [
    "%%bash\n",
    "# snscrape --max-results 5000 twitter-hashtag neurips2020 > neurips2020_tag_5000.txt"
   ]
  },
  {
   "cell_type": "code",
   "execution_count": 4,
   "metadata": {
    "execution": {
     "iopub.execute_input": "2020-11-13T13:01:47.765125Z",
     "iopub.status.busy": "2020-11-13T13:01:47.764481Z",
     "iopub.status.idle": "2020-11-13T13:04:26.964408Z",
     "shell.execute_reply": "2020-11-13T13:04:26.963334Z",
     "shell.execute_reply.started": "2020-11-13T13:01:47.765067Z"
    }
   },
   "outputs": [],
   "source": [
    "%%bash\n",
    "# snscrape --max-results 5000 twitter-hashtag neurips2019 > neurips2019_tag_5000.txt\n",
    "# snscrape --max-results 5000 twitter-hashtag neurips2018 > neurips2018_tag_5000.txt\n",
    "# snscrape --max-results 5000 twitter-hashtag nips2018 > nips2018_tag_5000.txt\n",
    "# snscrape --max-results 5000 twitter-hashtag nips2017 > nips2017_tag_5000.txt"
   ]
  },
  {
   "cell_type": "markdown",
   "metadata": {},
   "source": [
    "Let's see who was most active on Twitter in 2019:"
   ]
  },
  {
   "cell_type": "code",
   "execution_count": 9,
   "metadata": {
    "execution": {
     "iopub.execute_input": "2020-11-13T13:14:03.649518Z",
     "iopub.status.busy": "2020-11-13T13:14:03.649114Z",
     "iopub.status.idle": "2020-11-13T13:14:03.666523Z",
     "shell.execute_reply": "2020-11-13T13:14:03.665300Z",
     "shell.execute_reply.started": "2020-11-13T13:14:03.649483Z"
    }
   },
   "outputs": [],
   "source": [
    "tweet_list = open(\"neurips2019_tag_5000.txt\").readlines()\n",
    "\n",
    "username_dict = defaultdict(int)\n",
    "for line in tweet_list:\n",
    "    username = line.replace(\"https://twitter.com/\", \"\").split('/')[0]\n",
    "    username_dict[username]+=1\n",
    "\n",
    "user_df = pd.DataFrame([[k, v] for k, v in username_dict.items()], \n",
    "                       columns=['id', 'count'])"
   ]
  },
  {
   "cell_type": "code",
   "execution_count": 10,
   "metadata": {
    "execution": {
     "iopub.execute_input": "2020-11-13T13:14:04.673202Z",
     "iopub.status.busy": "2020-11-13T13:14:04.672850Z",
     "iopub.status.idle": "2020-11-13T13:14:04.683792Z",
     "shell.execute_reply": "2020-11-13T13:14:04.682607Z",
     "shell.execute_reply.started": "2020-11-13T13:14:04.673170Z"
    }
   },
   "outputs": [
    {
     "data": {
      "text/html": [
       "<div>\n",
       "<style scoped>\n",
       "    .dataframe tbody tr th:only-of-type {\n",
       "        vertical-align: middle;\n",
       "    }\n",
       "\n",
       "    .dataframe tbody tr th {\n",
       "        vertical-align: top;\n",
       "    }\n",
       "\n",
       "    .dataframe thead th {\n",
       "        text-align: right;\n",
       "    }\n",
       "</style>\n",
       "<table border=\"1\" class=\"dataframe\">\n",
       "  <thead>\n",
       "    <tr style=\"text-align: right;\">\n",
       "      <th></th>\n",
       "      <th>id</th>\n",
       "      <th>count</th>\n",
       "    </tr>\n",
       "  </thead>\n",
       "  <tbody>\n",
       "    <tr>\n",
       "      <th>544</th>\n",
       "      <td>bgalbraith</td>\n",
       "      <td>161</td>\n",
       "    </tr>\n",
       "    <tr>\n",
       "      <th>557</th>\n",
       "      <td>JFutoma</td>\n",
       "      <td>123</td>\n",
       "    </tr>\n",
       "    <tr>\n",
       "      <th>328</th>\n",
       "      <td>RahelJhirad</td>\n",
       "      <td>79</td>\n",
       "    </tr>\n",
       "    <tr>\n",
       "      <th>95</th>\n",
       "      <td>MeetVancouver</td>\n",
       "      <td>67</td>\n",
       "    </tr>\n",
       "    <tr>\n",
       "      <th>708</th>\n",
       "      <td>BioNLProc</td>\n",
       "      <td>45</td>\n",
       "    </tr>\n",
       "  </tbody>\n",
       "</table>\n",
       "</div>"
      ],
      "text/plain": [
       "                id  count\n",
       "544     bgalbraith    161\n",
       "557        JFutoma    123\n",
       "328    RahelJhirad     79\n",
       "95   MeetVancouver     67\n",
       "708      BioNLProc     45"
      ]
     },
     "execution_count": 10,
     "metadata": {},
     "output_type": "execute_result"
    }
   ],
   "source": [
    "user_df.sort_values(\"count\", ascending=False).head()"
   ]
  },
  {
   "cell_type": "code",
   "execution_count": 11,
   "metadata": {
    "execution": {
     "iopub.execute_input": "2020-11-13T13:15:44.900986Z",
     "iopub.status.busy": "2020-11-13T13:15:44.900634Z",
     "iopub.status.idle": "2020-11-13T13:15:45.013661Z",
     "shell.execute_reply": "2020-11-13T13:15:45.012717Z",
     "shell.execute_reply.started": "2020-11-13T13:15:44.900952Z"
    }
   },
   "outputs": [
    {
     "data": {
      "text/html": [
       "<div>\n",
       "<style scoped>\n",
       "    .dataframe tbody tr th:only-of-type {\n",
       "        vertical-align: middle;\n",
       "    }\n",
       "\n",
       "    .dataframe tbody tr th {\n",
       "        vertical-align: top;\n",
       "    }\n",
       "\n",
       "    .dataframe thead th {\n",
       "        text-align: right;\n",
       "    }\n",
       "</style>\n",
       "<table border=\"1\" class=\"dataframe\">\n",
       "  <thead>\n",
       "    <tr style=\"text-align: right;\">\n",
       "      <th></th>\n",
       "      <th>links</th>\n",
       "      <th>id</th>\n",
       "    </tr>\n",
       "  </thead>\n",
       "  <tbody>\n",
       "    <tr>\n",
       "      <th>0</th>\n",
       "      <td>https://twitter.com/wolfgangb33r/status/132586...</td>\n",
       "      <td>1325867864264478721</td>\n",
       "    </tr>\n",
       "    <tr>\n",
       "      <th>1</th>\n",
       "      <td>https://twitter.com/PhRMA/status/1309601567646...</td>\n",
       "      <td>1309601567646060544</td>\n",
       "    </tr>\n",
       "    <tr>\n",
       "      <th>2</th>\n",
       "      <td>https://twitter.com/adityakusupati/status/1318...</td>\n",
       "      <td>1318751035779739649</td>\n",
       "    </tr>\n",
       "    <tr>\n",
       "      <th>3</th>\n",
       "      <td>https://twitter.com/ab_kimiya/status/131609629...</td>\n",
       "      <td>1316096294520266755</td>\n",
       "    </tr>\n",
       "    <tr>\n",
       "      <th>4</th>\n",
       "      <td>https://twitter.com/shinyML/status/13125621781...</td>\n",
       "      <td>1312562178143248386</td>\n",
       "    </tr>\n",
       "  </tbody>\n",
       "</table>\n",
       "</div>"
      ],
      "text/plain": [
       "                                               links                   id\n",
       "0  https://twitter.com/wolfgangb33r/status/132586...  1325867864264478721\n",
       "1  https://twitter.com/PhRMA/status/1309601567646...  1309601567646060544\n",
       "2  https://twitter.com/adityakusupati/status/1318...  1318751035779739649\n",
       "3  https://twitter.com/ab_kimiya/status/131609629...  1316096294520266755\n",
       "4  https://twitter.com/shinyML/status/13125621781...  1312562178143248386"
      ]
     },
     "execution_count": 11,
     "metadata": {},
     "output_type": "execute_result"
    }
   ],
   "source": [
    "tweet_url = pd.read_csv(\"neurips2019_tag_5000.txt\", index_col= None, header = None, names = [\"links\"])\n",
    "af = lambda x: x[\"links\"].split(\"/\")[-1]\n",
    "tweet_url['id'] = tweet_url.apply(af, axis=1)\n",
    "tweet_url.head()"
   ]
  },
  {
   "cell_type": "markdown",
   "metadata": {},
   "source": [
    "### Retrieving actual tweets using tweepy and the Twitter API:"
   ]
  },
  {
   "cell_type": "code",
   "execution_count": 12,
   "metadata": {
    "execution": {
     "iopub.execute_input": "2020-11-13T13:16:31.220247Z",
     "iopub.status.busy": "2020-11-13T13:16:31.219906Z",
     "iopub.status.idle": "2020-11-13T13:16:31.391876Z",
     "shell.execute_reply": "2020-11-13T13:16:31.391058Z",
     "shell.execute_reply.started": "2020-11-13T13:16:31.220217Z"
    }
   },
   "outputs": [],
   "source": [
    "import tweepy\n",
    "\n",
    "consumer_key = \"FRVGuMgEuhJNQxcMUgLT3MMao\" \n",
    "consumer_secret = \"rFWAW4A4yys6jvPcGdBY4K5wNfFA9Iy2BIQMqr9yhS2I9tYxn8\" \n",
    "access_token = \"939281442621743104-MgHDnMelzUZHeh2Sui0nkJ1oTYfcWHy\" \n",
    "access_token_secret = \"sjQkY0dye7IPJB4MmkSRqatN49gA7n7bNpgdR7liUeLOf\"\n",
    "auth = tweepy.OAuthHandler(consumer_key, consumer_secret) \n",
    "auth.set_access_token(access_token, access_token_secret)\n",
    "api = tweepy.API(auth)"
   ]
  },
  {
   "cell_type": "code",
   "execution_count": 40,
   "metadata": {
    "execution": {
     "iopub.execute_input": "2020-11-13T13:49:29.047078Z",
     "iopub.status.busy": "2020-11-13T13:49:29.046706Z",
     "iopub.status.idle": "2020-11-13T13:50:06.772189Z",
     "shell.execute_reply": "2020-11-13T13:50:06.771201Z",
     "shell.execute_reply.started": "2020-11-13T13:49:29.047045Z"
    }
   },
   "outputs": [],
   "source": [
    "ids = tweet_url['id'].tolist()\n",
    "total_count = len(ids)\n",
    "chunks = (total_count - 1) // 50 + 1\n",
    "\n",
    "def fetch_tw(ids):\n",
    "    list_of_tw_status = api.statuses_lookup(ids, tweet_mode= \"extended\")\n",
    "    empty_data = pd.DataFrame()\n",
    "    for status in list_of_tw_status:\n",
    "        # print(status.id)\n",
    "        tweet_elem = {\"tweet_id\": int(status.id),\n",
    "                    \"screen_name\": status.user.screen_name,\n",
    "                    \"tweet\":status.full_text,\n",
    "                    \"date\":status.created_at}\n",
    "        # print(tweet_elem[\"tweet_id\"])\n",
    "        empty_data = empty_data.append(tweet_elem, ignore_index = True)\n",
    "    empty_data['tweet_id'] = empty_data['tweet_id'].astype(int)\n",
    "    empty_data.to_csv(\"neurips2019_tweets.csv\", mode=\"a\")\n",
    "\n",
    "# Only run once!\n",
    "\n",
    "for i in range(chunks):\n",
    "    batch = ids[i*50:(i+1)*50]\n",
    "    result = fetch_tw(batch)"
   ]
  },
  {
   "cell_type": "markdown",
   "metadata": {},
   "source": [
    "Let's move those tweets into Pandas for analysis:"
   ]
  },
  {
   "cell_type": "code",
   "execution_count": 48,
   "metadata": {
    "execution": {
     "iopub.execute_input": "2020-11-13T13:54:18.711887Z",
     "iopub.status.busy": "2020-11-13T13:54:18.711374Z",
     "iopub.status.idle": "2020-11-13T13:54:18.791958Z",
     "shell.execute_reply": "2020-11-13T13:54:18.790762Z",
     "shell.execute_reply.started": "2020-11-13T13:54:18.711847Z"
    }
   },
   "outputs": [
    {
     "data": {
      "text/html": [
       "<div>\n",
       "<style scoped>\n",
       "    .dataframe tbody tr th:only-of-type {\n",
       "        vertical-align: middle;\n",
       "    }\n",
       "\n",
       "    .dataframe tbody tr th {\n",
       "        vertical-align: top;\n",
       "    }\n",
       "\n",
       "    .dataframe thead th {\n",
       "        text-align: right;\n",
       "    }\n",
       "</style>\n",
       "<table border=\"1\" class=\"dataframe\">\n",
       "  <thead>\n",
       "    <tr style=\"text-align: right;\">\n",
       "      <th></th>\n",
       "      <th>date</th>\n",
       "      <th>screen_name</th>\n",
       "      <th>tweet</th>\n",
       "      <th>tweet_id</th>\n",
       "    </tr>\n",
       "  </thead>\n",
       "  <tbody>\n",
       "    <tr>\n",
       "      <th>0</th>\n",
       "      <td>2020-06-15 18:04:04</td>\n",
       "      <td>goyucel</td>\n",
       "      <td>Dünya #YapayZeka #AI Yetenek Takibi olarak \\n@...</td>\n",
       "      <td>1272590715344879616</td>\n",
       "    </tr>\n",
       "    <tr>\n",
       "      <th>1</th>\n",
       "      <td>2020-10-04 01:16:24</td>\n",
       "      <td>shinyML</td>\n",
       "      <td>rl for chip design 🙌 everyone’s fave game #neu...</td>\n",
       "      <td>1312562178143248384</td>\n",
       "    </tr>\n",
       "    <tr>\n",
       "      <th>2</th>\n",
       "      <td>2020-06-14 03:01:00</td>\n",
       "      <td>KirkDBorne</td>\n",
       "      <td>Analysis of #NeurIPS2019 papers by themes: htt...</td>\n",
       "      <td>1272001061054799872</td>\n",
       "    </tr>\n",
       "  </tbody>\n",
       "</table>\n",
       "</div>"
      ],
      "text/plain": [
       "                 date screen_name  \\\n",
       "0 2020-06-15 18:04:04     goyucel   \n",
       "1 2020-10-04 01:16:24     shinyML   \n",
       "2 2020-06-14 03:01:00  KirkDBorne   \n",
       "\n",
       "                                               tweet             tweet_id  \n",
       "0  Dünya #YapayZeka #AI Yetenek Takibi olarak \\n@...  1272590715344879616  \n",
       "1  rl for chip design 🙌 everyone’s fave game #neu...  1312562178143248384  \n",
       "2  Analysis of #NeurIPS2019 papers by themes: htt...  1272001061054799872  "
      ]
     },
     "execution_count": 48,
     "metadata": {},
     "output_type": "execute_result"
    }
   ],
   "source": [
    "df_2019 = pd.read_csv(\"neurips2019_tweets.csv\", index_col=0).reset_index(drop = True)\n",
    "df_2019['date'] = pd.to_datetime(df_2019['date'], infer_datetime_format=True, errors='coerce')\n",
    "df_2019 = df_2019[df_2019.tweet_id != 'tweet_id'] # removes rows with missing tweet_id\n",
    "df_2019['tweet_id'] = df_2019['tweet_id'].astype(int)\n",
    "df_2019.head(3)"
   ]
  },
  {
   "cell_type": "code",
   "execution_count": 50,
   "metadata": {
    "execution": {
     "iopub.execute_input": "2020-11-13T13:54:55.662053Z",
     "iopub.status.busy": "2020-11-13T13:54:55.661714Z",
     "iopub.status.idle": "2020-11-13T13:54:55.668767Z",
     "shell.execute_reply": "2020-11-13T13:54:55.667704Z",
     "shell.execute_reply.started": "2020-11-13T13:54:55.662024Z"
    }
   },
   "outputs": [
    {
     "data": {
      "text/plain": [
       "date           datetime64[ns]\n",
       "screen_name            object\n",
       "tweet                  object\n",
       "tweet_id                int64\n",
       "dtype: object"
      ]
     },
     "execution_count": 50,
     "metadata": {},
     "output_type": "execute_result"
    }
   ],
   "source": [
    "df_2019.dtypes"
   ]
  },
  {
   "cell_type": "code",
   "execution_count": 51,
   "metadata": {
    "execution": {
     "iopub.execute_input": "2020-11-13T13:55:09.893358Z",
     "iopub.status.busy": "2020-11-13T13:55:09.892841Z",
     "iopub.status.idle": "2020-11-13T13:55:09.900600Z",
     "shell.execute_reply": "2020-11-13T13:55:09.899191Z",
     "shell.execute_reply.started": "2020-11-13T13:55:09.893309Z"
    }
   },
   "outputs": [
    {
     "data": {
      "text/plain": [
       "(5000, 4)"
      ]
     },
     "execution_count": 51,
     "metadata": {},
     "output_type": "execute_result"
    }
   ],
   "source": [
    "df_2019.shape"
   ]
  },
  {
   "cell_type": "code",
   "execution_count": 53,
   "metadata": {
    "execution": {
     "iopub.execute_input": "2020-11-13T13:56:30.611325Z",
     "iopub.status.busy": "2020-11-13T13:56:30.610737Z",
     "iopub.status.idle": "2020-11-13T13:56:30.628041Z",
     "shell.execute_reply": "2020-11-13T13:56:30.626699Z",
     "shell.execute_reply.started": "2020-11-13T13:56:30.611265Z"
    }
   },
   "outputs": [],
   "source": [
    "df_2019.to_pickle(\"./df_2019.pkl\")"
   ]
  },
  {
   "cell_type": "code",
   "execution_count": null,
   "metadata": {},
   "outputs": [],
   "source": []
  }
 ],
 "metadata": {
  "kernelspec": {
   "display_name": "Python [conda env:metis] *",
   "language": "python",
   "name": "conda-env-metis-py"
  },
  "language_info": {
   "codemirror_mode": {
    "name": "ipython",
    "version": 3
   },
   "file_extension": ".py",
   "mimetype": "text/x-python",
   "name": "python",
   "nbconvert_exporter": "python",
   "pygments_lexer": "ipython3",
   "version": "3.8.6"
  }
 },
 "nbformat": 4,
 "nbformat_minor": 4
}
