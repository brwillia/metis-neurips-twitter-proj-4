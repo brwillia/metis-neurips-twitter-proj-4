{
 "cells": [
  {
   "cell_type": "code",
   "execution_count": 1,
   "metadata": {
    "execution": {
     "iopub.execute_input": "2020-11-15T22:54:50.397302Z",
     "iopub.status.busy": "2020-11-15T22:54:50.396898Z",
     "iopub.status.idle": "2020-11-15T22:54:53.405706Z",
     "shell.execute_reply": "2020-11-15T22:54:53.404922Z",
     "shell.execute_reply.started": "2020-11-15T22:54:50.397221Z"
    }
   },
   "outputs": [],
   "source": [
    "import numpy as np\n",
    "import pandas as pd\n",
    "import matplotlib.pyplot as plt\n",
    "\n",
    "from sklearn.cluster import KMeans \n",
    "from sklearn.feature_extraction.text import CountVectorizer, TfidfVectorizer, ENGLISH_STOP_WORDS\n",
    "from sklearn.decomposition import PCA\n",
    "from sklearn.preprocessing import normalize\n",
    "from sklearn.metrics import pairwise_distances\n",
    "\n",
    "import nltk\n",
    "import string\n",
    "\n",
    "df = pd.read_pickle(\"./2019_cleaned.pkl\")"
   ]
  },
  {
   "cell_type": "code",
   "execution_count": 28,
   "metadata": {
    "execution": {
     "iopub.execute_input": "2020-11-15T23:07:37.130201Z",
     "iopub.status.busy": "2020-11-15T23:07:37.129835Z",
     "iopub.status.idle": "2020-11-15T23:07:37.377888Z",
     "shell.execute_reply": "2020-11-15T23:07:37.377000Z",
     "shell.execute_reply.started": "2020-11-15T23:07:37.130170Z"
    }
   },
   "outputs": [],
   "source": [
    "from sklearn.feature_extraction.text import TfidfVectorizer\n",
    "stop_words = ENGLISH_STOP_WORDS.union(['neruips','neurips2019'])\n",
    "data = df['cleaned_tweet']\n",
    "\n",
    "tf_idf_vectorizor = TfidfVectorizer(stop_words = stop_words, max_features = 20000)\n",
    "tf_idf = tf_idf_vectorizor.fit_transform(data)\n",
    "tf_idf_norm = normalize(tf_idf)\n",
    "tf_idf_array = tf_idf_norm.toarray()"
   ]
  },
  {
   "cell_type": "code",
   "execution_count": 22,
   "metadata": {
    "execution": {
     "iopub.execute_input": "2020-11-15T23:04:10.250847Z",
     "iopub.status.busy": "2020-11-15T23:04:10.250462Z",
     "iopub.status.idle": "2020-11-15T23:04:10.280421Z",
     "shell.execute_reply": "2020-11-15T23:04:10.279167Z",
     "shell.execute_reply.started": "2020-11-15T23:04:10.250813Z"
    }
   },
   "outputs": [
    {
     "data": {
      "text/html": [
       "<div>\n",
       "<style scoped>\n",
       "    .dataframe tbody tr th:only-of-type {\n",
       "        vertical-align: middle;\n",
       "    }\n",
       "\n",
       "    .dataframe tbody tr th {\n",
       "        vertical-align: top;\n",
       "    }\n",
       "\n",
       "    .dataframe thead th {\n",
       "        text-align: right;\n",
       "    }\n",
       "</style>\n",
       "<table border=\"1\" class=\"dataframe\">\n",
       "  <thead>\n",
       "    <tr style=\"text-align: right;\">\n",
       "      <th></th>\n",
       "      <th>date</th>\n",
       "      <th>screen_name</th>\n",
       "      <th>tweet</th>\n",
       "      <th>tweet_id</th>\n",
       "      <th>lang</th>\n",
       "      <th>cleaned_tweet</th>\n",
       "    </tr>\n",
       "  </thead>\n",
       "  <tbody>\n",
       "    <tr>\n",
       "      <th>1</th>\n",
       "      <td>2020-10-04 01:16:24</td>\n",
       "      <td>shinyML</td>\n",
       "      <td>rl for chip design 🙌 everyone’s fave game #neu...</td>\n",
       "      <td>1312562178143248384</td>\n",
       "      <td>en</td>\n",
       "      <td>rl for chip design  everyone’s fave game</td>\n",
       "    </tr>\n",
       "    <tr>\n",
       "      <th>2</th>\n",
       "      <td>2020-06-14 03:01:00</td>\n",
       "      <td>KirkDBorne</td>\n",
       "      <td>Analysis of #NeurIPS2019 papers by themes: htt...</td>\n",
       "      <td>1272001061054799872</td>\n",
       "      <td>en</td>\n",
       "      <td>analysis of  papers by themes    ——————————   ...</td>\n",
       "    </tr>\n",
       "    <tr>\n",
       "      <th>3</th>\n",
       "      <td>2020-06-30 14:14:21</td>\n",
       "      <td>arXiv__ml</td>\n",
       "      <td>RT @Xingyu2017: How should we combine multiple...</td>\n",
       "      <td>1277968719969259520</td>\n",
       "      <td>en</td>\n",
       "      <td>rt  how should we combine multiple auxiliary t...</td>\n",
       "    </tr>\n",
       "  </tbody>\n",
       "</table>\n",
       "</div>"
      ],
      "text/plain": [
       "                 date screen_name  \\\n",
       "1 2020-10-04 01:16:24     shinyML   \n",
       "2 2020-06-14 03:01:00  KirkDBorne   \n",
       "3 2020-06-30 14:14:21   arXiv__ml   \n",
       "\n",
       "                                               tweet             tweet_id  \\\n",
       "1  rl for chip design 🙌 everyone’s fave game #neu...  1312562178143248384   \n",
       "2  Analysis of #NeurIPS2019 papers by themes: htt...  1272001061054799872   \n",
       "3  RT @Xingyu2017: How should we combine multiple...  1277968719969259520   \n",
       "\n",
       "  lang                                      cleaned_tweet  \n",
       "1   en         rl for chip design  everyone’s fave game    \n",
       "2   en  analysis of  papers by themes    ——————————   ...  \n",
       "3   en  rt  how should we combine multiple auxiliary t...  "
      ]
     },
     "execution_count": 22,
     "metadata": {},
     "output_type": "execute_result"
    }
   ],
   "source": [
    "df.head(3)"
   ]
  },
  {
   "cell_type": "markdown",
   "metadata": {
    "execution": {
     "iopub.execute_input": "2020-11-15T22:55:26.467887Z",
     "iopub.status.busy": "2020-11-15T22:55:26.467500Z",
     "iopub.status.idle": "2020-11-15T22:55:26.472077Z",
     "shell.execute_reply": "2020-11-15T22:55:26.470853Z",
     "shell.execute_reply.started": "2020-11-15T22:55:26.467854Z"
    }
   },
   "source": [
    "## A Topic Modeling Class, courtesty of Anterra:"
   ]
  },
  {
   "cell_type": "code",
   "execution_count": 26,
   "metadata": {
    "execution": {
     "iopub.execute_input": "2020-11-15T23:07:01.765361Z",
     "iopub.status.busy": "2020-11-15T23:07:01.764951Z",
     "iopub.status.idle": "2020-11-15T23:07:01.782173Z",
     "shell.execute_reply": "2020-11-15T23:07:01.780328Z",
     "shell.execute_reply.started": "2020-11-15T23:07:01.765328Z"
    }
   },
   "outputs": [],
   "source": [
    "from gensim import corpora, models, similarities, matutils\n",
    "from sklearn.decomposition import TruncatedSVD, NMF\n",
    "\n",
    "class topic_model():\n",
    "\n",
    "    def __init__(self, data, vectorizer, model, num_topics):\n",
    "        self.data = data\n",
    "        self.vectorizer = vectorizer\n",
    "        self.model = model\n",
    "        self.num_topics = num_topics \n",
    "\n",
    "\n",
    "    def vectorize(self):\n",
    "        if self.vectorizer == \"cv\":\n",
    "            if self.model == \"corex\":\n",
    "                vec = CountVectorizer(stop_words=stop_words, ngram_range=(1, 3), binary=True)\n",
    "            else:\n",
    "                vec = CountVectorizer(stop_words=stop_words, ngram_range=(1, 3))\n",
    "        elif self.vectorizer == \"tfidf\":\n",
    "            vec = TfidfVectorizer(stop_words=stop_words, ngram_range=(1, 3))\n",
    "        else: print(\"Please define a valid vectorizer.\")\n",
    "\n",
    "        self.doc_word = vec.fit_transform(self.data)\n",
    "        self.feature_names = vec.get_feature_names()\n",
    "        self.words = list(np.asarray(vec.get_feature_names()))\n",
    "        self.corpus = matutils.Sparse2Corpus(self.doc_word.transpose())\n",
    "        self.id2word = dict((v, k) for k, v in vec.vocabulary_.items())\n",
    "    \n",
    "\n",
    "    def display_topics(self):\n",
    "        if self.model == \"lda\":\n",
    "            model = models.LdaModel(corpus=self.corpus, num_topics=self.num_topics, id2word=self.id2word, passes=5, random_state=42)\n",
    "            topics = model.print_topics()\n",
    "            print(topics)\n",
    "\n",
    "        elif self.model == \"corex\":\n",
    "            model = corextopic.Corex(n_hidden=self.num_topics, words=self.words, seed=1, max_iter=200)\n",
    "            model.fit(self.doc_word, words=self.words, docs=self.data)\n",
    "            topics = model.get_topics()\n",
    "            print(topics)\n",
    "            for n,topic in enumerate(topics):\n",
    "                topic_words,_ = zip(*topic)\n",
    "            print('{}: '.format(n) + ','.join(topic_words))\n",
    "\n",
    "        else:\n",
    "            if self.model == \"lsa\":\n",
    "                model = TruncatedSVD(self.num_topics)\n",
    "            elif self.model == \"nmf\":\n",
    "                model = NMF(self.num_topics)\n",
    "            else: print(\"Please define a valid model.\")\n",
    "\n",
    "            doc_topic = model.fit_transform(self.doc_word)\n",
    "            for ix, topic in enumerate(model.components_):\n",
    "                print(\"\\nTopic \", ix)\n",
    "                print(\", \".join([self.feature_names[i] for i in topic.argsort()[:-21:-1]]))"
   ]
  },
  {
   "cell_type": "markdown",
   "metadata": {},
   "source": [
    "### Let's begin with LSA, using a pipeline:"
   ]
  },
  {
   "cell_type": "code",
   "execution_count": 17,
   "metadata": {
    "execution": {
     "iopub.execute_input": "2020-11-15T22:58:30.407597Z",
     "iopub.status.busy": "2020-11-15T22:58:30.407130Z",
     "iopub.status.idle": "2020-11-15T22:58:30.412063Z",
     "shell.execute_reply": "2020-11-15T22:58:30.411251Z",
     "shell.execute_reply.started": "2020-11-15T22:58:30.407554Z"
    }
   },
   "outputs": [],
   "source": [
    "def pipeline(data, vectorizer, model, num_topics):\n",
    "    x = topic_model(data, vectorizer, model, num_topics)\n",
    "    x.vectorize()\n",
    "    x.display_topics()"
   ]
  },
  {
   "cell_type": "code",
   "execution_count": 18,
   "metadata": {
    "execution": {
     "iopub.execute_input": "2020-11-15T22:58:31.001990Z",
     "iopub.status.busy": "2020-11-15T22:58:31.001682Z",
     "iopub.status.idle": "2020-11-15T22:58:31.005433Z",
     "shell.execute_reply": "2020-11-15T22:58:31.004656Z",
     "shell.execute_reply.started": "2020-11-15T22:58:31.001967Z"
    }
   },
   "outputs": [],
   "source": [
    "corpus = df[\"cleaned_tweet\"]"
   ]
  },
  {
   "cell_type": "code",
   "execution_count": 30,
   "metadata": {
    "execution": {
     "iopub.execute_input": "2020-11-15T23:10:07.228733Z",
     "iopub.status.busy": "2020-11-15T23:10:07.228365Z",
     "iopub.status.idle": "2020-11-15T23:10:08.556048Z",
     "shell.execute_reply": "2020-11-15T23:10:08.555281Z",
     "shell.execute_reply.started": "2020-11-15T23:10:07.228701Z"
    }
   },
   "outputs": [
    {
     "name": "stdout",
     "output_type": "stream",
     "text": [
      "\n",
      "Topic  0\n",
      "learning, workshop, poster, deep, work, talk, machine, machine learning, amp, deep learning, paper, come, ai, today, presenting, ml, great, research, hall, session\n",
      "\n",
      "Topic  1\n",
      "poster, work, come, session, hall, east, today, poster session, exhibition, exhibition hall, east exhibition hall, east exhibition, paper, presenting, workshop, amp, ml, pm, check, ai\n",
      "\n",
      "Topic  2\n",
      "workshop, amp, ml, ai, talk, great, good, work, social, research, neuripsconf, talks, systems, fairness, thanks, panel, social good, climate, join, health\n",
      "\n",
      "Topic  3\n",
      "machine, machine learning, dibr, researchers, learn, using, week, framework, object, presenting, called, savage, nvidia, rendering, images, framework called, called dibr produces, called dibr, rendering framework, rendering framework called\n",
      "\n",
      "Topic  4\n",
      "paper, amp, ai, research, neuripsconf, work, deep, deep learning, new, researchers, neural, talk, best, models, yoshua, bengio, conference, learn, need, team\n",
      "\n",
      "Topic  5\n",
      "amp, savage, talk, engineering, design, rest, performance, chance, outside, modern, rise, engineering modern design, chance rise, modern design gear, gear machine savage, chance rise rest, gear machine, lenovo legion playapex, gear, stylish outside\n",
      "\n",
      "Topic  6\n",
      "paper, work, workshop, savage, performance, new, rl, best, inside, chance, modern, outside, engineering, design, rest, rise, gear, gear machine, gear machine savage, performance purposeful engineering\n",
      "\n",
      "Topic  7\n",
      "amp, paper, ml, rt, neural, workshop, network, learning, fairness, mixtape, softmax, tomorrow, code, check, used, fairness amp, west, presents, zacharylipton, ml systems\n",
      "\n",
      "Topic  8\n",
      "clinical, rigorous, trials, clinical trials, rigorous clinical, rigorous clinical trials, researchers, best, need, big, best researchers, big need best, researchers rigorous clinical, big need, stakes big, researchers rigorous, stakes big need, best researchers rigorous, stakes, need best researchers\n",
      "\n",
      "Topic  9\n",
      "work, ai, deep, deep learning, presenting, amp, presenting work, workshop, yoshua, bengio, yoshua bengio, researchers, good, bayesian, session, savage, social good, big, rigorous, clinical\n"
     ]
    }
   ],
   "source": [
    "pipeline(corpus, \"cv\", \"lsa\", 10)"
   ]
  },
  {
   "cell_type": "code",
   "execution_count": 23,
   "metadata": {
    "execution": {
     "iopub.execute_input": "2020-11-15T23:04:20.679788Z",
     "iopub.status.busy": "2020-11-15T23:04:20.679222Z",
     "iopub.status.idle": "2020-11-15T23:04:32.468831Z",
     "shell.execute_reply": "2020-11-15T23:04:32.467920Z",
     "shell.execute_reply.started": "2020-11-15T23:04:20.679741Z"
    }
   },
   "outputs": [],
   "source": [
    "import spacy\n",
    "nlp = spacy.load('en_core_web_sm', disable=[\"parser\", \"ner\"])\n",
    "spacy_lemmatize = lambda x: \" \".join([token.lemma_ for token in nlp(x)])\n",
    "df['spacy_lemma'] = df['cleaned_tweet'].apply(spacy_lemmatize)"
   ]
  },
  {
   "cell_type": "code",
   "execution_count": 24,
   "metadata": {
    "execution": {
     "iopub.execute_input": "2020-11-15T23:04:37.720913Z",
     "iopub.status.busy": "2020-11-15T23:04:37.720339Z",
     "iopub.status.idle": "2020-11-15T23:04:37.742347Z",
     "shell.execute_reply": "2020-11-15T23:04:37.741145Z",
     "shell.execute_reply.started": "2020-11-15T23:04:37.720860Z"
    }
   },
   "outputs": [
    {
     "data": {
      "text/html": [
       "<div>\n",
       "<style scoped>\n",
       "    .dataframe tbody tr th:only-of-type {\n",
       "        vertical-align: middle;\n",
       "    }\n",
       "\n",
       "    .dataframe tbody tr th {\n",
       "        vertical-align: top;\n",
       "    }\n",
       "\n",
       "    .dataframe thead th {\n",
       "        text-align: right;\n",
       "    }\n",
       "</style>\n",
       "<table border=\"1\" class=\"dataframe\">\n",
       "  <thead>\n",
       "    <tr style=\"text-align: right;\">\n",
       "      <th></th>\n",
       "      <th>date</th>\n",
       "      <th>screen_name</th>\n",
       "      <th>tweet</th>\n",
       "      <th>tweet_id</th>\n",
       "      <th>lang</th>\n",
       "      <th>cleaned_tweet</th>\n",
       "      <th>spacy_lemma</th>\n",
       "    </tr>\n",
       "  </thead>\n",
       "  <tbody>\n",
       "    <tr>\n",
       "      <th>1</th>\n",
       "      <td>2020-10-04 01:16:24</td>\n",
       "      <td>shinyML</td>\n",
       "      <td>rl for chip design 🙌 everyone’s fave game #neu...</td>\n",
       "      <td>1312562178143248384</td>\n",
       "      <td>en</td>\n",
       "      <td>rl for chip design  everyone’s fave game</td>\n",
       "      <td>rl for chip design   everyone ’s fave game</td>\n",
       "    </tr>\n",
       "    <tr>\n",
       "      <th>2</th>\n",
       "      <td>2020-06-14 03:01:00</td>\n",
       "      <td>KirkDBorne</td>\n",
       "      <td>Analysis of #NeurIPS2019 papers by themes: htt...</td>\n",
       "      <td>1272001061054799872</td>\n",
       "      <td>en</td>\n",
       "      <td>analysis of  papers by themes    ——————————   ...</td>\n",
       "      <td>analysis of   paper by theme     — — — — — — —...</td>\n",
       "    </tr>\n",
       "    <tr>\n",
       "      <th>3</th>\n",
       "      <td>2020-06-30 14:14:21</td>\n",
       "      <td>arXiv__ml</td>\n",
       "      <td>RT @Xingyu2017: How should we combine multiple...</td>\n",
       "      <td>1277968719969259520</td>\n",
       "      <td>en</td>\n",
       "      <td>rt  how should we combine multiple auxiliary t...</td>\n",
       "      <td>rt   how should -PRON- combine multiple auxili...</td>\n",
       "    </tr>\n",
       "  </tbody>\n",
       "</table>\n",
       "</div>"
      ],
      "text/plain": [
       "                 date screen_name  \\\n",
       "1 2020-10-04 01:16:24     shinyML   \n",
       "2 2020-06-14 03:01:00  KirkDBorne   \n",
       "3 2020-06-30 14:14:21   arXiv__ml   \n",
       "\n",
       "                                               tweet             tweet_id  \\\n",
       "1  rl for chip design 🙌 everyone’s fave game #neu...  1312562178143248384   \n",
       "2  Analysis of #NeurIPS2019 papers by themes: htt...  1272001061054799872   \n",
       "3  RT @Xingyu2017: How should we combine multiple...  1277968719969259520   \n",
       "\n",
       "  lang                                      cleaned_tweet  \\\n",
       "1   en         rl for chip design  everyone’s fave game     \n",
       "2   en  analysis of  papers by themes    ——————————   ...   \n",
       "3   en  rt  how should we combine multiple auxiliary t...   \n",
       "\n",
       "                                         spacy_lemma  \n",
       "1       rl for chip design   everyone ’s fave game    \n",
       "2  analysis of   paper by theme     — — — — — — —...  \n",
       "3  rt   how should -PRON- combine multiple auxili...  "
      ]
     },
     "execution_count": 24,
     "metadata": {},
     "output_type": "execute_result"
    }
   ],
   "source": [
    "df.head(3)"
   ]
  },
  {
   "cell_type": "markdown",
   "metadata": {},
   "source": [
    "Hmm, no improvement for some reason."
   ]
  },
  {
   "cell_type": "code",
   "execution_count": 31,
   "metadata": {
    "execution": {
     "iopub.execute_input": "2020-11-15T23:10:41.265383Z",
     "iopub.status.busy": "2020-11-15T23:10:41.264681Z",
     "iopub.status.idle": "2020-11-15T23:10:42.418540Z",
     "shell.execute_reply": "2020-11-15T23:10:42.417548Z",
     "shell.execute_reply.started": "2020-11-15T23:10:41.265296Z"
    }
   },
   "outputs": [
    {
     "name": "stdout",
     "output_type": "stream",
     "text": [
      "\n",
      "Topic  0\n",
      "clinical trials, rigorous clinical trials, rigorous clinical, trials, rigorous, clinical, stakes big, researchers rigorous, big need best, stakes, need best, need best researchers, big need, researchers rigorous clinical, stakes big need, best researchers rigorous, best researchers, big, best, need\n",
      "\n",
      "Topic  1\n",
      "learning, deep, deep learning, neurips, reflections neurips, reflections, workshop, poster, yoshua, machine, bengio, yoshua bengio, machine learning, talk, learning deep, learning deep learning, deep learning deep, work, ai, paper\n",
      "\n",
      "Topic  2\n",
      "reflections neurips, reflections, neurips, papers themes, analysis papers themes, themes, analysis papers, neurips analysis papers, neurips analysis, just published reflections, published reflections neurips, published reflections, just published, papers, neurips neurips, bigram poem inspired, poem, poem inspired, bigram, bigram poem\n",
      "\n",
      "Topic  3\n",
      "dibr, machine, framework, called dibr produces, rendering framework called, produces, rendering framework, dibr produces, framework called dibr, framework called, called dibr, rendering, researchers, machine learning, object, objects images, dibr produces objects, produces objects, produces objects images, learn\n",
      "\n",
      "Topic  4\n",
      "vaccine tested tens, patients approval, vaccine, thousands patients approval, thousands patients, tested tens thousands, tested tens, world rigorous, vaccine tested, covid vaccine tested, mean covid vaccine, world rigorous clinical, mean covid, covid vaccine, tens thousands patients, covid, tens thousands, tens, trials mean covid, trials mean\n",
      "\n",
      "Topic  5\n",
      "savage, design gear, playapex, stylish, machine savage stylish, machine savage, performance purposeful engineering, performance purposeful, engineering modern design, engineering modern, playapex chance, savage stylish outside, modern design gear, stylish outside savage, playapex chance rise, savage inside, savage stylish, rest unmatched performance, outside savage inside, rise rest unmatched\n",
      "\n",
      "Topic  6\n",
      "deep learning, deep, dibr, learning, yoshua, yoshua bengio, bengio, deep learning deep, learning deep learning, learning deep, dibr produces, called dibr produces, framework called, called dibr, rendering framework called, rendering framework, framework called dibr, produces, rendering, objects images\n",
      "\n",
      "Topic  7\n",
      "thing neutral, neutral, celestekidd, neutral platform, thing neutral platform, theres thing neutral, theres thing, thing, pushing content, platform, impacts believe, profound impacts, profound impacts believe, profound, platform celestekidd, impacts, content, pushing, believe, neutral platform celestekidd\n",
      "\n",
      "Topic  8\n",
      "poster, session, poster session, hall, deep, deep learning, exhibition hall, exhibition, east exhibition, east exhibition hall, east, pursuit, object, pursuit object, clear behaviors teamformation, clear behaviors, pursuit object learn, new framework researchers, behaviors teamformation collaborative, demonstrates clear behaviors\n",
      "\n",
      "Topic  9\n",
      "object learn, teamformation collaborative pursuit, demonstrates clear behaviors, pursuit object learn, pursuit object, collaborative pursuit object, collaborative pursuit, framework researchers, behaviors teamformation, new framework researchers, new framework, demonstrates clear, clear behaviors, clear behaviors teamformation, teamformation, teamformation collaborative, behaviors teamformation collaborative, demonstrates, behaviors, pursuit\n"
     ]
    }
   ],
   "source": [
    "pipeline(corpus, \"tfidf\", \"lsa\", 10)"
   ]
  },
  {
   "cell_type": "markdown",
   "metadata": {},
   "source": [
    "### Back to NMF, now with pipelines:"
   ]
  },
  {
   "cell_type": "code",
   "execution_count": 32,
   "metadata": {
    "execution": {
     "iopub.execute_input": "2020-11-15T23:12:57.962387Z",
     "iopub.status.busy": "2020-11-15T23:12:57.962034Z",
     "iopub.status.idle": "2020-11-15T23:13:01.143189Z",
     "shell.execute_reply": "2020-11-15T23:13:01.142505Z",
     "shell.execute_reply.started": "2020-11-15T23:12:57.962356Z"
    }
   },
   "outputs": [
    {
     "name": "stdout",
     "output_type": "stream",
     "text": [
      "\n",
      "Topic  0\n",
      "learning, deep, deep learning, machine learning, machine, bayesian, yoshua, bengio, yoshua bengio, learning workshop, reinforcement, reinforcement learning, learning deep, learning deep learning, deep learning deep, bayesian deep, bayesian deep learning, data, graph, talk\n",
      "\n",
      "Topic  1\n",
      "poster, hall, come, session, east, exhibition, exhibition hall, poster session, today, east exhibition hall, east exhibition, pm, bc, hall bc, dec, exhibition hall bc, check, west, presenting, come poster\n",
      "\n",
      "Topic  2\n",
      "workshop, ml, west, learning workshop, presenting, rl, panel, talks, climate, tomorrow, change, today, come, climate change, workshop today, great, rl workshop, saturday, check, graph\n",
      "\n",
      "Topic  3\n",
      "dibr, machine, machine learning, learn, researchers, using, framework, called, week, object, rendering, framework called dibr, framework called, called dibr produces, produces, rendering framework, dibr produces, rendering framework called, called dibr, nvidia\n",
      "\n",
      "Topic  4\n",
      "talk, ai, great, neuripsconf, research, good, social, people, conference, neurips, time, celestekidd, know, vancouver, just, amazing, data, social good, great talk, want\n",
      "\n",
      "Topic  5\n",
      "savage, machine, design, performance, engineering, chance, rest, modern, outside, inside, rise, modern design gear, savage inside, playapex chance, playapex, rest unmatched performance, rest unmatched, stylish outside savage, stylish outside, unmatched performance purposeful\n",
      "\n",
      "Topic  6\n",
      "paper, research, new, award, check, code, neural, papers, best, tasks, rl, method, paper award, paper code, networks, presented, check paper, best paper, multiple, time\n",
      "\n",
      "Topic  7\n",
      "amp, ml, rt, network, mixtape, softmax, models, fairness, neuripsconf, talks, systems, team, research, neural, tomorrow, used, data, fairness amp, join, layer\n",
      "\n",
      "Topic  8\n",
      "clinical, rigorous, trials, clinical trials, rigorous clinical, rigorous clinical trials, researchers, need, best, big, best researchers, best researchers rigorous, big need best, researchers rigorous, big need, stakes big need, stakes big, stakes, need best, need best researchers\n",
      "\n",
      "Topic  9\n",
      "work, presenting, presenting work, great, joint, joint work, today, using, neural, im, check, present work, interesting, rl, presented, present, great work, networks, stop, models\n"
     ]
    }
   ],
   "source": [
    "pipeline(corpus, \"cv\", \"nmf\", 10)"
   ]
  },
  {
   "cell_type": "markdown",
   "metadata": {},
   "source": [
    "### LDA:"
   ]
  },
  {
   "cell_type": "code",
   "execution_count": 33,
   "metadata": {
    "execution": {
     "iopub.execute_input": "2020-11-15T23:13:53.329952Z",
     "iopub.status.busy": "2020-11-15T23:13:53.329556Z",
     "iopub.status.idle": "2020-11-15T23:14:03.635801Z",
     "shell.execute_reply": "2020-11-15T23:14:03.635051Z",
     "shell.execute_reply.started": "2020-11-15T23:13:53.329916Z"
    }
   },
   "outputs": [
    {
     "name": "stdout",
     "output_type": "stream",
     "text": [
      "[(0, '0.007*\"talk\" + 0.007*\"poster\" + 0.006*\"learning\" + 0.006*\"great\" + 0.005*\"session\" + 0.005*\"ml\" + 0.004*\"workshop\" + 0.004*\"work\" + 0.004*\"vancouver\" + 0.004*\"poster session\"'), (1, '0.003*\"upcoming\" + 0.003*\"fairness\" + 0.002*\"representation learning\" + 0.002*\"representation\" + 0.002*\"learning\" + 0.001*\"learning fairness\" + 0.001*\"individual fairness\" + 0.001*\"stage\" + 0.001*\"heading\" + 0.001*\"graph representation learning\"'), (2, '0.005*\"celestekidd\" + 0.002*\"pm east\" + 0.002*\"rest\" + 0.002*\"talk celestekidd\" + 0.002*\"ai\" + 0.002*\"thing\" + 0.002*\"talk\" + 0.001*\"platform\" + 0.001*\"opportunities\" + 0.001*\"social\"'), (3, '0.005*\"ai\" + 0.005*\"papers\" + 0.003*\"neurips\" + 0.002*\"researchers\" + 0.002*\"amp\" + 0.002*\"research\" + 0.002*\"work\" + 0.002*\"world\" + 0.002*\"conference\" + 0.002*\"year\"'), (4, '0.003*\"hi\" + 0.002*\"amp\" + 0.002*\"say\" + 0.002*\"say hi\" + 0.002*\"lunch\" + 0.002*\"come say\" + 0.002*\"certainty\" + 0.002*\"neuripsconf\" + 0.002*\"come say hi\" + 0.002*\"learning\"'), (5, '0.009*\"poster\" + 0.007*\"learning\" + 0.006*\"work\" + 0.006*\"workshop\" + 0.005*\"come\" + 0.004*\"deep\" + 0.004*\"talk\" + 0.004*\"presenting\" + 0.003*\"amp\" + 0.003*\"paper\"'), (6, '0.003*\"opening\" + 0.002*\"data\" + 0.002*\"graphs\" + 0.002*\"science\" + 0.002*\"conference\" + 0.002*\"women\" + 0.002*\"thank\" + 0.002*\"ai\" + 0.002*\"yu\" + 0.002*\"bin\"'), (7, '0.005*\"bengio\" + 0.004*\"yoshua\" + 0.004*\"learning\" + 0.004*\"deep learning\" + 0.004*\"yoshua bengio\" + 0.003*\"deep\" + 0.002*\"paper\" + 0.001*\"opening\" + 0.001*\"new\" + 0.001*\"multimodal\"'), (8, '0.008*\"hall\" + 0.007*\"learning\" + 0.007*\"east\" + 0.005*\"exhibition\" + 0.005*\"exhibition hall\" + 0.004*\"east exhibition hall\" + 0.004*\"east exhibition\" + 0.004*\"poster\" + 0.003*\"dec\" + 0.003*\"work\"'), (9, '0.006*\"lxai\" + 0.003*\"workshop\" + 0.003*\"learning\" + 0.003*\"research\" + 0.002*\"paper\" + 0.002*\"models\" + 0.002*\"work\" + 0.002*\"interpretable\" + 0.002*\"people\" + 0.002*\"distributions\"')]\n"
     ]
    }
   ],
   "source": [
    "pipeline(corpus, \"cv\", \"lda\", 10)"
   ]
  },
  {
   "cell_type": "code",
   "execution_count": 34,
   "metadata": {
    "execution": {
     "iopub.execute_input": "2020-11-15T23:16:38.309103Z",
     "iopub.status.busy": "2020-11-15T23:16:38.308614Z",
     "iopub.status.idle": "2020-11-15T23:16:46.502158Z",
     "shell.execute_reply": "2020-11-15T23:16:46.501405Z",
     "shell.execute_reply.started": "2020-11-15T23:16:38.309066Z"
    }
   },
   "outputs": [
    {
     "name": "stdout",
     "output_type": "stream",
     "text": [
      "[(0, '0.003*\"learning\" + 0.003*\"poster\" + 0.002*\"great\" + 0.002*\"work\" + 0.002*\"talk\" + 0.002*\"workshop\" + 0.002*\"come\" + 0.002*\"session\" + 0.001*\"amp\" + 0.001*\"tutorial\"'), (1, '0.001*\"representation\" + 0.001*\"representation learning\" + 0.001*\"fairness\" + 0.000*\"reading\" + 0.000*\"learning fairness\" + 0.000*\"app\" + 0.000*\"distributions\" + 0.000*\"et\" + 0.000*\"et al\" + 0.000*\"al\"'), (2, '0.000*\"graphs\" + 0.000*\"opportunities\" + 0.000*\"evaluation\" + 0.000*\"aguera\" + 0.000*\"blaise\" + 0.000*\"youd\" + 0.000*\"continual\" + 0.000*\"blaise aguera\" + 0.000*\"continual learning\" + 0.000*\"identify\"'), (3, '0.001*\"celestekidd\" + 0.001*\"dec\" + 0.001*\"visit\" + 0.001*\"pm\" + 0.001*\"humans\" + 0.001*\"beliefs\" + 0.001*\"live\" + 0.001*\"started\" + 0.001*\"group\" + 0.001*\"neurips\"'), (4, '0.000*\"getting\" + 0.000*\"ibm\" + 0.000*\"talks\" + 0.000*\"available online\" + 0.000*\"talks available online\" + 0.000*\"talks available\" + 0.000*\"outstanding\" + 0.000*\"available\" + 0.000*\"hours\" + 0.000*\"talks slides\"'), (5, '0.001*\"lunch\" + 0.000*\"say hi\" + 0.000*\"demo\" + 0.000*\"search\" + 0.000*\"come say\" + 0.000*\"sad\" + 0.000*\"come say hi\" + 0.000*\"streamed\" + 0.000*\"bio\" + 0.000*\"spotlight\"'), (6, '0.001*\"form\" + 0.001*\"wait\" + 0.000*\"friday\" + 0.000*\"bin\" + 0.000*\"yu\" + 0.000*\"data science\" + 0.000*\"science\" + 0.000*\"oh\" + 0.000*\"recommend\" + 0.000*\"bin yu\"'), (7, '0.001*\"opening\" + 0.001*\"yoshua\" + 0.001*\"deep learning\" + 0.001*\"bengio\" + 0.001*\"yoshua bengio\" + 0.000*\"learning\" + 0.000*\"deep\" + 0.000*\"says\" + 0.000*\"blaiseaguera\" + 0.000*\"language\"'), (8, '0.001*\"dibr\" + 0.000*\"bayesian principles\" + 0.000*\"produce\" + 0.000*\"principles\" + 0.000*\"images\" + 0.000*\"objects\" + 0.000*\"fascinating\" + 0.000*\"nvidia\" + 0.000*\"nvidia researchers\" + 0.000*\"learning bayesian\"'), (9, '0.002*\"lxai\" + 0.001*\"apple\" + 0.001*\"blackinai\" + 0.001*\"women\" + 0.001*\"issues\" + 0.001*\"nice\" + 0.001*\"ai\" + 0.000*\"twitter\" + 0.000*\"workshop\" + 0.000*\"abebab\"')]\n"
     ]
    }
   ],
   "source": [
    "pipeline(corpus, \"tfidf\", \"lda\", 10)"
   ]
  },
  {
   "cell_type": "markdown",
   "metadata": {},
   "source": [
    "### CorEx"
   ]
  },
  {
   "cell_type": "code",
   "execution_count": 37,
   "metadata": {
    "execution": {
     "iopub.execute_input": "2020-11-15T23:21:36.489130Z",
     "iopub.status.busy": "2020-11-15T23:21:36.488621Z",
     "iopub.status.idle": "2020-11-15T23:23:30.090478Z",
     "shell.execute_reply": "2020-11-15T23:23:30.089743Z",
     "shell.execute_reply.started": "2020-11-15T23:21:36.489092Z"
    }
   },
   "outputs": [
    {
     "name": "stdout",
     "output_type": "stream",
     "text": [
      "[[('fair ml health', 0.006440596534509281), ('using machine', 0.00608331756711483), ('using machine learning', 0.00608331756711483), ('simulation', 0.005783741390629775), ('machine learning techniques', 0.005783741390629775), ('timkraska', 0.005783741390629775), ('learning techniques', 0.005783741390629775), ('computational biology', 0.005127377279210976), ('machine learning', 0.0050054478712125185), ('im presenting', 0.0044715032050290735)], [('trials', 0.02365389713345164), ('clinical trials', 0.022985079369086732), ('rigorous clinical', 0.022985079369086732), ('rigorous clinical trials', 0.022985079369086732), ('rigorous', 0.02228461352668251), ('clinical', 0.016418915336772356), ('best researchers', 0.0156619049782197), ('need best researchers', 0.01499920870583553), ('need best', 0.01499920870583553), ('big need', 0.01499920870583553)], [('learning creativity', 0.007716184281571741), ('machine learning creativity', 0.007716184281571741), ('creativity design', 0.00667642649249881), ('learning creativity design', 0.0057541220797174535), ('meets engineering', 0.0057541220797174535), ('science meets engineering', 0.0057541220797174535), ('science meets', 0.004798527036413239), ('meets', 0.004758328944273272), ('creativity', 0.0046138032394293545), ('affirmative', 0.004448507410517396)], [('interpretable comparison', 0.005189877436877232), ('comparison distributions models', 0.005189877436877232), ('comparison distributions', 0.005189877436877232), ('distributions models', 0.005189877436877232), ('interpretable comparison distributions', 0.005189877436877232), ('tomorrow zach lipton', 0.004526140757099847), ('hell analysis', 0.004526140757099847), ('hell analysis fairness', 0.004526140757099847), ('analysis fairness', 0.004526140757099847), ('analysis fairness amp', 0.004526140757099847)], [('yoshua bengio', 0.007384974739912956), ('yoshua', 0.007125945079789548), ('bengio', 0.005439926344342639), ('deep learning deep', 0.005201024044130188), ('bengio deep learning', 0.005096705750670128), ('bengio deep', 0.005096705750670128), ('yoshua bengio deep', 0.005096705750670128), ('learning deep', 0.004657267653342324), ('learning deep learning', 0.004657267653342324), ('gottlieb', 0.0037931558180143805)], [('rendering', 0.009011346226918859), ('rendering framework', 0.008356968831672461), ('called dibr', 0.008356968831672461), ('called dibr produces', 0.008356968831672461), ('framework called', 0.008356968831672461), ('produces', 0.008356968831672461), ('framework called dibr', 0.008356968831672461), ('dibr produces', 0.008356968831672461), ('dibr', 0.008356968831672461), ('rendering framework called', 0.008356968831672461)], [('neutral platform', 0.008293638252037832), ('thing neutral platform', 0.008293638252037832), ('theres thing neutral', 0.0076446714776416584), ('theres thing', 0.0076446714776416584), ('pushing content', 0.0076446714776416584), ('algorithms pushing', 0.006996181893001784), ('impacts believe', 0.006996181893001784), ('content online profound', 0.006996181893001784), ('profound impacts', 0.006996181893001784), ('profound impacts believe', 0.006996181893001784)], [('minding gap', 0.004485457810133455), ('minding', 0.004485457810133455), ('quantization procedure cnns', 0.0044753598887122175), ('minding gap fairness', 0.0044753598887122175), ('bit quantization procedure', 0.0044753598887122175), ('gap fairness', 0.0044753598887122175), ('bit quantization', 0.0044753598887122175), ('quantization procedure', 0.0044753598887122175), ('procedure', 0.0044753598887122175), ('needing retraining', 0.0044753598887122175)], [('poster', 0.08639120923950055), ('come', 0.06765829623227328), ('east', 0.05729236074554697), ('hall', 0.050620454474044535), ('exhibition', 0.04720820933051015), ('exhibition hall', 0.04621792236564674), ('west', 0.04345494957149527), ('east exhibition hall', 0.034905864650429726), ('east exhibition', 0.034905864650429726), ('workshop', 0.034307098054125774)], [('forward', 0.04172661242702441), ('reinforcement', 0.03586447265754546), ('reinforcement learning', 0.035503827838580505), ('looking forward', 0.030801404021751494), ('looking', 0.024612088315935535), ('learning', 0.024552450645049937), ('climate', 0.02239753727653566), ('climate change', 0.022268132069037536), ('change', 0.015781845619671383), ('imitation learning', 0.01325298849461739)]]\n",
      "9: forward,reinforcement,reinforcement learning,looking forward,looking,learning,climate,climate change,change,imitation learning\n"
     ]
    }
   ],
   "source": [
    "from sklearn.metrics import pairwise_distances\n",
    "from sklearn.metrics.pairwise import cosine_similarity\n",
    "from sklearn.manifold import TSNE\n",
    "from corextopic import corextopic, vis_topic\n",
    "\n",
    "pipeline(corpus, \"cv\", \"corex\", 10)"
   ]
  },
  {
   "cell_type": "markdown",
   "metadata": {
    "execution": {
     "iopub.execute_input": "2020-11-15T23:34:19.877569Z",
     "iopub.status.busy": "2020-11-15T23:34:19.877247Z",
     "iopub.status.idle": "2020-11-15T23:34:19.880856Z",
     "shell.execute_reply": "2020-11-15T23:34:19.880018Z",
     "shell.execute_reply.started": "2020-11-15T23:34:19.877540Z"
    }
   },
   "source": [
    "### Back to LDA, for use with PyLDAVis:"
   ]
  },
  {
   "cell_type": "code",
   "execution_count": 41,
   "metadata": {
    "execution": {
     "iopub.execute_input": "2020-11-15T23:36:37.015291Z",
     "iopub.status.busy": "2020-11-15T23:36:37.015001Z",
     "iopub.status.idle": "2020-11-15T23:36:37.019873Z",
     "shell.execute_reply": "2020-11-15T23:36:37.018943Z",
     "shell.execute_reply.started": "2020-11-15T23:36:37.015268Z"
    }
   },
   "outputs": [],
   "source": [
    "def vectorize(data, min_df):\n",
    "    vec = CountVectorizer(stop_words=stop_words, ngram_range=(1, 3), min_df=min_df)\n",
    "    doc_word = vec.fit_transform(data)\n",
    "    feature_names = vec.get_feature_names()\n",
    "    id2word = dict((v, k) for k, v in vec.vocabulary_.items())\n",
    "    \n",
    "    return doc_word, feature_names, id2word"
   ]
  },
  {
   "cell_type": "code",
   "execution_count": 42,
   "metadata": {
    "execution": {
     "iopub.execute_input": "2020-11-15T23:36:38.555478Z",
     "iopub.status.busy": "2020-11-15T23:36:38.555182Z",
     "iopub.status.idle": "2020-11-15T23:36:38.812072Z",
     "shell.execute_reply": "2020-11-15T23:36:38.811452Z",
     "shell.execute_reply.started": "2020-11-15T23:36:38.555454Z"
    }
   },
   "outputs": [],
   "source": [
    "doc_word, feature_names, id2word = vectorize(corpus, 0.01)"
   ]
  },
  {
   "cell_type": "code",
   "execution_count": 43,
   "metadata": {
    "execution": {
     "iopub.execute_input": "2020-11-15T23:37:39.586974Z",
     "iopub.status.busy": "2020-11-15T23:37:39.586484Z",
     "iopub.status.idle": "2020-11-15T23:37:39.592628Z",
     "shell.execute_reply": "2020-11-15T23:37:39.591624Z",
     "shell.execute_reply.started": "2020-11-15T23:37:39.586937Z"
    }
   },
   "outputs": [],
   "source": [
    "def lda(doc_word, feature_names, id2word, num_topics):\n",
    "    sparse_corpus = matutils.Sparse2Corpus(doc_word.transpose())\n",
    "    model = models.LdaModel(corpus=sparse_corpus, num_topics=num_topics, id2word=id2word, passes=5, random_state=42)\n",
    "    topics = model.print_topics()\n",
    "    for n, topic in topics:\n",
    "        print(\"\\nTopic \", n)\n",
    "        print(topic)"
   ]
  },
  {
   "cell_type": "code",
   "execution_count": 44,
   "metadata": {
    "execution": {
     "iopub.execute_input": "2020-11-15T23:38:37.769930Z",
     "iopub.status.busy": "2020-11-15T23:38:37.769333Z",
     "iopub.status.idle": "2020-11-15T23:38:43.057526Z",
     "shell.execute_reply": "2020-11-15T23:38:43.056461Z",
     "shell.execute_reply.started": "2020-11-15T23:38:37.769871Z"
    }
   },
   "outputs": [
    {
     "name": "stdout",
     "output_type": "stream",
     "text": [
      "\n",
      "Topic  0\n",
      "0.085*\"research\" + 0.070*\"people\" + 0.057*\"im\" + 0.055*\"year\" + 0.051*\"work\" + 0.048*\"check\" + 0.044*\"interesting\" + 0.035*\"rl\" + 0.031*\"conference\" + 0.030*\"day\"\n",
      "\n",
      "Topic  1\n",
      "0.107*\"machine\" + 0.097*\"learning\" + 0.094*\"machine learning\" + 0.052*\"looking\" + 0.041*\"forward\" + 0.040*\"good\" + 0.039*\"social\" + 0.039*\"pm\" + 0.036*\"workshop\" + 0.031*\"looking forward\"\n",
      "\n",
      "Topic  2\n",
      "0.114*\"session\" + 0.108*\"poster\" + 0.088*\"just\" + 0.064*\"poster session\" + 0.059*\"time\" + 0.058*\"best\" + 0.041*\"live\" + 0.035*\"need\" + 0.029*\"world\" + 0.026*\"clinical\"\n",
      "\n",
      "Topic  3\n",
      "0.126*\"ai\" + 0.092*\"talk\" + 0.073*\"models\" + 0.046*\"researchers\" + 0.041*\"today\" + 0.041*\"booth\" + 0.036*\"nice\" + 0.034*\"big\" + 0.033*\"lot\" + 0.031*\"stop\"\n",
      "\n",
      "Topic  4\n",
      "0.072*\"hall\" + 0.068*\"neural\" + 0.062*\"poster\" + 0.062*\"paper\" + 0.060*\"exhibition\" + 0.059*\"exhibition hall\" + 0.054*\"come\" + 0.049*\"today\" + 0.047*\"east exhibition\" + 0.047*\"east exhibition hall\"\n",
      "\n",
      "Topic  5\n",
      "0.094*\"celestekidd\" + 0.071*\"tutorial\" + 0.054*\"amazing\" + 0.051*\"vancouver\" + 0.050*\"talks\" + 0.050*\"conference\" + 0.044*\"talk\" + 0.043*\"ml\" + 0.036*\"online\" + 0.035*\"know\"\n",
      "\n",
      "Topic  6\n",
      "0.087*\"east\" + 0.066*\"new\" + 0.061*\"like\" + 0.051*\"data\" + 0.048*\"neuripsconf\" + 0.044*\"dec\" + 0.043*\"poster\" + 0.041*\"work\" + 0.040*\"come\" + 0.040*\"bc\"\n",
      "\n",
      "Topic  7\n",
      "0.174*\"amp\" + 0.097*\"ml\" + 0.062*\"talk\" + 0.055*\"workshop\" + 0.035*\"use\" + 0.030*\"bengio\" + 0.029*\"human\" + 0.024*\"learn\" + 0.023*\"yoshua\" + 0.022*\"think\"\n",
      "\n",
      "Topic  8\n",
      "0.220*\"learning\" + 0.106*\"deep\" + 0.066*\"deep learning\" + 0.062*\"workshop\" + 0.033*\"bayesian\" + 0.031*\"using\" + 0.030*\"reinforcement\" + 0.030*\"reinforcement learning\" + 0.030*\"presenting\" + 0.030*\"fairness\"\n",
      "\n",
      "Topic  9\n",
      "0.140*\"great\" + 0.091*\"papers\" + 0.081*\"work\" + 0.045*\"presenting\" + 0.042*\"workshop\" + 0.039*\"thanks\" + 0.037*\"morning\" + 0.028*\"poster\" + 0.027*\"event\" + 0.027*\"way\"\n"
     ]
    }
   ],
   "source": [
    "lda(doc_word, feature_names, id2word, 10)"
   ]
  },
  {
   "cell_type": "code",
   "execution_count": 45,
   "metadata": {
    "execution": {
     "iopub.execute_input": "2020-11-15T23:39:42.427796Z",
     "iopub.status.busy": "2020-11-15T23:39:42.427420Z",
     "iopub.status.idle": "2020-11-15T23:39:42.434023Z",
     "shell.execute_reply": "2020-11-15T23:39:42.432623Z",
     "shell.execute_reply.started": "2020-11-15T23:39:42.427764Z"
    }
   },
   "outputs": [
    {
     "name": "stdout",
     "output_type": "stream",
     "text": [
      "['ai', 'algorithms', 'amazing', 'amp', 'approach', 'artificial', 'available', 'award', 'awesome', 'based', 'bayesian', 'bc', 'bengio', 'best', 'better', 'big', 'blackinai', 'blaiseaguera', 'booth', 'celestekidd', 'challenge', 'challenges', 'change', 'chat', 'check', 'climate', 'clinical', 'code', 'come', 'community', 'conference', 'cool', 'data', 'day', 'dec', 'deep', 'deep learning', 'design', 'different', 'discussion', 'dont', 'east', 'east exhibition', 'east exhibition hall', 'ethics', 'event', 'excited', 'exciting', 'exhibition', 'exhibition hall', 'fairness', 'forward', 'framework', 'future', 'giving', 'going', 'good', 'graph', 'great', 'hall', 'health', 'hear', 'help', 'human', 'ideas', 'im', 'important', 'intelligence', 'interested', 'interesting', 'join', 'just', 'keynote', 'know', 'language', 'learn', 'learning', 'learning workshop', 'like', 'live', 'look', 'looking', 'looking forward', 'lot', 'machine', 'machine learning', 'make', 'making', 'meet', 'meeting', 'methods', 'ml', 'model', 'models', 'morning', 'need', 'networks', 'neural', 'neural networks', 'neurips', 'neuripsconf', 'new', 'nice', 'online', 'panel', 'paper', 'papers', 'people', 'pm', 'poster', 'poster session', 'posters', 'present', 'presentation', 'presented', 'presenting', 'presenting work', 'problems', 'questions', 'read', 'really', 'reinforcement', 'reinforcement learning', 'representation', 'research', 'researchers', 'results', 'right', 'rl', 'room', 'saturday', 'say', 'science', 'session', 'sessions', 'slides', 'social', 'stop', 'systems', 'talk', 'talking', 'talks', 'team', 'thank', 'thanks', 'thing', 'think', 'time', 'today', 'tomorrow', 'training', 'tutorial', 'use', 'used', 'using', 'vancouver', 'video', 'want', 'way', 'week', 'west', 'wimlworkshop', 'work', 'workshop', 'workshops', 'world', 'year', 'years', 'yoshua', 'yoshua bengio', 'youre']\n"
     ]
    }
   ],
   "source": [
    "print(feature_names)"
   ]
  },
  {
   "cell_type": "markdown",
   "metadata": {},
   "source": [
    "OK, looking good. Let's jump to visualization."
   ]
  },
  {
   "cell_type": "markdown",
   "metadata": {},
   "source": [
    "## Visualization with pyLDAvis"
   ]
  },
  {
   "cell_type": "code",
   "execution_count": 49,
   "metadata": {
    "execution": {
     "iopub.execute_input": "2020-11-15T23:45:26.864296Z",
     "iopub.status.busy": "2020-11-15T23:45:26.863981Z",
     "iopub.status.idle": "2020-11-15T23:45:26.869715Z",
     "shell.execute_reply": "2020-11-15T23:45:26.868699Z",
     "shell.execute_reply.started": "2020-11-15T23:45:26.864270Z"
    }
   },
   "outputs": [
    {
     "name": "stderr",
     "output_type": "stream",
     "text": [
      "/opt/anaconda3/envs/metis/lib/python3.8/site-packages/ipykernel/ipkernel.py:287: DeprecationWarning: `should_run_async` will not call `transform_cell` automatically in the future. Please pass the result to `transformed_cell` argument and any exception that happen during thetransform in `preprocessing_exc_tuple` in IPython 7.17 and above.\n",
      "  and should_run_async(code)\n"
     ]
    }
   ],
   "source": [
    "from gensim.corpora.dictionary import Dictionary\n",
    "\n",
    "def vectorize_vis(data, min_df):\n",
    "    vec = CountVectorizer(stop_words=stop_words, ngram_range=(1, 3), min_df=min_df)\n",
    "    doc_word = vec.fit_transform(data)\n",
    "    feature_names = vec.get_feature_names()\n",
    "    id2word = dict((v, k) for k, v in vec.vocabulary_.items())\n",
    "    dictionary = Dictionary([feature_names])\n",
    "    \n",
    "    return doc_word, feature_names, id2word, dictionary"
   ]
  },
  {
   "cell_type": "code",
   "execution_count": 50,
   "metadata": {
    "execution": {
     "iopub.execute_input": "2020-11-15T23:45:34.123683Z",
     "iopub.status.busy": "2020-11-15T23:45:34.123386Z",
     "iopub.status.idle": "2020-11-15T23:45:34.128946Z",
     "shell.execute_reply": "2020-11-15T23:45:34.128203Z",
     "shell.execute_reply.started": "2020-11-15T23:45:34.123659Z"
    }
   },
   "outputs": [
    {
     "name": "stderr",
     "output_type": "stream",
     "text": [
      "/opt/anaconda3/envs/metis/lib/python3.8/site-packages/ipykernel/ipkernel.py:287: DeprecationWarning: `should_run_async` will not call `transform_cell` automatically in the future. Please pass the result to `transformed_cell` argument and any exception that happen during thetransform in `preprocessing_exc_tuple` in IPython 7.17 and above.\n",
      "  and should_run_async(code)\n"
     ]
    }
   ],
   "source": [
    "import pyLDAvis.gensim\n",
    "pyLDAvis.enable_notebook()\n",
    "\n",
    "def lda_vis(doc_word, feature_names, id2word, dictionary, num_topics):\n",
    "    corpus = matutils.Sparse2Corpus(doc_word.transpose())\n",
    "    model = models.LdaModel(corpus=corpus, num_topics=num_topics, id2word=id2word, passes=5, random_state=42)\n",
    "\n",
    "    topics = model.print_topics()\n",
    "    for n, topic in topics:\n",
    "        print(\"\\nTopic \", n)\n",
    "        print(topic)\n",
    "\n",
    "    vis_data = pyLDAvis.gensim.prepare(model, corpus, dictionary)\n",
    "    return vis_data"
   ]
  },
  {
   "cell_type": "code",
   "execution_count": 51,
   "metadata": {
    "execution": {
     "iopub.execute_input": "2020-11-15T23:45:35.641233Z",
     "iopub.status.busy": "2020-11-15T23:45:35.640945Z",
     "iopub.status.idle": "2020-11-15T23:45:46.306598Z",
     "shell.execute_reply": "2020-11-15T23:45:46.305798Z",
     "shell.execute_reply.started": "2020-11-15T23:45:35.641208Z"
    }
   },
   "outputs": [
    {
     "name": "stderr",
     "output_type": "stream",
     "text": [
      "/opt/anaconda3/envs/metis/lib/python3.8/site-packages/ipykernel/ipkernel.py:287: DeprecationWarning: `should_run_async` will not call `transform_cell` automatically in the future. Please pass the result to `transformed_cell` argument and any exception that happen during thetransform in `preprocessing_exc_tuple` in IPython 7.17 and above.\n",
      "  and should_run_async(code)\n"
     ]
    },
    {
     "name": "stdout",
     "output_type": "stream",
     "text": [
      "\n",
      "Topic  0\n",
      "0.024*\"session\" + 0.021*\"bengio\" + 0.019*\"neurips\" + 0.018*\"poster\" + 0.017*\"research\" + 0.017*\"papers\" + 0.015*\"yoshua\" + 0.015*\"yoshua bengio\" + 0.014*\"great\" + 0.012*\"neural\"\n",
      "\n",
      "Topic  1\n",
      "0.078*\"poster\" + 0.034*\"come\" + 0.033*\"hall\" + 0.031*\"east\" + 0.024*\"today\" + 0.023*\"presenting\" + 0.021*\"exhibition\" + 0.021*\"exhibition hall\" + 0.018*\"east exhibition\" + 0.018*\"east exhibition hall\"\n",
      "\n",
      "Topic  2\n",
      "0.045*\"learning\" + 0.033*\"machine\" + 0.031*\"machine learning\" + 0.028*\"workshop\" + 0.022*\"ai\" + 0.022*\"amp\" + 0.011*\"booth\" + 0.009*\"upcoming\" + 0.009*\"climate\" + 0.008*\"computational\"\n",
      "\n",
      "Topic  3\n",
      "0.026*\"papers\" + 0.022*\"just\" + 0.014*\"things\" + 0.013*\"pm east\" + 0.013*\"help\" + 0.013*\"research\" + 0.012*\"people\" + 0.012*\"bias\" + 0.012*\"language\" + 0.011*\"love\"\n",
      "\n",
      "Topic  4\n",
      "0.041*\"celestekidd\" + 0.026*\"talk\" + 0.021*\"know\" + 0.019*\"neuripsconf\" + 0.015*\"people\" + 0.013*\"humans\" + 0.013*\"thank\" + 0.013*\"beliefs\" + 0.011*\"form\" + 0.011*\"vancouver\"\n",
      "\n",
      "Topic  5\n",
      "0.075*\"learning\" + 0.039*\"deep\" + 0.036*\"talk\" + 0.031*\"deep learning\" + 0.022*\"workshop\" + 0.019*\"bayesian\" + 0.016*\"great\" + 0.015*\"bc\" + 0.014*\"reinforcement\" + 0.014*\"reinforcement learning\"\n",
      "\n",
      "Topic  6\n",
      "0.032*\"paper\" + 0.021*\"data\" + 0.021*\"learning\" + 0.016*\"models\" + 0.016*\"using\" + 0.015*\"learn\" + 0.014*\"opening\" + 0.013*\"researchers\" + 0.013*\"week\" + 0.013*\"new\"\n",
      "\n",
      "Topic  7\n",
      "0.028*\"tutorial\" + 0.025*\"representation\" + 0.025*\"learning\" + 0.019*\"representation learning\" + 0.019*\"best\" + 0.018*\"health\" + 0.017*\"big\" + 0.017*\"researchers\" + 0.016*\"friday\" + 0.016*\"need\"\n",
      "\n",
      "Topic  8\n",
      "0.036*\"vancouver\" + 0.030*\"conference\" + 0.024*\"ai\" + 0.019*\"good\" + 0.018*\"social\" + 0.018*\"day\" + 0.017*\"great\" + 0.013*\"data\" + 0.013*\"nice\" + 0.013*\"science\"\n",
      "\n",
      "Topic  9\n",
      "0.036*\"work\" + 0.027*\"ml\" + 0.018*\"workshop\" + 0.017*\"looking\" + 0.017*\"amp\" + 0.016*\"lxai\" + 0.016*\"ai\" + 0.016*\"im\" + 0.012*\"new\" + 0.011*\"forward\"\n"
     ]
    }
   ],
   "source": [
    "doc_word, feature_names, id2word, dictionary = vectorize_vis(corpus, 0.002)\n",
    "vis_data = lda_vis(doc_word, feature_names, id2word, dictionary, 10)"
   ]
  },
  {
   "cell_type": "code",
   "execution_count": 52,
   "metadata": {
    "execution": {
     "iopub.execute_input": "2020-11-15T23:46:03.747269Z",
     "iopub.status.busy": "2020-11-15T23:46:03.746869Z",
     "iopub.status.idle": "2020-11-15T23:46:03.768422Z",
     "shell.execute_reply": "2020-11-15T23:46:03.764771Z",
     "shell.execute_reply.started": "2020-11-15T23:46:03.747234Z"
    }
   },
   "outputs": [
    {
     "name": "stderr",
     "output_type": "stream",
     "text": [
      "/opt/anaconda3/envs/metis/lib/python3.8/site-packages/ipykernel/ipkernel.py:287: DeprecationWarning: `should_run_async` will not call `transform_cell` automatically in the future. Please pass the result to `transformed_cell` argument and any exception that happen during thetransform in `preprocessing_exc_tuple` in IPython 7.17 and above.\n",
      "  and should_run_async(code)\n"
     ]
    },
    {
     "data": {
      "text/html": [
       "\n",
       "<link rel=\"stylesheet\" type=\"text/css\" href=\"https://cdn.rawgit.com/bmabey/pyLDAvis/files/ldavis.v1.0.0.css\">\n",
       "\n",
       "\n",
       "<div id=\"ldavis_el484091404898857480167338456261\"></div>\n",
       "<script type=\"text/javascript\">\n",
       "\n",
       "var ldavis_el484091404898857480167338456261_data = {\"mdsDat\": {\"x\": [0.03285201088665316, -0.028376184274395914, -0.10407796704304, -0.10466984991017446, 0.15035419287314764, 0.03586626334135333, 0.21068955730971944, -0.16978863421362395, 0.17503006174714927, -0.1978794507167892], \"y\": [0.02531624450671075, 0.04979582628019395, 0.2195655986947265, 0.06073822700548882, 0.010358138211667315, 0.10703125442157141, -0.028342055699808667, 0.01058002019213394, -0.15521577543955886, -0.299827478173125], \"topics\": [1, 2, 3, 4, 5, 6, 7, 8, 9, 10], \"cluster\": [1, 1, 1, 1, 1, 1, 1, 1, 1, 1], \"Freq\": [12.864549156573608, 12.437895440728747, 12.173154046284822, 11.761114435563554, 10.062982776270243, 9.550560120723727, 8.611955958976756, 8.479396770793999, 7.68622884053433, 6.372162453550216]}, \"tinfo\": {\"Term\": [\"poster\", \"learning\", \"celestekidd\", \"deep\", \"vancouver\", \"hall\", \"deep learning\", \"east\", \"machine\", \"machine learning\", \"talk\", \"session\", \"come\", \"papers\", \"conference\", \"tutorial\", \"ai\", \"exhibition\", \"exhibition hall\", \"bengio\", \"presenting\", \"east exhibition hall\", \"east exhibition\", \"bayesian\", \"representation\", \"paper\", \"looking\", \"work\", \"data\", \"know\", \"looking forward\", \"emtiyazkhan\", \"abebab\", \"wednesday\", \"topic\", \"looking\", \"control\", \"imaging\", \"algorithmic\", \"robust\", \"interpretability\", \"come chat\", \"app\", \"medical\", \"variational\", \"excited present\", \"great work\", \"touch\", \"autonomous\", \"ai research\", \"whova\", \"anna\", \"old\", \"academic\", \"learned\", \"didnt\", \"stochastic\", \"bad\", \"response\", \"thread\", \"conversations\", \"lxai\", \"forward\", \"im\", \"use\", \"blackinai\", \"ml\", \"work\", \"ethics\", \"fairness\", \"yesterday\", \"friends\", \"really\", \"chat\", \"new\", \"talking\", \"amp\", \"lot\", \"ai\", \"workshop\", \"model\", \"interesting\", \"presenting\", \"research\", \"great\", \"talk\", \"models\", \"today\", \"upcoming\", \"thursday\", \"miss\", \"imitation\", \"imitation learning\", \"line\", \"experts\", \"climate change\", \"stop booth\", \"computational\", \"software\", \"contributed\", \"goal\", \"regression\", \"forget\", \"dont miss\", \"linear\", \"success\", \"competition\", \"uses\", \"met\", \"transfer\", \"ml systems\", \"tackle\", \"tackling\", \"growing\", \"tackling climate change\", \"perception\", \"tackling climate\", \"reproducibility\", \"participants\", \"rooms\", \"climate\", \"sharing\", \"machine learning\", \"machine\", \"presentations\", \"challenge\", \"speakers\", \"dear\", \"change\", \"track\", \"happy\", \"learning\", \"workshop\", \"ai\", \"amp\", \"booth\", \"panel\", \"starting\", \"experience\", \"stop\", \"want\", \"talks\", \"team\", \"meeting\", \"neuripsconf\", \"women\", \"ml\", \"talk\", \"today\", \"west\", \"join\", \"east exhibition\", \"east exhibition hall\", \"hall bc\", \"hi\", \"pm east exhibition\", \"say hi\", \"come check\", \"exhibition hall bc\", \"come say\", \"upcoming poster dec\", \"poster dec\", \"poster dec east\", \"upcoming poster\", \"check poster\", \"come say hi\", \"dec east\", \"east\", \"tonight\", \"presenting poster\", \"exh\", \"exh hall\", \"hotel\", \"come check poster\", \"hall poster\", \"hall\", \"exhibition hall\", \"drl\", \"exhibition hall poster\", \"poster presentation\", \"pleasure\", \"exhibition\", \"come poster\", \"pm\", \"dec\", \"poster\", \"neural networks\", \"come\", \"networks\", \"poster session\", \"presenting\", \"today\", \"started\", \"session\", \"say\", \"morning\", \"check\", \"work\", \"neural\", \"paper\", \"wimlworkshop\", \"workshop\", \"present\", \"neuripsconf\", \"research\", \"learn\", \"deep learning\", \"celeste\", \"joint work\", \"invited talk\", \"great talk\", \"invited\", \"visit poster\", \"learning deep learning\", \"learning deep\", \"todays\", \"west exhibition hall\", \"west exhibition\", \"learning bayesian\", \"bayesian deep\", \"bayesian principles\", \"deep learning bayesian\", \"bayesian deep learning\", \"learning bayesian principles\", \"bayesian\", \"deep learning deep\", \"stream\", \"biological\", \"researchers present\", \"reinforcement\", \"reinforcement learning\", \"robot\", \"deep learning workshop\", \"blaise\", \"aguera\", \"blaise aguera\", \"schedule\", \"bc\", \"deep\", \"spotlight\", \"slides\", \"joint\", \"learning\", \"watch\", \"learning workshop\", \"talk\", \"video\", \"live\", \"distributions\", \"giving\", \"keynote\", \"comparison\", \"workshop\", \"present\", \"talks\", \"great\", \"generalization\", \"principles\", \"west\", \"tutorial\", \"online\", \"work\", \"amp\", \"day\", \"models\", \"party\", \"let know\", \"social good\", \"bin\", \"data science\", \"canada\", \"opportunities\", \"bin yu\", \"yu\", \"industry\", \"academia\", \"ai social\", \"ai social good\", \"biggest\", \"role\", \"bit\", \"smart\", \"stuff\", \"information processing\", \"common\", \"neural information\", \"neural information processing\", \"said\", \"quantization\", \"convention\", \"processing systems\", \"venue\", \"takes\", \"information processing systems\", \"let\", \"event\", \"social\", \"excellent\", \"dr\", \"vancouver\", \"nice\", \"twitter\", \"conference\", \"science\", \"good\", \"day\", \"lots\", \"going\", \"ai\", \"proud\", \"method\", \"thanks\", \"data\", \"attending\", \"great\", \"amazing\", \"wimlworkshop\", \"time\", \"week\", \"know\", \"paper\", \"like\", \"meet\", \"talk\", \"amp\", \"work\", \"ml\", \"graphs\", \"bengio\", \"coauthored\", \"yoshua bengio\", \"nets\", \"energy\", \"order\", \"break\", \"local\", \"multimodal\", \"neural nets\", \"neural network\", \"consciousness\", \"efforts\", \"want know\", \"poster sessions\", \"physics\", \"largest\", \"covering\", \"sign\", \"analysis\", \"daphnekoller\", \"thanks organizers\", \"debate\", \"wanted\", \"result\", \"overview\", \"apple\", \"expected\", \"mathworks\", \"capacity\", \"number\", \"google\", \"yoshua\", \"latest\", \"organizers\", \"microsoft\", \"vision\", \"sessions\", \"view\", \"session\", \"msftresearch\", \"neurips\", \"network\", \"papers\", \"research\", \"neural\", \"poster\", \"booth\", \"great\", \"poster session\", \"want\", \"rl\", \"excited\", \"deep\", \"work\", \"week\", \"neuripsconf\", \"celestekidd\", \"sexual\", \"beliefs\", \"feedback\", \"talk celestekidd\", \"interpretable\", \"harassment\", \"dm\", \"et al\", \"et\", \"al\", \"incredibly\", \"action\", \"theres\", \"form\", \"powerful\", \"neutral\", \"poster today\", \"thing neutral\", \"reception\", \"hannawallach\", \"believe\", \"feel free\", \"currently\", \"implications\", \"impacts\", \"heard\", \"profound\", \"neutral platform\", \"thing neutral platform\", \"humans\", \"tweet\", \"quickly\", \"lunch\", \"free\", \"missing\", \"thing\", \"meetup\", \"platform\", \"know\", \"right\", \"feel\", \"thank\", \"online\", \"talk\", \"people\", \"neuripsconf\", \"human\", \"doing\", \"vancouver\", \"like\", \"just\", \"time\", \"community\", \"chat\", \"dibr\", \"called\", \"produce\", \"images\", \"blog\", \"objects\", \"reach\", \"nvidia\", \"nvidia researchers\", \"rendering\", \"dibr produces\", \"rendering framework called\", \"called dibr produces\", \"rendering framework\", \"called dibr\", \"produces\", \"framework called\", \"framework called dibr\", \"using machine learning\", \"using machine\", \"dibr produces objects\", \"produces objects\", \"objects images\", \"produces objects images\", \"source\", \"paper award\", \"winner\", \"accuracy\", \"objects images learn\", \"images learn\", \"framework\", \"award\", \"food\", \"training\", \"opening\", \"search\", \"paper\", \"data\", \"using\", \"models\", \"learn\", \"week\", \"improve\", \"researchers\", \"new\", \"keynote\", \"learning\", \"object\", \"check\", \"amp\", \"privacy\", \"presented\", \"machine\", \"machine learning\", \"open\", \"neuripsconf\", \"best\", \"things\", \"pm east\", \"mean\", \"says\", \"natural\", \"fomo\", \"point\", \"ibm\", \"patients\", \"thousands\", \"id\", \"decision making\", \"diversity\", \"answering\", \"tested\", \"causal inference\", \"approval\", \"hiring\", \"standard\", \"standing\", \"quality\", \"limits\", \"decision\", \"main conference\", \"good workshop\", \"vaccine tested\", \"tens thousands\", \"thousands patients approval\", \"tens thousands patients\", \"tested tens thousands\", \"seeing\", \"bias\", \"main\", \"lab\", \"message\", \"short\", \"needs\", \"healthcare\", \"demo\", \"able\", \"love\", \"help\", \"papers\", \"just\", \"language\", \"making\", \"look\", \"discussing\", \"people\", \"research\", \"time\", \"like\", \"conference\", \"world\", \"read\", \"year\", \"representation\", \"representation learning\", \"friday\", \"best researchers\", \"great tutorial\", \"researchers rigorous clinical\", \"need best\", \"stakes big need\", \"stakes big\", \"big need\", \"best researchers rigorous\", \"researchers rigorous\", \"big need best\", \"stakes\", \"need best researchers\", \"highlighting\", \"amazing talk\", \"modern\", \"graph representation\", \"graph representation learning\", \"savage\", \"task\", \"meets\", \"ago\", \"fields\", \"highlighted\", \"ml health\", \"science meets\", \"graph neural\", \"rise\", \"predict\", \"workshop friday\", \"efficient\", \"rigorous\", \"trials\", \"clinical trials\", \"rigorous clinical\", \"rigorous clinical trials\", \"health\", \"big\", \"tutorial\", \"clinical\", \"best\", \"tasks\", \"need\", \"researchers\", \"fairness\", \"learning\", \"ml\"], \"Freq\": [511.0, 799.0, 155.0, 260.0, 201.0, 185.0, 161.0, 170.0, 227.0, 201.0, 436.0, 211.0, 258.0, 192.0, 212.0, 155.0, 359.0, 120.0, 116.0, 90.0, 219.0, 96.0, 96.0, 100.0, 69.0, 319.0, 99.0, 454.0, 178.0, 136.0, 58.99135701229514, 40.89219810819606, 34.74809924640719, 29.325960109329586, 40.14054928072215, 96.81590044951068, 25.77895421221774, 21.997445387973954, 21.55084145363952, 21.184252953520282, 19.947486327506475, 20.092103557735673, 19.237042779427362, 26.775681061810975, 18.846670104924012, 18.23647589904508, 17.84330216877242, 17.982745407822897, 16.871814841737937, 16.598051450260716, 15.545449672721315, 15.618004326518353, 15.49922311581276, 14.73550207733684, 22.145298320557348, 14.724865635834472, 12.99688310664228, 11.980632402343879, 12.111953101761367, 29.97447369790903, 19.743746719771917, 91.17362913274756, 60.10149398942029, 87.8848189700018, 50.86776274134635, 59.252907226310384, 153.8459493364714, 203.36932539109057, 36.09503638186372, 59.08221250623264, 25.62938096672477, 30.649964090141793, 54.13202385613819, 50.412221794499125, 67.66294012292826, 41.809096173609056, 95.33154450999817, 36.219191286232984, 90.42678882785246, 103.60571184410968, 42.61139894903043, 44.35253834781936, 57.919536807380496, 58.67804600257271, 56.72798908913549, 53.92383205770974, 38.33829047957835, 37.769399446469194, 49.14476894994323, 42.64480479667112, 43.08590905545491, 33.26050792527438, 29.54918738007785, 29.12063958800716, 28.83381960132495, 33.18138073172211, 27.297402762570684, 43.22989323898239, 20.63087802481657, 18.665638287484732, 18.351014876217285, 28.66194365626048, 20.01561241783087, 15.759283167288713, 14.018810493903723, 14.177040903835653, 42.8780850188538, 12.33088190137638, 12.322187021411224, 12.419245354212393, 12.037000006379948, 10.463646964185893, 12.24248816158548, 9.934605793847393, 10.952774975810616, 9.91573891388817, 10.950306588987416, 25.900553259756375, 23.831878523663434, 23.649861496538005, 47.21746362360596, 31.287373388368955, 167.37844331608633, 180.76237992362866, 26.669067072595272, 40.9613119810781, 31.725650864696735, 14.263973298053308, 42.15615254262939, 29.457836876316215, 38.96984121690218, 243.02143567393938, 153.30889081514067, 120.51053153446996, 118.9308447328354, 61.852024315773555, 40.47804828109315, 30.142301865433886, 33.40659705216643, 39.39721538947104, 43.149875104173894, 39.80742190644543, 36.71481337130932, 31.43933313668305, 40.72153268315948, 31.717465815138826, 37.00298869922267, 36.97279260520144, 33.76530060235737, 32.1959795110325, 31.73648602280716, 94.99590817140424, 94.99590817140424, 59.797337735676095, 44.84999798120002, 32.379531354706586, 31.54274912478814, 32.34184858702579, 32.59016209330862, 26.154036770504874, 27.18193769825769, 27.18193769825769, 27.18193769825769, 27.784575438964236, 22.954731506440538, 22.035924105521858, 32.28132643094927, 162.0095095040052, 30.86811518959949, 19.189120074730898, 28.6111187261074, 28.6111187261074, 17.587002191820627, 17.18817993202806, 15.600605300164705, 174.78334278940696, 109.9244794126821, 13.53612072237798, 13.683483687317315, 13.22727517925359, 13.137918480591827, 112.27169467158592, 25.55203139876105, 78.80483699796972, 75.3006681390931, 416.25327311156855, 40.65495120940491, 182.0382549987955, 70.36874355272418, 76.20121094583074, 122.76469167763932, 128.12835629253988, 35.82678206655592, 94.2193096813596, 40.65761654577513, 42.539351433718466, 65.69012719936705, 90.97042520850331, 50.47674784612193, 57.188311845441405, 43.09100442680576, 58.9884736073852, 42.045471273834615, 44.62984959567081, 39.96875430892529, 37.34149593699595, 159.7565746219612, 30.464300608520226, 27.75624625852825, 25.69527241703708, 32.4725477451311, 38.97220180531651, 21.354472990777342, 21.073338677579105, 21.073338677579105, 19.925387884831046, 19.559483454672886, 19.559411857282473, 19.242357133313703, 18.885328392987155, 24.761637672883722, 18.301914670621848, 18.12799983614773, 17.82739341933666, 95.94690873415354, 17.20795546998472, 16.418772040860425, 16.02542313766687, 15.300467340902978, 73.3285437164618, 72.82414964731636, 16.486745410029304, 13.87568165825102, 13.139821578927126, 13.1396783841463, 11.622325628718373, 19.815236492969486, 76.00171820442392, 198.90360293518975, 41.44996792220234, 58.4098097954476, 50.554420962504835, 386.9308176536858, 34.806310030677956, 36.36545537618017, 186.17112396941252, 39.3006094888252, 52.1231579717428, 29.829940569716243, 37.423488199597564, 43.38645776756098, 24.364642075938438, 113.61593230576473, 53.43372911062722, 53.50823335509167, 83.40672126638994, 25.977654911408198, 26.78625197294316, 43.16236748188497, 44.29362056989873, 31.726233253516973, 44.62944574305427, 41.323588981803525, 32.849531871455774, 32.32726948024276, 36.369720214170954, 28.579250433739343, 28.670686784372695, 25.00166078621631, 23.081154368136666, 31.960359540417745, 21.237441170796412, 20.186754229555525, 29.640194304482023, 19.507452674778754, 19.18406024353675, 20.544470516659693, 19.082264863764916, 15.414271092935456, 17.468874152846286, 15.240104427689241, 15.059565724117252, 14.160064861896586, 15.574191795874434, 14.214535018070258, 15.097975607439718, 15.096977072992898, 13.046165993588703, 12.607237613469238, 12.538089613525132, 12.25228107954478, 12.928683004639579, 12.241625961459897, 11.523342765395201, 46.89731176884224, 54.74554748171985, 81.1178754705609, 33.449515413412996, 22.15065095123533, 157.63826147680513, 57.82199331451051, 36.89237233836827, 133.64387486630946, 56.80734346103544, 83.16268615431687, 77.18101966344875, 28.25074485269195, 35.895728776819695, 104.68479949013728, 20.40250913981434, 21.076724090691258, 46.34579811934563, 57.88542169280729, 30.797501854324672, 72.42200040591888, 42.05254106844988, 38.46435960461671, 41.86619289555028, 39.61757500102085, 37.1450893591013, 42.56997794320511, 34.37101772634381, 31.150854402956746, 35.21004395275712, 34.681984631800745, 34.6825441378098, 31.83048676055639, 38.486067244371526, 88.24367024784517, 33.154307445998036, 61.290712148245916, 35.23234006646801, 25.054732229881978, 23.804371910948, 24.812976947804188, 23.62016393652443, 21.651022357179514, 19.933752478918077, 19.722022805969637, 19.37315945316626, 17.87907483266986, 15.322283651761161, 27.397179360593448, 13.351241852332896, 11.671728310291554, 12.202438170744852, 11.119147023269532, 27.828702771525325, 10.271378513519064, 10.024334398593282, 9.676787924470819, 9.464498166255588, 9.288371698968751, 10.83847453620069, 28.298691830814477, 8.996769797152286, 8.25551438865715, 12.064856810278744, 24.081028838595422, 49.51730122987368, 63.97827645591057, 46.56963642512973, 24.325384931842873, 26.866392948693647, 19.023073215230202, 45.716314543988304, 24.429942579692696, 101.69916644925885, 34.94142906568134, 78.29294345658046, 32.74338703323656, 69.14889449039799, 71.81593913437831, 49.52092143498913, 76.55735355746447, 44.01343827567999, 58.08234218689589, 36.76492328151385, 37.396187827469035, 33.33496498371309, 33.405710148346, 35.67351283568137, 34.07643260444599, 30.30410135369819, 29.476101528251856, 154.69048586061055, 35.33349996231507, 48.05481147315596, 28.25477998105144, 27.163703253463297, 26.74127706742213, 24.83453727206625, 21.48613453859856, 22.07089051436509, 22.070715759504797, 22.070708769310386, 21.255917728295508, 19.06886414683663, 17.229434681019477, 41.14433323854138, 31.380115125550628, 14.961210962052109, 15.755573159898836, 14.60037887406951, 14.388848600977497, 13.560926479760267, 12.925836735358095, 12.935209712289863, 12.793091195931584, 12.712496875687755, 12.560229470818012, 11.685308777473816, 11.608340620581048, 11.608094216228038, 11.60798324689175, 50.366716917001945, 15.283002814245446, 18.19867232001194, 26.62227250266039, 22.7620547245635, 18.70561345158759, 36.18259887750249, 23.624878886478278, 19.534823516125172, 77.87404414735487, 33.151360487527604, 23.20384025402783, 49.517904599785396, 39.54283426256057, 99.24945750156954, 57.04873462765941, 69.49219290083022, 32.61137146432211, 23.821013256378553, 40.3102807168251, 34.39293435325073, 35.213111339059814, 24.219230651623448, 23.02758774458299, 23.235453408254678, 34.39610072097938, 33.34641503339217, 27.49987161204126, 27.48136258503803, 24.976200107108724, 23.963465368196275, 24.038590647362224, 23.93436746398026, 20.345058129660103, 18.104849869737, 17.6750264549849, 17.67500752784006, 17.675005807190526, 17.675000645241933, 17.674981718097097, 17.674981718097097, 17.67497139419991, 17.67494558445695, 17.504523851675028, 17.504518689726435, 17.245182392438426, 17.24512733165344, 17.245120449055317, 17.245120449055317, 17.802099864136398, 16.989769176080728, 16.977242847496225, 17.305682150592247, 16.81528843105556, 16.81528671040603, 38.268374311945024, 30.128008911939606, 20.94791694383147, 39.47320064383078, 51.17966381598534, 27.68237746647826, 117.99571647827116, 77.96403429231889, 58.43666495335348, 59.43362305671767, 54.367549056059886, 48.926277101305544, 20.5220733914442, 49.167928562715595, 48.53743783772849, 31.492711115632773, 77.66163357857305, 21.669793086050948, 39.128454745131, 47.849326001252656, 23.201193536941297, 27.25790871306613, 32.75635957237978, 29.287168781807473, 23.424072711969895, 28.067500127068705, 24.83436868693122, 45.73550708016055, 43.67233110020357, 29.42443148806271, 25.98759434937044, 25.54594220259396, 21.908229879343253, 20.396883178394106, 25.351536649186365, 18.615519839434995, 16.933411061118676, 17.186830942842203, 16.567026865180534, 15.499236703398223, 16.049570231134684, 14.34808687274223, 14.341079145461435, 13.72880061512446, 28.88617938821787, 11.949326851415892, 11.681173273774704, 11.766648674243399, 11.641893815987128, 22.263962891306196, 10.509153111771207, 10.560815799192854, 9.812210224407782, 9.812198526665828, 9.812193067719582, 9.812168112536742, 9.81216733268728, 31.72464739160769, 40.09978767723631, 24.598161515081312, 28.434967846715367, 29.707707126654476, 13.682686556637028, 22.06784478847632, 27.63278973317205, 26.315686376942047, 25.877905402903366, 35.49565938368841, 42.4453877001707, 87.58946630525573, 73.54690417630458, 39.46514618367831, 32.295646930132165, 28.581941396041877, 20.18992516801882, 40.30205879233477, 42.13099918737521, 34.60335250792651, 30.269279844861764, 31.226713509036074, 24.80040299590015, 23.96382884191094, 24.253567872857843, 68.6534705032718, 53.09410695999443, 45.332752836165724, 31.382790553498534, 30.64071865338089, 30.568062343909787, 30.568046827346098, 30.568020966406618, 30.568008035936877, 30.568023552500563, 30.568008035936877, 30.56797441671555, 30.56793562530633, 30.567912350460798, 30.567889075615266, 21.31846287484415, 18.671829760493946, 16.334849070251103, 15.452539760564342, 14.947081233178643, 14.841313869843388, 12.30106102309413, 13.221489357575486, 11.283638648996357, 14.295152809808972, 9.23901264696571, 9.02812638335268, 8.820668633791305, 7.8357224274934305, 7.728965883223037, 17.36517863924371, 16.417873030360035, 26.84656970887511, 31.49995612590992, 31.074222995802387, 30.568039069064252, 30.56801579421872, 30.567912350460798, 50.18378406927595, 47.725675910693276, 77.25248114563287, 33.00007681455641, 52.997154297881174, 21.02748592818279, 44.577142734229916, 45.914918789192185, 36.83720146829126, 68.64299682278211, 35.186564939679045], \"Total\": [511.0, 799.0, 155.0, 260.0, 201.0, 185.0, 161.0, 170.0, 227.0, 201.0, 436.0, 211.0, 258.0, 192.0, 212.0, 155.0, 359.0, 120.0, 116.0, 90.0, 219.0, 96.0, 96.0, 100.0, 69.0, 319.0, 99.0, 454.0, 178.0, 136.0, 60.02780131544718, 41.82338126488396, 35.646965568186666, 30.220356557697563, 41.399041835720055, 99.9694777968535, 26.677334540419633, 22.9008702295103, 22.448947079665153, 22.09759213334554, 20.861125451927744, 21.023827216090876, 20.13125747828267, 28.064065669358712, 19.761218075126514, 19.134438354764693, 18.765774450164013, 18.945199330102593, 17.778611263250035, 17.531503368575386, 16.442375780641477, 16.531890876526955, 16.433804077201415, 15.632483830375534, 23.494882433665037, 15.639261970258588, 13.931805745755232, 12.87566232418322, 13.026457919739554, 32.31327911362502, 21.34883667771346, 115.14536778956032, 79.64231127119254, 125.35915567019407, 72.78218036293026, 90.40979086839559, 309.44000063850217, 454.2381197794863, 50.47082846897836, 107.9833796224282, 32.39773531716082, 42.81054471125123, 116.63239990873898, 107.24886879385843, 185.44697143773573, 81.65111969489931, 391.7014559360337, 63.47992742320091, 359.1702964818986, 488.7531433221306, 93.00543628051716, 110.15070011261626, 219.64707076678798, 283.2406730724274, 368.25627287728764, 436.14815954878657, 169.0410099274304, 248.14029949522381, 50.02433237149747, 43.52407390552742, 44.02185889882189, 34.16338690128348, 30.43320967070372, 30.022982467422626, 29.781136545679594, 34.28943939810297, 28.303900063119357, 44.85341488781671, 21.51070942003359, 19.553978671096946, 19.23583831172101, 30.076281976727422, 21.05464770260434, 16.65391848679848, 14.898079418038124, 15.080748673769868, 45.93177412585383, 13.218350987208105, 13.218751521165432, 13.332133758535646, 12.930685709789344, 11.351596407740686, 13.297758714288452, 10.833233402227165, 11.960289086221648, 10.828787265582987, 11.96013531293594, 28.319312406132482, 26.147624046282633, 25.963998178063417, 52.38546351146362, 35.023266160147394, 201.36936395140097, 227.91093412270394, 31.18799464755207, 50.443136770126706, 37.90909103555217, 15.769509502055412, 59.23388066432678, 38.61883800276404, 60.622458079427616, 799.2985835000983, 488.7531433221306, 359.1702964818986, 391.7014559360337, 143.6307257672541, 74.38948309653, 42.76614174980372, 53.30747360219769, 86.21198493704715, 145.58250806534326, 145.96344329487732, 105.06670157441984, 53.38709381788266, 270.49212625647425, 56.529320676688556, 309.44000063850217, 436.14815954878657, 248.14029949522381, 114.24505510229173, 75.2207763579747, 96.01253256291768, 96.01253256291768, 60.86000024998606, 45.85257436103534, 33.289181555302385, 32.44863903610828, 33.31735175221533, 33.636146118289844, 27.059926718187516, 28.233551178628044, 28.233551178628044, 28.233551178628044, 28.874898645640393, 23.89552830005211, 22.94181413412002, 33.67563623220042, 170.07954893628408, 32.4374280550163, 20.167658433893862, 30.084204333661177, 30.084205753362188, 18.492965821780626, 18.10459989251405, 16.51382752546976, 185.12764487699528, 116.8082929881674, 14.444947800174505, 14.611449864827378, 14.136191680197161, 14.049279648991918, 120.22291977318447, 27.351304688615667, 88.04080396295919, 84.66601354238031, 511.64173853083537, 47.03183785622191, 258.03786858553553, 92.06029189382159, 114.55783974374623, 219.64707076678798, 248.14029949522381, 43.74391630074188, 211.64223327942744, 64.46665797637083, 72.26455310683464, 189.29587791858694, 454.2381197794863, 149.96529693822458, 319.7211241494955, 115.04841465246004, 488.7531433221306, 129.84871518452942, 270.49212625647425, 283.2406730724274, 168.7945635121704, 161.60405921523756, 31.353794523796115, 28.65123320235646, 26.584977455279343, 33.69131145904484, 40.475384855412536, 22.243832515139488, 21.967332481887414, 21.967332558958542, 20.81588628606082, 20.45167550543967, 20.451674867040886, 20.138619048639598, 19.782742358376336, 25.969020707533456, 19.196507931584883, 19.02538769516277, 18.725242228875235, 100.89623096506955, 18.10181028806511, 17.31638927351441, 16.93718669128281, 16.189654303396093, 77.71959622422858, 77.25166834747716, 17.519316581220274, 14.772219705887549, 14.050014657427566, 14.049876543120542, 12.535199671710496, 21.762176764454633, 88.57234957272829, 260.4358812673434, 49.296356027044354, 74.23067949237766, 64.08464736563717, 799.2985835000983, 43.38010749822651, 47.68432968176414, 436.14815954878657, 57.10089079787949, 86.7548366619233, 39.32968342401385, 56.049592989889135, 76.23351108792072, 29.90158179706491, 488.7531433221306, 129.84871518452942, 145.96344329487732, 368.25627287728764, 34.34516992721506, 37.1299888834063, 114.24505510229173, 155.64696392275226, 73.30606023665283, 454.2381197794863, 391.7014559360337, 148.1282074420858, 169.0410099274304, 37.28766293804768, 29.49089165835511, 29.664921917269005, 25.9016286581922, 23.975224237299987, 33.203441024521176, 22.130702139213483, 21.079915797848358, 30.95485179788506, 20.408478348137553, 20.132747998040976, 21.59654636192477, 20.138716184313797, 16.31436276217718, 18.497790355998383, 16.14168990558927, 15.956711236310841, 15.053781387954494, 16.595489656212408, 15.156072715895554, 16.14345414514512, 16.1434923232005, 13.955297611211321, 13.504247595079676, 13.451812147257659, 13.149883135659087, 13.883891514382913, 13.14677212351191, 12.421690518120727, 50.62015298914513, 61.02790030849547, 93.0984344985981, 38.171270567786564, 24.62416497126444, 201.19302202430168, 70.47287867208642, 43.413148897231224, 212.45962066988892, 78.78056505647966, 126.90430234096101, 148.1282074420858, 37.73361122163311, 63.01282108094744, 359.1702964818986, 26.45039671158917, 28.032492418795126, 118.02041487927451, 178.17493540587571, 56.39266483902058, 368.25627287728764, 123.46491400273928, 115.04841465246004, 178.02438258963068, 159.6630288615621, 136.93865243543513, 319.7211241494955, 134.03027409100312, 85.36441100522428, 436.14815954878657, 391.7014559360337, 454.2381197794863, 309.44000063850217, 39.37401252253819, 90.39132218334431, 34.05968327566938, 62.977852120368915, 36.224157889944784, 25.962258569346464, 24.704687344249706, 25.781456768020828, 24.55526428142895, 22.56751716920663, 20.823078157958154, 20.612904187912246, 20.269750118620863, 18.78561228015709, 16.21548992931263, 29.082397052195244, 14.28929202831829, 12.564840568579543, 13.141599436440965, 12.007415512259053, 30.099606822329633, 11.159156469898381, 10.929986471017532, 10.576720952691579, 10.368065386732036, 10.180934900387522, 11.89428118708467, 31.095395878174497, 9.889375589284992, 9.143387647179269, 13.398713537772299, 27.26631944858113, 57.97714952852454, 75.97211628220738, 54.63528162607983, 28.247019120289888, 31.936932457550405, 22.001689709444257, 63.102358264389295, 30.742959005421394, 211.64223327942744, 55.36027447429646, 174.04153259885405, 51.74973613500762, 192.93519393080442, 283.2406730724274, 149.96529693822458, 511.64173853083537, 143.6307257672541, 368.25627287728764, 114.55783974374623, 145.58250806534326, 116.36367488645477, 128.40060272732754, 260.4358812673434, 454.2381197794863, 159.6630288615621, 270.49212625647425, 155.74702277319994, 36.31121205970869, 49.511542457598196, 29.18220721674093, 28.08559136470778, 27.654070227397106, 25.816338521196887, 22.398899237983944, 23.098223015071866, 23.098263561950557, 23.098263440642544, 22.251860682167237, 20.007212926610013, 18.148079035069912, 43.46599381824654, 33.28210118800826, 15.88197429315503, 16.73434888234099, 15.516461282631893, 15.308661730378484, 14.500780991181381, 13.842720935924035, 13.853594919054423, 13.707921678514065, 13.631752204161154, 13.478286883499795, 12.60160093530343, 12.523502072495615, 12.523693329344203, 12.523710865251045, 54.69101360886645, 16.5268154041666, 19.807421999928575, 30.47459180599551, 26.324529599767267, 21.22508875369011, 46.97938960953475, 28.924942585216886, 22.992937631968935, 136.93865243543513, 49.33628778653211, 29.90580989184327, 96.60964305463547, 73.30606023665283, 436.14815954878657, 171.9100381507133, 270.49212625647425, 72.021914423132, 37.09873875820663, 201.19302202430168, 134.03027409100312, 169.63163678020865, 178.02438258963068, 57.47459442627003, 107.24886879385843, 35.29534170533019, 34.43271377054831, 28.39823709630564, 28.406800866516196, 25.90468912838952, 24.87229443829473, 24.966686954902563, 24.875240657270638, 21.244175222320756, 19.004436696570778, 18.574112020450386, 18.574109702774283, 18.57410877537456, 18.574108475740175, 18.574103575539205, 18.574104857447306, 18.57410489887012, 18.57409852469108, 18.405246471412323, 18.405249374335426, 18.143819668876194, 18.143811722352204, 18.143806644352516, 18.14380965940321, 18.74125851328378, 17.890255349618954, 17.878712752931378, 18.22837518289974, 17.71352312833739, 17.713523984020153, 45.405204531924355, 35.91674552082486, 23.17988419971051, 56.07375583259521, 80.23634051106633, 36.33865072720232, 319.7211241494955, 178.17493540587571, 134.14529939545423, 169.0410099274304, 168.7945635121704, 159.6630288615621, 25.402370141016654, 176.0664987559366, 185.44697143773573, 76.23351108792072, 799.2985835000983, 32.994106722639, 189.29587791858694, 391.7014559360337, 42.45605078908136, 75.01717547433108, 227.91093412270394, 201.36936395140097, 51.70671104283418, 270.49212625647425, 124.6872220417336, 46.84841157570821, 44.959458121116064, 30.385843290663686, 26.899408057635128, 26.44979182149793, 22.803293217044487, 21.307894544872696, 26.511389432219314, 19.517695123716514, 17.830895506062884, 18.098214389429902, 17.469313300774658, 16.400154466751538, 17.022152844383204, 15.245919571663189, 15.2410280180585, 14.626874923554162, 30.81945362655953, 12.844504885877905, 12.577184575352284, 12.68255944927521, 12.577175371062365, 24.119284840168213, 11.42531418421729, 11.503402078249069, 10.708647761999169, 10.70865328587963, 10.708648305962994, 10.708654215559905, 10.70865340728269, 34.74780281948814, 44.66667969089481, 27.532517278292804, 32.16101301435403, 35.204456068964426, 15.414377999865655, 26.668625882122697, 36.17094861354014, 34.18914714287932, 34.94229391416786, 53.41967993408734, 69.32625833809601, 192.93519393080442, 169.63163678020865, 69.34747515093285, 51.73114286557589, 53.02577032121131, 27.053614122311163, 171.9100381507133, 283.2406730724274, 178.02438258963068, 134.03027409100312, 212.45962066988892, 71.90259773340726, 61.0467241868095, 119.15421241885188, 69.59609901020677, 53.97919849313004, 46.214260034765, 32.2654308223671, 31.522431245500066, 31.450790969146432, 31.450796593393104, 31.450793500440682, 31.450792477742784, 31.450814708458594, 31.450799220506692, 31.450785209107863, 31.45077579030262, 31.450796054612614, 31.450785922544167, 22.202095807891265, 19.55681317961626, 17.237013169921923, 16.33681821090978, 15.83036534168826, 15.726510024390375, 13.184755203550505, 14.173191621032647, 12.175535863614343, 15.475586325886797, 10.125590653189606, 9.913413545933679, 9.709616635203439, 8.720102388285808, 8.612508280130278, 19.36831900548583, 18.83253220222298, 34.59343493704185, 42.16995419850123, 41.67318998833291, 41.1665577503806, 41.166573185248645, 41.16655022970279, 81.50024392892813, 80.09588420097813, 155.64696392275226, 54.01824360050638, 124.6872220417336, 27.806325610771747, 119.97868859290563, 176.0664987559366, 107.9833796224282, 799.2985835000983, 309.44000063850217], \"Category\": [\"Default\", \"Default\", \"Default\", \"Default\", \"Default\", \"Default\", \"Default\", \"Default\", \"Default\", \"Default\", \"Default\", \"Default\", \"Default\", \"Default\", \"Default\", \"Default\", \"Default\", \"Default\", \"Default\", \"Default\", \"Default\", \"Default\", \"Default\", \"Default\", \"Default\", \"Default\", \"Default\", \"Default\", \"Default\", \"Default\", \"Topic1\", \"Topic1\", \"Topic1\", \"Topic1\", \"Topic1\", \"Topic1\", \"Topic1\", \"Topic1\", \"Topic1\", \"Topic1\", \"Topic1\", \"Topic1\", \"Topic1\", \"Topic1\", \"Topic1\", \"Topic1\", \"Topic1\", \"Topic1\", \"Topic1\", \"Topic1\", \"Topic1\", \"Topic1\", \"Topic1\", \"Topic1\", \"Topic1\", \"Topic1\", \"Topic1\", \"Topic1\", \"Topic1\", \"Topic1\", \"Topic1\", \"Topic1\", \"Topic1\", \"Topic1\", \"Topic1\", \"Topic1\", \"Topic1\", \"Topic1\", \"Topic1\", \"Topic1\", \"Topic1\", \"Topic1\", \"Topic1\", \"Topic1\", \"Topic1\", \"Topic1\", \"Topic1\", \"Topic1\", \"Topic1\", \"Topic1\", \"Topic1\", \"Topic1\", \"Topic1\", \"Topic1\", \"Topic1\", \"Topic1\", \"Topic1\", \"Topic1\", \"Topic2\", \"Topic2\", \"Topic2\", \"Topic2\", \"Topic2\", \"Topic2\", \"Topic2\", \"Topic2\", \"Topic2\", \"Topic2\", \"Topic2\", \"Topic2\", \"Topic2\", \"Topic2\", \"Topic2\", \"Topic2\", \"Topic2\", \"Topic2\", \"Topic2\", \"Topic2\", \"Topic2\", \"Topic2\", \"Topic2\", \"Topic2\", \"Topic2\", \"Topic2\", \"Topic2\", \"Topic2\", \"Topic2\", \"Topic2\", \"Topic2\", \"Topic2\", \"Topic2\", \"Topic2\", \"Topic2\", \"Topic2\", \"Topic2\", \"Topic2\", \"Topic2\", \"Topic2\", \"Topic2\", \"Topic2\", \"Topic2\", \"Topic2\", \"Topic2\", \"Topic2\", \"Topic2\", \"Topic2\", \"Topic2\", \"Topic2\", \"Topic2\", \"Topic2\", \"Topic2\", \"Topic2\", \"Topic2\", \"Topic2\", \"Topic2\", \"Topic2\", \"Topic2\", \"Topic2\", \"Topic2\", \"Topic2\", \"Topic2\", \"Topic3\", \"Topic3\", \"Topic3\", \"Topic3\", \"Topic3\", \"Topic3\", \"Topic3\", \"Topic3\", \"Topic3\", \"Topic3\", \"Topic3\", \"Topic3\", \"Topic3\", \"Topic3\", \"Topic3\", \"Topic3\", \"Topic3\", \"Topic3\", \"Topic3\", \"Topic3\", \"Topic3\", \"Topic3\", \"Topic3\", \"Topic3\", \"Topic3\", \"Topic3\", \"Topic3\", \"Topic3\", \"Topic3\", \"Topic3\", \"Topic3\", \"Topic3\", \"Topic3\", \"Topic3\", \"Topic3\", \"Topic3\", \"Topic3\", \"Topic3\", \"Topic3\", \"Topic3\", \"Topic3\", \"Topic3\", \"Topic3\", \"Topic3\", \"Topic3\", \"Topic3\", \"Topic3\", \"Topic3\", \"Topic3\", \"Topic3\", \"Topic3\", \"Topic3\", \"Topic3\", \"Topic3\", \"Topic3\", \"Topic4\", \"Topic4\", \"Topic4\", \"Topic4\", \"Topic4\", \"Topic4\", \"Topic4\", \"Topic4\", \"Topic4\", \"Topic4\", \"Topic4\", \"Topic4\", \"Topic4\", \"Topic4\", \"Topic4\", \"Topic4\", \"Topic4\", \"Topic4\", \"Topic4\", \"Topic4\", \"Topic4\", \"Topic4\", \"Topic4\", \"Topic4\", \"Topic4\", \"Topic4\", \"Topic4\", \"Topic4\", \"Topic4\", \"Topic4\", \"Topic4\", \"Topic4\", \"Topic4\", \"Topic4\", \"Topic4\", \"Topic4\", \"Topic4\", \"Topic4\", \"Topic4\", \"Topic4\", \"Topic4\", \"Topic4\", \"Topic4\", \"Topic4\", \"Topic4\", \"Topic4\", \"Topic4\", \"Topic4\", \"Topic4\", \"Topic4\", \"Topic4\", \"Topic4\", \"Topic4\", \"Topic4\", \"Topic4\", \"Topic4\", \"Topic4\", \"Topic4\", \"Topic4\", \"Topic5\", \"Topic5\", \"Topic5\", \"Topic5\", \"Topic5\", \"Topic5\", \"Topic5\", \"Topic5\", \"Topic5\", \"Topic5\", \"Topic5\", \"Topic5\", \"Topic5\", \"Topic5\", \"Topic5\", \"Topic5\", \"Topic5\", \"Topic5\", \"Topic5\", \"Topic5\", \"Topic5\", \"Topic5\", \"Topic5\", \"Topic5\", \"Topic5\", \"Topic5\", \"Topic5\", \"Topic5\", \"Topic5\", \"Topic5\", \"Topic5\", \"Topic5\", \"Topic5\", \"Topic5\", \"Topic5\", \"Topic5\", \"Topic5\", \"Topic5\", \"Topic5\", \"Topic5\", \"Topic5\", \"Topic5\", \"Topic5\", \"Topic5\", \"Topic5\", \"Topic5\", \"Topic5\", \"Topic5\", \"Topic5\", \"Topic5\", \"Topic5\", \"Topic5\", \"Topic5\", \"Topic5\", \"Topic5\", \"Topic5\", \"Topic5\", \"Topic5\", \"Topic5\", \"Topic5\", \"Topic5\", \"Topic5\", \"Topic6\", \"Topic6\", \"Topic6\", \"Topic6\", \"Topic6\", \"Topic6\", \"Topic6\", \"Topic6\", \"Topic6\", \"Topic6\", \"Topic6\", \"Topic6\", \"Topic6\", \"Topic6\", \"Topic6\", \"Topic6\", \"Topic6\", \"Topic6\", \"Topic6\", \"Topic6\", \"Topic6\", \"Topic6\", \"Topic6\", \"Topic6\", \"Topic6\", \"Topic6\", \"Topic6\", \"Topic6\", \"Topic6\", \"Topic6\", \"Topic6\", \"Topic6\", \"Topic6\", \"Topic6\", \"Topic6\", \"Topic6\", \"Topic6\", \"Topic6\", \"Topic6\", \"Topic6\", \"Topic6\", \"Topic6\", \"Topic6\", \"Topic6\", \"Topic6\", \"Topic6\", \"Topic6\", \"Topic6\", \"Topic6\", \"Topic6\", \"Topic6\", \"Topic6\", \"Topic6\", \"Topic6\", \"Topic6\", \"Topic6\", \"Topic6\", \"Topic6\", \"Topic7\", \"Topic7\", \"Topic7\", \"Topic7\", \"Topic7\", \"Topic7\", \"Topic7\", \"Topic7\", \"Topic7\", \"Topic7\", \"Topic7\", \"Topic7\", \"Topic7\", \"Topic7\", \"Topic7\", \"Topic7\", \"Topic7\", \"Topic7\", \"Topic7\", \"Topic7\", \"Topic7\", \"Topic7\", \"Topic7\", \"Topic7\", \"Topic7\", \"Topic7\", \"Topic7\", \"Topic7\", \"Topic7\", \"Topic7\", \"Topic7\", \"Topic7\", \"Topic7\", \"Topic7\", \"Topic7\", \"Topic7\", \"Topic7\", \"Topic7\", \"Topic7\", \"Topic7\", \"Topic7\", \"Topic7\", \"Topic7\", \"Topic7\", \"Topic7\", \"Topic7\", \"Topic7\", \"Topic7\", \"Topic7\", \"Topic7\", \"Topic7\", \"Topic7\", \"Topic7\", \"Topic7\", \"Topic7\", \"Topic8\", \"Topic8\", \"Topic8\", \"Topic8\", \"Topic8\", \"Topic8\", \"Topic8\", \"Topic8\", \"Topic8\", \"Topic8\", \"Topic8\", \"Topic8\", \"Topic8\", \"Topic8\", \"Topic8\", \"Topic8\", \"Topic8\", \"Topic8\", \"Topic8\", \"Topic8\", \"Topic8\", \"Topic8\", \"Topic8\", \"Topic8\", \"Topic8\", \"Topic8\", \"Topic8\", \"Topic8\", \"Topic8\", \"Topic8\", \"Topic8\", \"Topic8\", \"Topic8\", \"Topic8\", \"Topic8\", \"Topic8\", \"Topic8\", \"Topic8\", \"Topic8\", \"Topic8\", \"Topic8\", \"Topic8\", \"Topic8\", \"Topic8\", \"Topic8\", \"Topic8\", \"Topic8\", \"Topic8\", \"Topic8\", \"Topic8\", \"Topic8\", \"Topic8\", \"Topic8\", \"Topic8\", \"Topic8\", \"Topic8\", \"Topic8\", \"Topic9\", \"Topic9\", \"Topic9\", \"Topic9\", \"Topic9\", \"Topic9\", \"Topic9\", \"Topic9\", \"Topic9\", \"Topic9\", \"Topic9\", \"Topic9\", \"Topic9\", \"Topic9\", \"Topic9\", \"Topic9\", \"Topic9\", \"Topic9\", \"Topic9\", \"Topic9\", \"Topic9\", \"Topic9\", \"Topic9\", \"Topic9\", \"Topic9\", \"Topic9\", \"Topic9\", \"Topic9\", \"Topic9\", \"Topic9\", \"Topic9\", \"Topic9\", \"Topic9\", \"Topic9\", \"Topic9\", \"Topic9\", \"Topic9\", \"Topic9\", \"Topic9\", \"Topic9\", \"Topic9\", \"Topic9\", \"Topic9\", \"Topic9\", \"Topic9\", \"Topic9\", \"Topic9\", \"Topic9\", \"Topic9\", \"Topic9\", \"Topic9\", \"Topic9\", \"Topic9\", \"Topic9\", \"Topic9\", \"Topic9\", \"Topic10\", \"Topic10\", \"Topic10\", \"Topic10\", \"Topic10\", \"Topic10\", \"Topic10\", \"Topic10\", \"Topic10\", \"Topic10\", \"Topic10\", \"Topic10\", \"Topic10\", \"Topic10\", \"Topic10\", \"Topic10\", \"Topic10\", \"Topic10\", \"Topic10\", \"Topic10\", \"Topic10\", \"Topic10\", \"Topic10\", \"Topic10\", \"Topic10\", \"Topic10\", \"Topic10\", \"Topic10\", \"Topic10\", \"Topic10\", \"Topic10\", \"Topic10\", \"Topic10\", \"Topic10\", \"Topic10\", \"Topic10\", \"Topic10\", \"Topic10\", \"Topic10\", \"Topic10\", \"Topic10\", \"Topic10\", \"Topic10\", \"Topic10\", \"Topic10\", \"Topic10\", \"Topic10\", \"Topic10\", \"Topic10\"], \"logprob\": [30.0, 29.0, 28.0, 27.0, 26.0, 25.0, 24.0, 23.0, 22.0, 21.0, 20.0, 19.0, 18.0, 17.0, 16.0, 15.0, 14.0, 13.0, 12.0, 11.0, 10.0, 9.0, 8.0, 7.0, 6.0, 5.0, 4.0, 3.0, 2.0, 1.0, -4.554200172424316, -4.9207000732421875, -5.083499908447266, -5.2530999183654785, -4.939199924468994, -4.058800220489502, -5.381999969482422, -5.5406999588012695, -5.561200141906738, -5.5782999992370605, -5.638500213623047, -5.63129997253418, -5.674799919128418, -5.344099998474121, -5.695300102233887, -5.7281999588012695, -5.75, -5.742199897766113, -5.8059000968933105, -5.822299957275391, -5.887800216674805, -5.883200168609619, -5.8907999992370605, -5.941299915313721, -5.533999919891357, -5.9421000480651855, -6.06689977645874, -6.1483001708984375, -6.137400150299072, -5.231200218200684, -5.648799896240234, -4.118800163269043, -4.535600185394287, -4.155600070953369, -4.702400207519531, -4.549799919128418, -3.595599889755249, -3.3166000843048096, -5.045400142669678, -4.552700042724609, -5.387899875640869, -5.209000110626221, -4.640200138092041, -4.711400032043457, -4.417099952697754, -4.898499965667725, -4.07420015335083, -5.041999816894531, -4.126999855041504, -3.990999937057495, -4.879499912261963, -4.839399814605713, -4.572500228881836, -4.559500217437744, -4.593299865722656, -4.644000053405762, -4.985099792480469, -5.000100135803223, -4.703100204467773, -4.84499979019165, -4.834700107574463, -5.093500137329102, -5.2118000984191895, -5.226399898529053, -5.236299991607666, -5.095900058746338, -5.291100025177002, -4.831299781799316, -5.571100234985352, -5.671199798583984, -5.688199996948242, -5.242300033569336, -5.601399898529053, -5.840400218963623, -5.957499980926514, -5.946199893951416, -4.8394999504089355, -6.0858001708984375, -6.08650016784668, -6.07859992980957, -6.109899997711182, -6.25, -6.0929999351501465, -6.301799774169922, -6.2042999267578125, -6.303699970245361, -6.204500198364258, -5.343599796295166, -5.426799774169922, -5.434500217437744, -4.743100166320801, -5.154600143432617, -3.47760009765625, -3.400700092315674, -5.3144001960754395, -4.885200023651123, -5.140699863433838, -5.940100193023682, -4.856500148773193, -5.214900016784668, -4.935100078582764, -3.1047000885009766, -3.5653998851776123, -3.8060998916625977, -3.8192999362945557, -4.473100185394287, -4.89709997177124, -5.19189977645874, -5.089099884033203, -4.924200057983398, -4.833199977874756, -4.91379976272583, -4.994699954986572, -5.149799823760986, -4.89109992980957, -5.140999794006348, -4.9868998527526855, -4.98769998550415, -5.078400135040283, -5.125999927520752, -5.140399932861328, -4.022500038146973, -4.022500038146973, -4.485400199890137, -4.7729997634887695, -5.098800182342529, -5.125, -5.099999904632568, -5.092299938201904, -5.312300205230713, -5.273799896240234, -5.273799896240234, -5.273799896240234, -5.2519001960754395, -5.442800045013428, -5.483699798583984, -5.101900100708008, -3.4886999130249023, -5.146599769592285, -5.622000217437744, -5.222599983215332, -5.222599983215332, -5.709199905395508, -5.732100009918213, -5.828999996185303, -3.4128000736236572, -3.8766000270843506, -5.9710001945495605, -5.96019983291626, -5.994100093841553, -6.000800132751465, -3.8554000854492188, -5.335599899291992, -4.209400177001953, -4.254899978637695, -2.545099973678589, -4.871200084686279, -3.3721001148223877, -4.3225998878479, -4.243000030517578, -3.7660999298095703, -3.723299980163574, -4.997700214385986, -4.030700206756592, -4.871200084686279, -4.825900077819824, -4.39139986038208, -4.065800189971924, -4.654799938201904, -4.53000020980835, -4.813000202178955, -4.499000072479248, -4.837600231170654, -4.777900218963623, -4.888199806213379, -4.956200122833252, -3.4683001041412354, -5.125400066375732, -5.218500137329102, -5.295599937438965, -5.061500072479248, -4.8790998458862305, -5.4807000160217285, -5.493899822235107, -5.493899822235107, -5.549900054931641, -5.56850004196167, -5.56850004196167, -5.584799766540527, -5.603499889373779, -5.332600116729736, -5.634900093078613, -5.644499778747559, -5.661200046539307, -3.978100061416626, -5.696499824523926, -5.743500232696533, -5.7677001953125, -5.814000129699707, -4.247000217437744, -4.253900051116943, -5.7393999099731445, -5.911799907684326, -5.966300010681152, -5.966300010681152, -6.089000225067139, -5.555500030517578, -4.21120023727417, -3.2490999698638916, -4.817399978637695, -4.474400043487549, -4.618899822235107, -2.583699941635132, -4.992099761962891, -4.948299884796143, -3.315200090408325, -4.870699882507324, -4.5883002281188965, -5.146399974822998, -4.919600009918213, -4.7718000411987305, -5.348800182342529, -3.8090999126434326, -4.563499927520752, -4.562099933624268, -4.118199825286865, -5.2846999168396, -5.254000186920166, -4.776899814605713, -4.751100063323975, -5.084799766540527, -4.743500232696533, -4.820499897003174, -5.050000190734863, -5.065999984741211, -4.792200088500977, -5.033299922943115, -5.030099868774414, -5.166999816894531, -5.247000217437744, -4.921500205993652, -5.3302001953125, -5.38100004196167, -4.996799945831299, -5.415200233459473, -5.4319000244140625, -5.363399982452393, -5.43720006942749, -5.650700092315674, -5.525599956512451, -5.6620001792907715, -5.673999786376953, -5.735599994659424, -5.640399932861328, -5.7316999435424805, -5.67140007019043, -5.671500205993652, -5.817500114440918, -5.8516998291015625, -5.8572001457214355, -5.880300045013428, -5.826499938964844, -5.881100177764893, -5.9415998458862305, -4.538000106811523, -4.383299827575684, -3.9900999069213867, -4.875899791717529, -5.288099765777588, -3.325700044631958, -4.32859992980957, -4.7779998779296875, -3.490799903869629, -4.34630012512207, -3.9651999473571777, -4.03980016708374, -5.044899940490723, -4.8053998947143555, -3.734999895095825, -5.370299816131592, -5.337800025939941, -4.549799919128418, -4.327499866485596, -4.958499908447266, -4.103499889373779, -4.64709997177124, -4.736199855804443, -4.651500225067139, -4.706699848175049, -4.771100044250488, -4.634799957275391, -4.848800182342529, -4.9471001625061035, -4.8246002197265625, -4.839799880981445, -4.839700222015381, -4.925600051879883, -4.6834001541137695, -3.853600025177002, -4.832499980926514, -4.218100070953369, -4.7718000411987305, -5.11269998550415, -5.16379976272583, -5.122300148010254, -5.171599864959717, -5.258699893951416, -5.341300010681152, -5.3520002365112305, -5.369800090789795, -5.450099945068359, -5.604400157928467, -5.0233001708984375, -5.742099761962891, -5.876500129699707, -5.832099914550781, -5.925000190734863, -5.007599830627441, -6.00439977645874, -6.02869987487793, -6.064000129699707, -6.08620023727417, -6.105000019073486, -5.9506001472473145, -4.990900039672852, -6.1367998123168945, -6.222799777984619, -5.843400001525879, -5.152299880981445, -4.431399822235107, -4.17519998550415, -4.492800235748291, -5.142199993133545, -5.042799949645996, -5.3881001472473145, -4.511300086975098, -5.137899875640869, -3.711699962615967, -4.78000020980835, -3.973299980163574, -4.84499979019165, -4.097499847412109, -4.059599876403809, -4.431300163269043, -3.995699882507324, -4.549200057983398, -4.271900177001953, -4.7291998863220215, -4.712100028991699, -4.827099800109863, -4.824999809265137, -4.759300231933594, -4.805099964141846, -4.922399997711182, -4.950099945068359, -3.188800096511841, -4.66540002822876, -4.357900142669678, -4.888999938964844, -4.928400039672852, -4.9440999031066895, -5.01800012588501, -5.162899971008301, -5.136000156402588, -5.136000156402588, -5.136000156402588, -5.173600196838379, -5.282199859619141, -5.383600234985352, -4.513199806213379, -4.78410005569458, -5.524799823760986, -5.473100185394287, -5.549200057983398, -5.563799858093262, -5.6230998039245605, -5.671000003814697, -5.670300006866455, -5.681399822235107, -5.687699794769287, -5.699699878692627, -5.771900177001953, -5.778500080108643, -5.778600215911865, -5.778600215911865, -4.3109002113342285, -5.503499984741211, -5.32889986038208, -4.948500156402588, -5.105199813842773, -5.301400184631348, -4.64169979095459, -5.067999839782715, -5.2581000328063965, -3.875200033187866, -4.7291998863220215, -5.085899829864502, -4.327899932861328, -4.5528998374938965, -3.6326000690460205, -4.186399936676025, -3.9890999794006348, -4.74560022354126, -5.059700012207031, -4.533699989318848, -4.692399978637695, -4.668799877166748, -5.043099880218506, -5.093599796295166, -5.08459997177124, -4.676799774169922, -4.707799911499023, -4.900599956512451, -4.901199817657471, -4.996799945831299, -5.0381999015808105, -5.035099983215332, -5.039400100708008, -5.201900005340576, -5.318600177764893, -5.342599868774414, -5.342599868774414, -5.342599868774414, -5.342599868774414, -5.342599868774414, -5.342599868774414, -5.342599868774414, -5.342599868774414, -5.35230016708374, -5.35230016708374, -5.367199897766113, -5.367199897766113, -5.367199897766113, -5.367199897766113, -5.335400104522705, -5.3821001052856445, -5.382900238037109, -5.363699913024902, -5.392499923706055, -5.392499923706055, -4.570099830627441, -4.809299945831299, -5.172699928283691, -4.539100170135498, -4.279399871826172, -4.894000053405762, -3.4440999031066895, -3.8585000038146973, -4.1468000411987305, -4.129899978637695, -4.218999862670898, -4.324399948120117, -5.193299770355225, -4.319499969482422, -4.332399845123291, -4.764999866485596, -3.8624000549316406, -5.138800144195557, -4.547900199890137, -4.346700191497803, -5.0706000328063965, -4.90939998626709, -4.7256999015808105, -4.837600231170654, -5.060999870300293, -4.880099773406982, -5.002500057220459, -4.293700218200684, -4.339799880981445, -4.7347002029418945, -4.85890007019043, -4.876100063323975, -5.029699802398682, -5.101200103759766, -4.883699893951416, -5.192500114440918, -5.287300109863281, -5.27239990234375, -5.309100151062012, -5.375800132751465, -5.34089994430542, -5.452899932861328, -5.453400135040283, -5.497000217437744, -4.753200054168701, -5.635900020599365, -5.658599853515625, -5.651299953460693, -5.661900043487549, -5.013599872589111, -5.7642998695373535, -5.759399890899658, -5.832900047302246, -5.832900047302246, -5.832900047302246, -5.832900047302246, -5.832900047302246, -4.6595001220703125, -4.42519998550415, -4.913899898529053, -4.768899917602539, -4.725100040435791, -5.500400066375732, -5.02239990234375, -4.797500133514404, -4.846399784088135, -4.8632001876831055, -4.547100067138672, -4.368299961090088, -3.643899917602539, -3.8185999393463135, -4.441100120544434, -4.641600131988525, -4.763800144195557, -5.111400127410889, -4.420100212097168, -4.375800132751465, -4.5725998878479, -4.706399917602539, -4.675300121307373, -4.905700206756592, -4.940000057220459, -4.927999973297119, -3.700000047683716, -3.9570000171661377, -4.114999771118164, -4.482800006866455, -4.506700038909912, -4.509099960327148, -4.509099960327148, -4.509099960327148, -4.509099960327148, -4.509099960327148, -4.509099960327148, -4.509099960327148, -4.509099960327148, -4.509099960327148, -4.509099960327148, -4.869500160217285, -5.001999855041504, -5.135799884796143, -5.191299915313721, -5.2245001792907715, -5.231599807739258, -5.419400215148926, -5.3471999168396, -5.50570011138916, -5.269100189208984, -5.705599784851074, -5.728700160980225, -5.751999855041504, -5.8703999519348145, -5.884099960327148, -5.0746002197265625, -5.13070011138916, -4.638899803161621, -4.479100227355957, -4.492700099945068, -4.509099960327148, -4.509099960327148, -4.509099960327148, -4.013400077819824, -4.063600063323975, -3.5820000171661377, -4.432499885559082, -3.9588000774383545, -4.883200168609619, -4.131800174713135, -4.10230016708374, -4.322500228881836, -3.7000999450683594, -4.3684000968933105], \"loglift\": [30.0, 29.0, 28.0, 27.0, 26.0, 25.0, 24.0, 23.0, 22.0, 21.0, 20.0, 19.0, 18.0, 17.0, 16.0, 15.0, 14.0, 13.0, 12.0, 11.0, 10.0, 9.0, 8.0, 7.0, 6.0, 5.0, 4.0, 3.0, 2.0, 1.0, 2.0333, 2.0282, 2.0252, 2.0207, 2.0198, 2.0186, 2.0164, 2.0104, 2.0099, 2.0085, 2.0059, 2.0054, 2.0053, 2.0037, 2.0033, 2.0026, 2.0003, 1.9986, 1.9983, 1.996, 1.9946, 1.9938, 1.9921, 1.9916, 1.9915, 1.9904, 1.9812, 1.9786, 1.9779, 1.9756, 1.9725, 1.8173, 1.7692, 1.6955, 1.6925, 1.6282, 1.3519, 1.2471, 1.7155, 1.4476, 1.8163, 1.7165, 1.2831, 1.2958, 1.0425, 1.3814, 0.6376, 1.4896, 0.6714, 0.4994, 1.2702, 1.141, 0.7177, 0.4765, 0.1802, -0.0397, 0.567, 0.1682, 2.0667, 2.064, 2.0629, 2.0576, 2.0549, 2.0539, 2.0521, 2.0516, 2.0482, 2.0476, 2.0427, 2.0379, 2.0373, 2.0363, 2.0338, 2.0292, 2.0236, 2.0226, 2.0156, 2.0149, 2.0142, 2.0135, 2.0128, 2.003, 2.0017, 1.9978, 1.9964, 1.9963, 1.9962, 1.9951, 1.9917, 1.9911, 1.9806, 1.9716, 1.8995, 1.8527, 1.9279, 1.8762, 1.9064, 1.9841, 1.7443, 1.8136, 1.6425, 0.8938, 0.925, 0.9924, 0.8925, 1.2419, 1.4759, 1.7346, 1.6171, 1.3013, 0.8684, 0.7851, 1.033, 1.5549, 0.1909, 1.5065, -0.0393, -0.3834, 0.0899, 0.8179, 1.2215, 2.0953, 2.0953, 2.0883, 2.0838, 2.0782, 2.0776, 2.0762, 2.0743, 2.0719, 2.068, 2.068, 2.068, 2.0674, 2.0658, 2.0657, 2.0637, 2.0573, 2.0563, 2.0562, 2.0557, 2.0557, 2.0557, 2.054, 2.049, 2.0484, 2.0452, 2.041, 2.0403, 2.0395, 2.0389, 2.0375, 2.0379, 1.9951, 1.9887, 1.8996, 1.9602, 1.757, 1.8372, 1.6982, 1.5242, 1.445, 1.9063, 1.2967, 1.645, 1.576, 1.0476, 0.4979, 1.017, 0.3848, 1.1239, -0.0086, 0.9783, 0.3041, 0.1477, 0.5974, 2.1289, 2.1116, 2.1086, 2.1063, 2.1035, 2.1025, 2.0996, 2.0988, 2.0988, 2.0966, 2.0958, 2.0958, 2.0948, 2.0939, 2.0928, 2.0926, 2.0921, 2.0912, 2.0901, 2.0897, 2.0871, 2.085, 2.0839, 2.0822, 2.0814, 2.0796, 2.0778, 2.0734, 2.0734, 2.0648, 2.0466, 1.9873, 1.8708, 1.967, 1.9007, 1.9032, 1.4149, 1.9202, 1.8694, 1.2891, 1.7668, 1.6309, 1.8639, 1.7364, 1.5767, 1.9356, 0.6813, 1.2524, 1.1369, 0.6553, 1.8611, 1.8138, 1.167, 0.8836, 1.3029, -0.1799, -0.1087, 0.6342, 0.4861, 2.2714, 2.2649, 2.2622, 2.2609, 2.2583, 2.2581, 2.2551, 2.253, 2.2529, 2.2512, 2.248, 2.2464, 2.2424, 2.2396, 2.2391, 2.2388, 2.2384, 2.2351, 2.2328, 2.2322, 2.2294, 2.2293, 2.2289, 2.2276, 2.226, 2.2256, 2.225, 2.225, 2.2212, 2.2199, 2.1877, 2.1586, 2.1643, 2.1904, 2.0523, 2.0984, 2.1335, 1.8327, 1.9693, 1.8737, 1.6444, 2.0069, 1.7336, 1.0635, 2.0367, 2.0111, 1.3616, 1.172, 1.6914, 0.67, 1.2193, 1.2007, 0.8489, 0.9025, 0.9916, 0.28, 0.9355, 1.2882, -0.2203, -0.128, -0.2761, 0.022, 2.3258, 2.3245, 2.3216, 2.3214, 2.3208, 2.313, 2.3114, 2.3103, 2.3097, 2.3071, 2.3049, 2.3044, 2.3033, 2.2991, 2.2919, 2.2889, 2.2807, 2.2748, 2.2744, 2.2717, 2.2701, 2.2657, 2.2621, 2.2596, 2.2574, 2.2568, 2.2556, 2.2543, 2.254, 2.2464, 2.2437, 2.2243, 2.1908, 2.1767, 2.1888, 2.1991, 2.1757, 2.2031, 2.0263, 2.1187, 1.6157, 1.8884, 1.5497, 1.8909, 1.3225, 0.9764, 1.2406, 0.449, 1.1658, 0.5017, 1.212, 0.9894, 1.0985, 1.0021, 0.3606, -0.2414, 0.6868, 0.1319, 2.4452, 2.4247, 2.4222, 2.4197, 2.4186, 2.4185, 2.4132, 2.4104, 2.4065, 2.4065, 2.4065, 2.4062, 2.404, 2.4001, 2.3971, 2.3932, 2.3923, 2.3917, 2.3912, 2.3901, 2.385, 2.3835, 2.3834, 2.383, 2.3822, 2.3815, 2.3765, 2.3761, 2.3761, 2.3761, 2.3696, 2.3738, 2.3673, 2.3169, 2.3066, 2.3257, 2.1909, 2.2496, 2.289, 1.8876, 2.0544, 2.1983, 1.7837, 1.8348, 0.9717, 1.349, 1.093, 1.6597, 2.009, 0.8444, 1.0918, 0.8798, 0.4572, 1.5374, 0.9225, 2.4417, 2.4355, 2.4354, 2.4344, 2.431, 2.4303, 2.4296, 2.429, 2.4243, 2.419, 2.4179, 2.4179, 2.4179, 2.4179, 2.4179, 2.4179, 2.4179, 2.4179, 2.4174, 2.4174, 2.4167, 2.4167, 2.4167, 2.4167, 2.4161, 2.4159, 2.4158, 2.4156, 2.4155, 2.4155, 2.2965, 2.2918, 2.3663, 2.1165, 2.0179, 2.1954, 1.4707, 1.641, 1.6366, 1.4222, 1.3346, 1.2848, 2.2542, 1.1919, 1.1271, 1.5835, 0.1362, 2.0471, 0.8911, 0.3651, 1.8633, 1.4552, 0.5277, 0.5395, 1.6757, 0.2019, 0.854, 2.5417, 2.5367, 2.5336, 2.5313, 2.531, 2.5257, 2.522, 2.521, 2.5184, 2.5141, 2.5141, 2.5127, 2.5092, 2.5069, 2.505, 2.5049, 2.5024, 2.501, 2.4935, 2.4918, 2.4908, 2.4885, 2.4857, 2.4822, 2.4802, 2.4783, 2.4783, 2.4783, 2.4783, 2.4783, 2.4747, 2.4579, 2.453, 2.4426, 2.396, 2.4466, 2.3764, 2.2965, 2.304, 2.2654, 2.157, 2.0751, 1.776, 1.73, 2.002, 2.0946, 1.9477, 2.2731, 1.1152, 0.6602, 0.9278, 1.0778, 0.6483, 1.5013, 1.6306, 0.9739, 2.7396, 2.7367, 2.734, 2.7255, 2.7249, 2.7248, 2.7248, 2.7248, 2.7248, 2.7248, 2.7248, 2.7248, 2.7248, 2.7248, 2.7248, 2.7126, 2.7069, 2.6995, 2.6976, 2.6958, 2.6953, 2.6839, 2.6837, 2.6772, 2.6739, 2.6616, 2.6597, 2.6572, 2.6463, 2.645, 2.6441, 2.616, 2.4997, 2.4615, 2.4598, 2.4556, 2.4556, 2.4556, 2.2683, 2.2355, 2.0527, 2.2604, 1.8977, 2.4738, 1.7631, 1.4092, 1.6778, 0.2984, 0.5791]}, \"token.table\": {\"Topic\": [1, 1, 6, 9, 5, 1, 8, 7, 10, 4, 1, 2, 3, 4, 5, 6, 7, 8, 9, 10, 1, 5, 5, 7, 1, 1, 2, 3, 4, 5, 6, 7, 10, 10, 1, 2, 3, 4, 5, 6, 7, 8, 9, 6, 9, 1, 9, 1, 6, 8, 9, 2, 3, 4, 5, 8, 1, 5, 8, 1, 1, 4, 4, 4, 4, 4, 5, 9, 7, 9, 7, 4, 6, 1, 5, 7, 8, 10, 10, 10, 5, 9, 1, 4, 9, 10, 10, 10, 5, 5, 5, 4, 5, 1, 3, 5, 4, 4, 8, 1, 2, 3, 6, 7, 9, 6, 8, 8, 8, 5, 6, 9, 9, 4, 7, 1, 2, 7, 2, 5, 7, 1, 4, 5, 6, 7, 9, 2, 3, 4, 5, 6, 7, 8, 9, 10, 3, 2, 7, 2, 9, 10, 9, 10, 6, 1, 2, 3, 4, 6, 7, 9, 10, 1, 3, 3, 3, 10, 3, 3, 5, 1, 2, 5, 7, 9, 4, 7, 2, 9, 2, 6, 1, 2, 5, 6, 7, 9, 6, 2, 1, 5, 1, 8, 6, 7, 6, 1, 2, 3, 5, 7, 8, 9, 5, 2, 4, 5, 6, 7, 2, 6, 6, 3, 4, 3, 4, 8, 9, 9, 3, 4, 6, 7, 10, 4, 6, 4, 4, 4, 4, 9, 8, 8, 8, 1, 1, 9, 4, 10, 9, 7, 1, 5, 7, 2, 3, 5, 3, 1, 2, 3, 4, 3, 3, 8, 10, 6, 1, 6, 7, 7, 1, 5, 9, 4, 5, 7, 5, 7, 1, 2, 3, 4, 5, 6, 7, 1, 2, 3, 2, 3, 3, 4, 3, 4, 3, 3, 6, 1, 2, 5, 7, 2, 1, 8, 9, 10, 7, 1, 6, 7, 7, 10, 9, 1, 8, 2, 1, 7, 1, 2, 5, 8, 9, 3, 8, 10, 8, 8, 6, 7, 10, 1, 2, 4, 6, 8, 10, 4, 6, 9, 2, 1, 4, 5, 6, 7, 1, 2, 4, 5, 6, 7, 9, 9, 1, 5, 6, 10, 10, 10, 6, 1, 2, 3, 4, 5, 6, 7, 8, 9, 10, 4, 10, 1, 2, 3, 4, 9, 3, 3, 7, 1, 2, 3, 6, 9, 7, 1, 9, 10, 7, 9, 10, 7, 2, 5, 6, 9, 10, 3, 10, 10, 8, 9, 3, 2, 4, 5, 6, 7, 8, 9, 10, 7, 8, 9, 9, 1, 2, 3, 4, 5, 6, 9, 8, 8, 1, 2, 2, 7, 7, 3, 6, 8, 10, 7, 5, 5, 5, 1, 4, 5, 6, 7, 8, 9, 1, 7, 4, 7, 4, 2, 3, 5, 7, 2, 4, 4, 1, 3, 4, 5, 6, 7, 9, 3, 4, 8, 4, 5, 6, 7, 9, 6, 9, 2, 3, 4, 5, 6, 7, 9, 6, 6, 9, 1, 2, 3, 4, 6, 7, 8, 1, 6, 1, 2, 3, 4, 5, 6, 7, 8, 9, 10, 4, 4, 4, 4, 2, 4, 10, 5, 7, 5, 1, 2, 3, 4, 5, 7, 9, 9, 2, 2, 2, 4, 7, 8, 9, 6, 2, 4, 5, 6, 7, 9, 1, 5, 6, 1, 1, 8, 9, 5, 6, 7, 9, 6, 7, 1, 4, 2, 4, 5, 7, 8, 10, 2, 4, 5, 8, 2, 9, 10, 9, 1, 2, 7, 9, 6, 9, 1, 2, 3, 5, 7, 8, 1, 2, 3, 5, 10, 5, 7, 1, 3, 9, 2, 1, 5, 10, 1, 6, 2, 1, 7, 1, 2, 3, 4, 5, 6, 7, 8, 9, 10, 10, 2, 1, 3, 5, 6, 8, 10, 1, 2, 3, 4, 5, 6, 7, 8, 10, 1, 2, 3, 4, 5, 6, 2, 3, 4, 5, 6, 6, 9, 1, 5, 7, 9, 10, 10, 10, 2, 6, 9, 6, 1, 6, 9, 3, 4, 5, 8, 10, 3, 4, 5, 6, 8, 10, 5, 5, 6, 6, 3, 4, 10, 1, 2, 3, 4, 5, 6, 7, 9, 1, 2, 3, 4, 5, 6, 7, 8, 9, 7, 7, 1, 2, 3, 4, 6, 7, 8, 9, 1, 4, 5, 8, 9, 2, 6, 8, 8, 3, 8, 8, 8, 8, 1, 4, 5, 7, 2, 3, 6, 7, 8, 10, 2, 8, 5, 6, 1, 6, 6, 2, 4, 5, 7, 10, 1, 2, 3, 4, 5, 6, 8, 9, 10, 8, 2, 4, 5, 6, 9, 2, 6, 5, 9, 1, 2, 3, 5, 6, 7, 8, 9, 2, 6, 6, 7, 3, 2, 3, 2, 9, 3, 9, 1, 2, 3, 4, 6, 7, 3, 3, 3, 1, 3, 6, 6, 9, 7, 3, 7, 3, 10, 1, 3, 4, 5, 2, 6, 1, 2, 3, 4, 5, 6, 8, 9, 1, 3, 4, 5, 6, 8, 10, 3, 1, 4, 3, 4, 5, 8, 5, 8, 8, 8, 8, 7, 1, 2, 5, 6, 9, 5, 7, 10, 8, 1, 2, 6, 7, 8, 9, 1, 3, 4, 5, 6, 7, 8, 9, 7, 2, 2, 4, 2, 4, 8, 8, 8, 10, 10, 2, 9, 1, 2, 3, 4, 5, 6, 7, 8, 9, 10, 1, 2, 3, 4, 5, 8, 9, 10, 4, 10, 10, 1, 6, 1, 6, 7, 9, 10, 9, 10, 9, 10, 10, 1, 2, 3, 4, 5, 6, 7, 4, 1, 5, 1, 2, 5, 10, 2, 3, 5, 9, 3, 9, 4, 7, 5, 9, 10, 10, 3, 8, 6, 9, 1, 2, 3, 4, 6, 2, 6, 7, 9, 7, 2, 3, 8, 6, 9, 6, 1, 4, 6, 5, 4, 5, 7, 9, 5, 2, 8, 2, 4, 6, 4, 10, 10, 10, 10, 9, 9, 3, 4, 2, 4, 9, 1, 1, 2, 3, 7, 2, 4, 5, 2, 2, 2, 2, 2, 5, 1, 2, 3, 4, 5, 6, 7, 8, 10, 7, 1, 2, 3, 5, 6, 7, 9, 1, 2, 4, 6, 7, 10, 5, 6, 7, 10, 1, 2, 3, 5, 9, 9, 9, 9, 9, 1, 2, 3, 7, 10, 1, 2, 3, 4, 5, 6, 7, 8, 6, 7, 1, 7, 9, 7, 7, 9, 9, 9, 1, 4, 2, 1, 2, 3, 4, 5, 6, 7, 8, 9, 1, 2, 3, 4, 5, 6, 7, 9, 4, 2, 3, 1, 1, 1, 2, 3, 4, 6, 1, 3, 6, 8, 2, 9, 10, 1, 4, 6, 9, 10, 7, 3, 5, 6, 2, 3, 3, 1, 2, 8, 2, 1, 2, 3, 4, 5, 8, 9, 10, 8, 8, 9, 3, 5, 7, 1, 5, 2, 4, 6, 8, 6, 8, 6, 8, 4, 2, 4, 5, 6, 8, 9, 6, 6, 2, 4, 6, 1, 1, 2, 3, 4, 5, 6, 7, 8, 9, 2, 3, 4, 7, 10, 4, 4, 1, 3, 4, 5, 6, 7, 9, 8, 2, 5, 1, 2, 3, 4, 5, 6, 7, 8, 9, 10, 1, 2, 3, 4, 5, 6, 7, 8, 9, 10, 3, 10, 1, 2, 5, 7, 8, 9, 1, 2, 3, 5, 7, 8, 9, 1, 7, 8, 4, 6, 4, 6, 5, 8], \"Freq\": [0.9818507534126817, 0.11447445350398537, 0.11447445350398537, 0.7440839477759049, 0.9437360464576818, 0.9595404135875993, 0.9326119212176358, 0.949657509503965, 0.9034509957687085, 0.925275034275329, 0.2505775140137063, 0.33688754661842735, 0.0055683892003045845, 0.0027841946001522923, 0.2923404330159907, 0.05568389200304585, 0.041762919002284384, 0.0055683892003045845, 0.0027841946001522923, 0.008352583800456876, 0.9696829554544599, 0.9723776963257192, 0.9434563666376732, 0.9524525536967383, 0.9800014193061277, 0.0566962691914619, 0.2024866756837925, 0.08909413730086871, 0.1052930713555721, 0.34017761514877143, 0.0485968021641102, 0.0404973351367585, 0.12149200541027551, 0.9715284297854511, 0.24253164893906815, 0.3038028023552538, 0.04084743561079043, 0.10467155375265047, 0.08935376539860405, 0.028082611982418418, 0.053612259239162435, 0.12254230683237127, 0.012764823628372009, 0.9302447093504217, 0.03322302533394363, 0.9678263738552637, 0.9399516116599503, 0.9438059207427526, 0.9004548489975289, 0.06431820349982349, 0.9571422517229101, 0.24825923796941726, 0.01773280271210123, 0.07093121084840492, 0.5497168840751382, 0.1063968162726074, 0.9562051696996439, 0.13921083125699554, 0.8352649875419732, 0.9319908908655874, 0.03964469199434027, 0.9514726078641665, 0.9604330711993068, 0.946104241785124, 0.9626855121551676, 0.858055593722227, 0.022580410361111233, 0.11290205180555617, 0.9694709075385263, 0.020197310573719297, 0.9391217275978567, 0.011063008880118606, 0.9735447814504372, 0.16842142808323346, 0.06416054403170798, 0.13634115606737948, 0.20050170009908747, 0.42506360421006545, 0.9607806004719491, 0.9856665257583419, 0.06716415952026858, 0.8955221269369145, 0.3495810088036716, 0.024970072057405115, 0.012485036028702557, 0.5992817293777228, 0.9856660403669177, 0.9856672600603509, 0.9194352374446174, 0.965190271619965, 0.9487703931930038, 0.9446669208785919, 0.9292707323541171, 0.6525841884302438, 0.26545797495467544, 0.06636449373866886, 0.9252659386463719, 0.9573042563559369, 0.9650762406796053, 0.013924597187101128, 0.431662512800135, 0.12532137468391016, 0.3063411381162248, 0.0974721803097079, 0.027849194374202257, 0.9696891926995319, 0.958390913359441, 0.9690911826132348, 0.9690909113154483, 0.9637555329391186, 0.8956083706223597, 0.07463403088519663, 0.9185732080153612, 0.9568219877575378, 0.9952036144261469, 0.039648604905641684, 0.8127964005656545, 0.13877011716974588, 0.7090536620082403, 0.016882230047815243, 0.25323345071722864, 0.46620538344422363, 0.03729643067553789, 0.17715804570880497, 0.018648215337768944, 0.21445447638434287, 0.07459286135107578, 0.13735111554400659, 0.3486605240732475, 0.12150290990431352, 0.06339282255877227, 0.010565470426462045, 0.04226188170584818, 0.20602667331600988, 0.06339282255877227, 0.0052827352132310225, 0.962523184722802, 0.897195459379965, 0.07635706037276298, 0.96239543659106, 0.3702452850542611, 0.6109047203395308, 0.24291562244860143, 0.7530384295906644, 0.9688874594900779, 0.06200640273346642, 0.08138340358767468, 0.7053228310931805, 0.06975720307514972, 0.0038754001708416514, 0.06588180290430808, 0.007750800341683303, 0.0038754001708416514, 0.9513015777019288, 0.9604604903170992, 0.9389878871075863, 0.9505945071359571, 0.03656132719753681, 0.9608303921431126, 0.9589477044572812, 0.9237221450723792, 0.19138891034909516, 0.10439395109950646, 0.017398991849917743, 0.4001768125481081, 0.2783838695986839, 0.8026331236548764, 0.1672152340947659, 0.9361711107038732, 0.043542842358319685, 0.9586783995721997, 0.022294846501679063, 0.05648132083717268, 0.0658948743100348, 0.6307080826817616, 0.08942875799219008, 0.009413553472862112, 0.14591007882936274, 0.9373573866875446, 0.9716692607466229, 0.9746101118388202, 0.9664125441009993, 0.9368191954402114, 0.04684095977201057, 0.913130860367318, 0.9483567461854069, 0.8961250814051058, 0.028062308475713435, 0.07296200203685493, 0.01683738508542806, 0.32552277831827586, 0.03367477017085612, 0.4377720122211296, 0.07857446373199763, 0.9593236656455225, 0.006750908670726833, 0.2227799861339855, 0.5198199676459662, 0.10801453873162933, 0.13501817341453667, 0.8877891857178708, 0.0634135132655622, 0.9454726133674904, 0.8858336050327691, 0.09448891787016203, 0.9502418834600017, 0.029695058858125054, 0.041460599127491615, 0.9121331808048155, 0.9731349886114958, 0.07295461711167235, 0.7641036213275156, 0.13822980084316866, 0.0038397166900880184, 0.015358866760352074, 0.990074140321555, 0.006187963377009719, 0.937670542171047, 0.9391325911314209, 0.9477248699747014, 0.20474333479997062, 0.7604752435427481, 0.9632999245015222, 0.9690907420059555, 0.9369581659346904, 0.9591245436342021, 0.2217818282198307, 0.7392727607327689, 0.7627826462921045, 0.22883479388763134, 0.9146255317539779, 0.9375460721028783, 0.026955094255833416, 0.2965060368141676, 0.6469222621400019, 0.9607348572459484, 0.08122102830020557, 0.8934313113022613, 0.969196994940395, 0.005879601670243283, 0.035277610021459696, 0.9524954705794118, 0.005879601670243283, 0.9894541625359776, 0.9894541625359776, 0.17344331405423227, 0.7804949132440452, 0.9581801078165061, 0.9803128958017726, 0.9629362535321716, 0.9524525486946253, 0.9524542206404683, 0.7132833181473773, 0.019813425504093814, 0.2575745315532196, 0.016385947983545382, 0.9012271390949961, 0.06554379193418153, 0.8645245366249167, 0.10479085292423232, 0.25700813936270256, 0.17133875957513503, 0.0778812543523341, 0.11682188152850116, 0.10903375609326775, 0.25700813936270256, 0.00778812543523341, 0.9407122208798877, 0.03324003483386467, 0.9639610101820755, 0.033240033265237216, 0.9639609646918793, 0.9316027277602471, 0.058225170485015444, 0.9417139587096177, 0.05136621592961551, 0.9810874255316683, 0.9581526904938258, 0.9100675688515037, 0.24386824438560625, 0.6190501588250005, 0.037518191443939426, 0.07503638288787885, 0.9737707610828937, 0.5463803800760619, 0.10186752848875731, 0.009260684408068846, 0.3426453230985473, 0.9594887662896611, 0.10031495588481762, 0.10031495588481762, 0.7690813284502684, 0.9383845908558812, 0.9046506998304479, 0.9647729295326493, 0.0431408540001459, 0.905957934003064, 0.9499090311316923, 0.046012982203122256, 0.9432661351640063, 0.7533683922819883, 0.11300525884229824, 0.012556139871366471, 0.10044911897093177, 0.012556139871366471, 0.06607172087267447, 0.83690846438721, 0.06607172087267447, 0.9690911135693518, 0.9690914461378616, 0.11396215034461708, 0.873709819308731, 0.9737254251425521, 0.7241206625397772, 0.25694604154637257, 0.7570205666502654, 0.17469705384236894, 0.029116175640394825, 0.029116175640394825, 0.6601296820598587, 0.23193745585886927, 0.0892067137918728, 0.9357533427088554, 0.015869786225177596, 0.17456764847695352, 0.5713123041063934, 0.09521871735106556, 0.14282807602659836, 0.00787995348899396, 0.0393997674449698, 0.00787995348899396, 0.6540361395864986, 0.08667948837893355, 0.11819930233490938, 0.0787995348899396, 0.9562388522260806, 0.01724817463659547, 0.12073722245616829, 0.8624087318297735, 0.9174204205155709, 0.9181714460152928, 0.9475460405514744, 0.9651035687116805, 0.15478351408556684, 0.06245650568364978, 0.04344800395384332, 0.22538652051056224, 0.19551601779229497, 0.15749901433268204, 0.05974100543653457, 0.008146500741345623, 0.02172400197692166, 0.07060300642499541, 0.9497997737161168, 0.9834266830045146, 0.9591930270611709, 0.9230854379952836, 0.9452937194565165, 0.04861510557204942, 0.00540167839689438, 0.9858692039688867, 0.968885013200164, 0.9654652400111463, 0.016495536995378823, 0.6433259428197741, 0.0824776849768941, 0.09897322197227293, 0.1484598329584094, 0.9683789968694972, 0.18404852889864567, 0.19631843082522205, 0.6134950963288189, 0.055292992765230524, 0.7741018987132273, 0.16587897829569156, 0.9522599597946286, 0.1586700373522871, 0.05769819540083168, 0.12982093965187128, 0.6058310517087326, 0.04327364655062376, 0.9814061833404966, 0.888837037587033, 0.9458566516290771, 0.032447038552890564, 0.9409641180338264, 0.973343063166211, 0.041653988567630466, 0.11107730284701457, 0.1388466285587682, 0.013884662855876822, 0.4581938742439351, 0.08330797713526093, 0.11107730284701457, 0.041653988567630466, 0.9142269762558223, 0.05485361857534934, 0.9429909384386123, 0.9393191855395798, 0.7019830305136879, 0.031908319568803994, 0.071793719029809, 0.047862479353206, 0.015954159784401997, 0.007977079892200999, 0.11965619838301499, 0.9504766174435916, 0.9597186881241789, 0.9606621835553905, 0.9659463827563369, 0.985765232277792, 0.9645142674559541, 0.9536558327425942, 0.03936640535700729, 0.07873281071401458, 0.8266945124971531, 0.03936640535700729, 0.9437413032533282, 0.9799848699560283, 0.9641173795682798, 0.9660520830473465, 0.39945274932447206, 0.1634124883600113, 0.09986318733111801, 0.23604026096446076, 0.009078471575556184, 0.04539235787778092, 0.036313886302224735, 0.9587210453284452, 0.9763481389170295, 0.9635485898235939, 0.02470637409804087, 0.9779959393885747, 0.42541438083159916, 0.03988259820296242, 0.27917818742073697, 0.23929558921777452, 0.2028566986696213, 0.7958224332423606, 0.9772703255822545, 0.10611228153933669, 0.0412658872652976, 0.005895126752185371, 0.17685380256556113, 0.023580507008741484, 0.206329436326488, 0.4362393796617175, 0.01311759075148319, 0.5640564023137772, 0.40664531329597886, 0.014605080190510674, 0.27019398352444746, 0.09493302123831938, 0.5695981274299163, 0.05111778066678736, 0.06218709588243891, 0.8706193423541447, 0.2307221707088318, 0.014420135669301988, 0.04326040700790596, 0.014420135669301988, 0.07210067834650993, 0.05768054267720795, 0.5623852911027775, 0.9550459422468105, 0.8602499813520651, 0.1281223376481799, 0.05924361420134826, 0.17180648118390995, 0.21920137254498856, 0.1125628669825617, 0.1125628669825617, 0.005924361420134826, 0.31991551668728063, 0.936374125817158, 0.04256246026441627, 0.0025021938500654857, 0.30401655278295653, 0.0037532907750982285, 0.4841745099876715, 0.006255484625163714, 0.01376206617536017, 0.0012510969250327428, 0.09758556015255394, 0.0012510969250327428, 0.08632568782725926, 0.9434609172610317, 0.9612692738491321, 0.9559649513038372, 0.9559649546577855, 0.10485625012176995, 0.7549650008767437, 0.12582750014612396, 0.9284839579619321, 0.059264933486931834, 0.9833544653704618, 0.09699301212480796, 0.06714900839409782, 0.007461000932677536, 0.07461000932677535, 0.2536740317110362, 0.2536740317110362, 0.22383002798032606, 0.9541093008538043, 0.9659266873791554, 0.9397184433752744, 0.04610693943886589, 0.5993902127052565, 0.18442775775546355, 0.023053469719432944, 0.13832081831659768, 0.9773871592231693, 0.3583163409961748, 0.01885875478927236, 0.01885875478927236, 0.01885875478927236, 0.01885875478927236, 0.5469038888888984, 0.9702961557637849, 0.010003053152203968, 0.010003053152203968, 0.9828779116855194, 0.5671083988486504, 0.04725903323738753, 0.36231925481997107, 0.7420440051586497, 0.23851414451528025, 0.31823477828724733, 0.655189249414921, 0.09844266394438747, 0.8859839754994873, 0.790305348334217, 0.19974750562293397, 0.7941698834973501, 0.013163036743050001, 0.00438767891435, 0.00438767891435, 0.14479340417355, 0.03948911022915, 0.8293217832296687, 0.014897996105922191, 0.004965998701974063, 0.14401396235724784, 0.036320689092545135, 0.9080172273136284, 0.07264137818509027, 0.9627743992541744, 0.27063001558614697, 0.0193307153990105, 0.0579921461970315, 0.618582892768336, 0.874949232024303, 0.9543918107716465, 0.9620844078012369, 0.24600415738491777, 0.3514345105498825, 0.3631489942348786, 0.011714483684996084, 0.011714483684996084, 0.16858006975808337, 0.5806646847222872, 0.018731118862009264, 0.2060423074821019, 0.9172245989187319, 0.13828895211167477, 0.8297337126700486, 0.0568109899520124, 0.0568109899520124, 0.852164849280186, 0.9078013139732594, 0.2140373360442663, 0.7491306761549321, 0.03567288934071105, 0.12524684408299633, 0.8454161975602251, 0.9767874659457136, 0.04711405505082489, 0.8951670459656729, 0.4976732151054633, 0.11957083739546846, 0.00646328850786316, 0.02908479828538422, 0.10341261612581056, 0.0646328850786316, 0.0646328850786316, 0.00323164425393158, 0.00323164425393158, 0.1131075488876053, 0.9078608451366031, 0.9280250304835144, 0.46233856556842656, 0.10752059664382013, 0.1612808949657302, 0.10752059664382013, 0.15052883530134817, 0.010752059664382013, 0.22479752112409568, 0.03549434544064668, 0.023662896960431123, 0.18930317568344898, 0.011831448480215561, 0.05915724240107781, 0.10056731208183227, 0.3490277301663591, 0.9282350626684863, 0.013838043093155474, 0.06919021546577736, 0.5950358530056854, 0.1107043447452438, 0.06919021546577736, 0.1522184740247102, 0.01806349425641478, 0.09031747128207392, 0.12644445979490349, 0.1083809655384887, 0.6322222989745174, 0.9748524764620093, 0.9829945042844404, 0.233374779541103, 0.17503108465582726, 0.06667850844031514, 0.15002664399070909, 0.37506660997677266, 0.9856666080919616, 0.9856669425160203, 0.03749724505567231, 0.11249173516701694, 0.8249393912247909, 0.9662060359370124, 0.01932377002640446, 0.6376844108713471, 0.3285040904488758, 0.7603712584437057, 0.14121180513954534, 0.010862446549195796, 0.032587339647587386, 0.032587339647587386, 0.33341046909403693, 0.11335955949197256, 0.08001851258256887, 0.33341046909403693, 0.08001851258256887, 0.06001388443692665, 0.9291691768772424, 0.9291669794671913, 0.9604727912120145, 0.9702659954014795, 0.8717499011061088, 0.06378657812971529, 0.06378657812971529, 0.045966039717882115, 0.0804405695062937, 0.05745754964735264, 0.06894905957682317, 0.11491509929470528, 0.4481688872493506, 0.11491509929470528, 0.05745754964735264, 0.0036969652826486475, 0.15157557658859455, 0.16636343771918916, 0.04806054867443242, 0.09981806263151348, 0.10721199319681078, 0.25509060450275667, 0.10351502791416213, 0.06284840980502701, 0.9444669612936503, 0.9581837948620844, 0.36668164205006265, 0.07010090215662962, 0.09167041051251566, 0.043139016711772074, 0.07010090215662962, 0.08088565633457263, 0.264226477359604, 0.010784754177943019, 0.0283797119925538, 0.0851391359776614, 0.8230116477840602, 0.0425695679888307, 0.0141898559962769, 0.07335056730966581, 0.8802068077159897, 0.9648147863439939, 0.9414345245555341, 0.33339287202015133, 0.6667857440403027, 0.9649290723676984, 0.9369588385297007, 0.9597187344850713, 0.9127527582496539, 0.43652598293640243, 0.013641436966762576, 0.5456574786705031, 0.05801954793672296, 0.19339849312240986, 0.1353789451856869, 0.05801954793672296, 0.44481653418154266, 0.09669924656120493, 0.3489690559371684, 0.6356222090284139, 0.9489079861948896, 0.9714755611180107, 0.10620589688506615, 0.8496471750805292, 0.9248141881784567, 0.5377104173192709, 0.26885520865963547, 0.04032828129894532, 0.09409932303087241, 0.053771041731927094, 0.1032149504909467, 0.06568224122151153, 0.17828036902981703, 0.07819314431132325, 0.134492208215476, 0.03440498349698223, 0.36907164114944574, 0.0312772577245293, 0.00625545154490586, 0.950237974124952, 0.020732350166422137, 0.12957718854013836, 0.031098525249633205, 0.35763304037078186, 0.456111703661287, 0.9178654227825355, 0.07648878523187795, 0.9654667834724022, 0.973475601476762, 0.15124189535229954, 0.06398695572597288, 0.05816995975088444, 0.09307193560141509, 0.05235296377579599, 0.3315687705800413, 0.005816995975088443, 0.23267983900353775, 0.9234644429467082, 0.9097721548581139, 0.13047484614705596, 0.8698323076470397, 0.9253143452755453, 0.09086695759122992, 0.8973112062133956, 0.022242260956662444, 0.9786594820931475, 0.9612732577050384, 0.9386192501507656, 0.017590433544071762, 0.003908985232015947, 0.813068928259317, 0.005863477848023921, 0.15049593143261397, 0.003908985232015947, 0.956309032086555, 0.956309032086555, 0.9196253343261603, 0.008729214886007752, 0.6634203313365891, 0.3229809507822868, 0.9283966500953175, 0.03438506111464139, 0.9561172718756978, 0.030046179907664783, 0.9314315771376083, 0.05163070681130163, 0.8777220157921276, 0.22333682669703572, 0.3234533352163966, 0.40816730396354806, 0.038506349430523404, 0.8657177322594936, 0.1282544788532583, 0.013330280614766333, 0.13330280614766332, 0.026660561229532666, 0.159963367377196, 0.119972525532897, 0.10664224491813067, 0.359917576598691, 0.09331196430336433, 0.2640599749294265, 0.5599892571779217, 0.02731654913063033, 0.031869307319068715, 0.004552758188438388, 0.10471343833408292, 0.009105516376876776, 0.942102429108404, 0.26932407740281017, 0.7271750089875876, 0.04710753739050902, 0.37686029912407215, 0.02355376869525451, 0.5417366799908537, 0.9125556384192571, 0.950763243099779, 0.9690911157305587, 0.936958576298326, 0.9369586828304044, 0.9581984280862346, 0.03780661632049748, 0.1512264652819899, 0.7561323264099495, 0.03780661632049748, 0.9461812537126157, 0.9626600748002132, 0.9087502654340837, 0.05048612585744909, 0.9612809277959589, 0.14742805809627127, 0.14742805809627127, 0.09828537206418085, 0.114666267408211, 0.0819044767201507, 0.3931414882567234, 0.462993130916051, 0.00857394686881576, 0.01714789373763152, 0.24007051232684126, 0.12860920303223639, 0.10288736242578911, 0.01714789373763152, 0.01714789373763152, 0.9145149488944826, 0.9642149259818673, 0.05146707129640267, 0.9392740511593487, 0.051778817021893214, 0.9449634106495512, 0.9471472523701783, 0.9690909269486595, 0.96909086292903, 0.9914348789848214, 0.9818597066932243, 0.9181013870368463, 0.07062318361821894, 0.20830341687866674, 0.06001962859215821, 0.1412226555109605, 0.07414189414325426, 0.035305663877740125, 0.2542007799197289, 0.04236679665328815, 0.035305663877740125, 0.1482837882865085, 0.0035305663877740123, 0.11927311639853873, 0.08519508314181337, 0.05679672209454225, 0.0681560665134507, 0.10791377197963027, 0.278303938263257, 0.017039016628362675, 0.26126492163489434, 0.9265176216179897, 0.9856669648750989, 0.985666784355641, 0.921202069966839, 0.8840052596404903, 0.2026905640584052, 0.1013452820292026, 0.6688788613927371, 0.23713566187262808, 0.735120551805147, 0.24291553137056676, 0.753038147248757, 0.24291566682662485, 0.753038567162537, 0.9288815452818336, 0.20624993171983177, 0.14609370163488083, 0.06015623008495093, 0.12890620732489486, 0.025781241464978972, 0.28359365611476867, 0.13749995447988786, 0.9132776341944242, 0.9503297858552987, 0.9190286879041915, 0.07702973888242563, 0.9243568665891077, 0.9315458804372714, 0.9538034806664909, 0.1551189454192791, 0.6359876762190443, 0.10858326179349537, 0.09307136725156746, 0.9861738720194383, 0.9665640204532367, 0.919025712201139, 0.04595128561005696, 0.7235287022774632, 0.08885440203407444, 0.17770880406814887, 0.9269161016480677, 0.22015126703676355, 0.7705294346286724, 0.057557596098660645, 0.9209215375785703, 0.05669945839286536, 0.009449909732144227, 0.4441457574107786, 0.004724954866072113, 0.4819453963393555, 0.15847268271815643, 0.7289743405035195, 0.06338907308726256, 0.047541804815446925, 0.9638896091501274, 0.8851259005442095, 0.02855244840465192, 0.05710489680930384, 0.0648744957473286, 0.9082429404626005, 0.9161005537594227, 0.026943037753081177, 0.7813480948393541, 0.17512974539502765, 0.9400433321038132, 0.08593055343073966, 0.870046853486239, 0.010741319178842457, 0.021482638357684915, 0.977585583433411, 0.9762578997251504, 0.960447772877239, 0.8441246974238853, 0.07913669038348925, 0.05275779358899283, 0.8317044768482905, 0.1419983253155618, 0.9856666249773192, 0.9856667370762818, 0.9856667050249666, 0.9342516591039325, 0.9541086026133859, 0.8229715819794913, 0.16002225205156775, 0.701489514193496, 0.23382983806449867, 0.023382983806449868, 0.9331166567521847, 0.20878767625108946, 0.45237329854402714, 0.28998288368206865, 0.023198630694565493, 0.9539321414995253, 0.9239801524023348, 0.929998891255476, 0.9283358739576618, 0.8809333630978081, 0.9024077107900891, 0.9197220359290192, 0.9197102110744205, 0.9127715828084519, 0.12381113806800251, 0.08483355756511284, 0.004585597706222315, 0.4264605866786753, 0.08024795985889051, 0.03897758050288968, 0.2269870864580046, 0.006878396559333473, 0.006878396559333473, 0.9613470355453533, 0.5143836380558994, 0.1959556716403426, 0.04898891791008565, 0.14696675373025694, 0.024494458955042826, 0.024494458955042826, 0.04898891791008565, 0.08221236584394243, 0.2740412194798081, 0.3699556462977409, 0.13702060973990404, 0.13016957925290884, 0.9101420401623032, 0.07192607998610324, 0.07192607998610324, 0.10788911997915487, 0.7552238398540841, 0.18083750336962945, 0.3521572434040153, 0.1713197400343858, 0.276015136722066, 0.028553290005730966, 0.9338242384956047, 0.9338241574249156, 0.9182784898079277, 0.9338242279089216, 0.031052800788254807, 0.16561493753735898, 0.16561493753735898, 0.5175466798042468, 0.1138602695569343, 0.11862354503939751, 0.14404287611926841, 0.01694622071991393, 0.11015043467944055, 0.3897630765580204, 0.12709665539935447, 0.06778488287965571, 0.01694622071991393, 0.9149142157235484, 0.9367382612313221, 0.10642965014141478, 0.7662934810181864, 0.10642965014141478, 0.9667152662437288, 0.9581824531973058, 0.9818902808617714, 0.9534013585699965, 0.9338246727583358, 0.928410883170021, 0.0618940588780014, 0.9879589877853583, 0.1348129938769293, 0.005617208078205388, 0.09549253732949159, 0.05055487270384849, 0.2359227392846263, 0.12357857772051853, 0.1348129938769293, 0.02808604039102694, 0.19660228273718858, 0.15313917198174182, 0.13701925914155846, 0.5158372108858671, 0.08462954241096259, 0.024179869260275023, 0.06850962957077923, 0.012089934630137512, 0.004029978210045837, 0.9608046337855347, 0.030828584754128023, 0.9556861273779687, 0.966205936811974, 0.9501087682619027, 0.05178819724862916, 0.7509288601051228, 0.02589409862431458, 0.10357639449725832, 0.05178819724862916, 0.035667309426728584, 0.16050289242027863, 0.07133461885345717, 0.6955125338212074, 0.9000809785843341, 0.23996243154890864, 0.7438835378016168, 0.17989428957892442, 0.28269102648116695, 0.006424796056390158, 0.025699184225560633, 0.4947092963420422, 0.9076158735468375, 0.11517247946782516, 0.8522763480619062, 0.023034495893565033, 0.9795233174949656, 0.9697003734497095, 0.956309032086555, 0.7007209696891074, 0.16487552227978997, 0.12365664170984247, 0.9078288215839367, 0.2534565143409874, 0.10436444708158307, 0.08945524035564263, 0.029818413451880875, 0.007454603362970219, 0.4323669950522727, 0.014909206725940437, 0.06709143026673198, 0.9779818590830661, 0.9779820133328958, 0.9338247201935351, 0.009940702614221005, 0.7853155065234594, 0.1988140522844201, 0.9614791926169439, 0.9363369042845623, 0.017512861638878954, 0.6830016039162793, 0.26269292458318433, 0.03502572327775791, 0.7806665583416255, 0.16263886632117197, 0.8635700371614742, 0.09090210917489201, 0.9440819150974583, 0.2953651545878017, 0.03434478541718625, 0.1991997554196802, 0.25415141208717823, 0.10990331333499598, 0.10303435625155873, 0.925041430471034, 0.8680500811190154, 0.11526020308281654, 0.8068214215797158, 0.04610408123312662, 0.9596180622367038, 0.012526381431321372, 0.056368716440946175, 0.06889509787226755, 0.06889509787226755, 0.25052762862642747, 0.1878957214698206, 0.01878957214698206, 0.3068963450673736, 0.03757914429396412, 0.28009965045181273, 0.29760587860505106, 0.3763839052946234, 0.017506228153238296, 0.026259342229857444, 0.9779150182086658, 0.9779149876830612, 0.973095385573032, 0.3737556934608359, 0.04345996435591116, 0.3302957291049248, 0.14776387881009792, 0.08691992871182232, 0.008691992871182231, 0.9508514530618372, 0.5660779152648847, 0.42455843644866353, 0.446902166860298, 0.03302232760051463, 0.20033545410978876, 0.09906698280154388, 0.07705209773453413, 0.07485060922783315, 0.015410419546906827, 0.04623125864072048, 0.00440297701340195, 0.002201488506700975, 0.21278635528171938, 0.3130414649817603, 0.12071533616943696, 0.23324658175111548, 0.008184090587758439, 0.04501249823267141, 0.010230113234698048, 0.008184090587758439, 0.010230113234698048, 0.04092045293879219, 0.10619920776049019, 0.8495936620839215, 0.06953851679376681, 0.01390770335875336, 0.30596947389257395, 0.15298473694628698, 0.09735392351127353, 0.347692583968834, 0.22659710850246212, 0.18463468100200617, 0.04196242750045595, 0.23498959400255331, 0.03356994200036476, 0.0755323695008207, 0.20141965200218856, 0.8025252304048551, 0.15433177507785675, 0.030866355015571348, 0.1447899642434496, 0.8424143374164339, 0.01587859805203757, 0.9685944811742918, 0.9691534043154327, 0.03230511347718109], \"Term\": [\"abebab\", \"able\", \"able\", \"able\", \"academia\", \"academic\", \"accuracy\", \"action\", \"ago\", \"aguera\", \"ai\", \"ai\", \"ai\", \"ai\", \"ai\", \"ai\", \"ai\", \"ai\", \"ai\", \"ai\", \"ai research\", \"ai social\", \"ai social good\", \"al\", \"algorithmic\", \"amazing\", \"amazing\", \"amazing\", \"amazing\", \"amazing\", \"amazing\", \"amazing\", \"amazing\", \"amazing talk\", \"amp\", \"amp\", \"amp\", \"amp\", \"amp\", \"amp\", \"amp\", \"amp\", \"amp\", \"analysis\", \"analysis\", \"anna\", \"answering\", \"app\", \"apple\", \"apple\", \"approval\", \"attending\", \"attending\", \"attending\", \"attending\", \"attending\", \"autonomous\", \"award\", \"award\", \"bad\", \"bayesian\", \"bayesian\", \"bayesian deep\", \"bayesian deep learning\", \"bayesian principles\", \"bc\", \"bc\", \"bc\", \"beliefs\", \"beliefs\", \"believe\", \"bengio\", \"bengio\", \"best\", \"best\", \"best\", \"best\", \"best\", \"best researchers\", \"best researchers rigorous\", \"bias\", \"bias\", \"big\", \"big\", \"big\", \"big\", \"big need\", \"big need best\", \"biggest\", \"bin\", \"bin yu\", \"biological\", \"bit\", \"blackinai\", \"blackinai\", \"blackinai\", \"blaise\", \"blaise aguera\", \"blog\", \"booth\", \"booth\", \"booth\", \"booth\", \"booth\", \"booth\", \"break\", \"called\", \"called dibr\", \"called dibr produces\", \"canada\", \"capacity\", \"capacity\", \"causal inference\", \"celeste\", \"celestekidd\", \"challenge\", \"challenge\", \"challenge\", \"change\", \"change\", \"change\", \"chat\", \"chat\", \"chat\", \"chat\", \"chat\", \"chat\", \"check\", \"check\", \"check\", \"check\", \"check\", \"check\", \"check\", \"check\", \"check\", \"check poster\", \"climate\", \"climate\", \"climate change\", \"clinical\", \"clinical\", \"clinical trials\", \"clinical trials\", \"coauthored\", \"come\", \"come\", \"come\", \"come\", \"come\", \"come\", \"come\", \"come\", \"come chat\", \"come check\", \"come check poster\", \"come poster\", \"come poster\", \"come say\", \"come say hi\", \"common\", \"community\", \"community\", \"community\", \"community\", \"community\", \"comparison\", \"comparison\", \"competition\", \"competition\", \"computational\", \"computational\", \"conference\", \"conference\", \"conference\", \"conference\", \"conference\", \"conference\", \"consciousness\", \"contributed\", \"control\", \"convention\", \"conversations\", \"conversations\", \"covering\", \"currently\", \"daphnekoller\", \"data\", \"data\", \"data\", \"data\", \"data\", \"data\", \"data\", \"data science\", \"day\", \"day\", \"day\", \"day\", \"day\", \"dear\", \"dear\", \"debate\", \"dec\", \"dec\", \"dec east\", \"dec east\", \"decision\", \"decision\", \"decision making\", \"deep\", \"deep\", \"deep\", \"deep\", \"deep\", \"deep learning\", \"deep learning\", \"deep learning bayesian\", \"deep learning deep\", \"deep learning workshop\", \"demo\", \"demo\", \"dibr\", \"dibr produces\", \"dibr produces objects\", \"didnt\", \"discussing\", \"discussing\", \"distributions\", \"distributions\", \"diversity\", \"dm\", \"doing\", \"doing\", \"doing\", \"dont miss\", \"dr\", \"dr\", \"drl\", \"east\", \"east\", \"east\", \"east\", \"east exhibition\", \"east exhibition hall\", \"efficient\", \"efficient\", \"efforts\", \"emtiyazkhan\", \"energy\", \"et\", \"et al\", \"ethics\", \"ethics\", \"ethics\", \"event\", \"event\", \"event\", \"excellent\", \"excellent\", \"excited\", \"excited\", \"excited\", \"excited\", \"excited\", \"excited\", \"excited\", \"excited present\", \"exh\", \"exh\", \"exh hall\", \"exh hall\", \"exhibition\", \"exhibition\", \"exhibition hall\", \"exhibition hall\", \"exhibition hall bc\", \"exhibition hall poster\", \"expected\", \"experience\", \"experience\", \"experience\", \"experience\", \"experts\", \"fairness\", \"fairness\", \"fairness\", \"fairness\", \"feedback\", \"feel\", \"feel\", \"feel\", \"feel free\", \"fields\", \"fomo\", \"food\", \"food\", \"forget\", \"form\", \"form\", \"forward\", \"forward\", \"forward\", \"forward\", \"forward\", \"framework\", \"framework\", \"framework\", \"framework called\", \"framework called dibr\", \"free\", \"free\", \"friday\", \"friends\", \"friends\", \"generalization\", \"generalization\", \"generalization\", \"generalization\", \"giving\", \"giving\", \"giving\", \"goal\", \"going\", \"going\", \"going\", \"going\", \"going\", \"good\", \"good\", \"good\", \"good\", \"good\", \"good\", \"good\", \"good workshop\", \"google\", \"google\", \"google\", \"graph neural\", \"graph representation\", \"graph representation learning\", \"graphs\", \"great\", \"great\", \"great\", \"great\", \"great\", \"great\", \"great\", \"great\", \"great\", \"great\", \"great talk\", \"great tutorial\", \"great work\", \"growing\", \"hall\", \"hall\", \"hall\", \"hall bc\", \"hall poster\", \"hannawallach\", \"happy\", \"happy\", \"happy\", \"happy\", \"happy\", \"harassment\", \"health\", \"health\", \"health\", \"healthcare\", \"healthcare\", \"healthcare\", \"heard\", \"help\", \"help\", \"help\", \"help\", \"help\", \"hi\", \"highlighted\", \"highlighting\", \"hiring\", \"hiring\", \"hotel\", \"human\", \"human\", \"human\", \"human\", \"human\", \"human\", \"human\", \"human\", \"humans\", \"humans\", \"ibm\", \"id\", \"im\", \"im\", \"im\", \"im\", \"im\", \"im\", \"im\", \"images\", \"images learn\", \"imaging\", \"imitation\", \"imitation learning\", \"impacts\", \"implications\", \"improve\", \"improve\", \"improve\", \"improve\", \"incredibly\", \"industry\", \"information processing\", \"information processing systems\", \"interesting\", \"interesting\", \"interesting\", \"interesting\", \"interesting\", \"interesting\", \"interesting\", \"interpretability\", \"interpretable\", \"invited\", \"invited\", \"invited talk\", \"join\", \"join\", \"join\", \"join\", \"joint\", \"joint\", \"joint work\", \"just\", \"just\", \"just\", \"just\", \"just\", \"just\", \"just\", \"keynote\", \"keynote\", \"keynote\", \"know\", \"know\", \"know\", \"know\", \"know\", \"lab\", \"lab\", \"language\", \"language\", \"language\", \"language\", \"language\", \"language\", \"language\", \"largest\", \"latest\", \"latest\", \"learn\", \"learn\", \"learn\", \"learn\", \"learn\", \"learn\", \"learn\", \"learned\", \"learned\", \"learning\", \"learning\", \"learning\", \"learning\", \"learning\", \"learning\", \"learning\", \"learning\", \"learning\", \"learning\", \"learning bayesian\", \"learning bayesian principles\", \"learning deep\", \"learning deep learning\", \"learning workshop\", \"learning workshop\", \"learning workshop\", \"let\", \"let\", \"let know\", \"like\", \"like\", \"like\", \"like\", \"like\", \"like\", \"like\", \"limits\", \"line\", \"linear\", \"live\", \"live\", \"live\", \"live\", \"live\", \"local\", \"look\", \"look\", \"look\", \"look\", \"look\", \"look\", \"looking\", \"looking\", \"looking\", \"looking forward\", \"lot\", \"lot\", \"lot\", \"lots\", \"lots\", \"love\", \"love\", \"lunch\", \"lunch\", \"lxai\", \"lxai\", \"machine\", \"machine\", \"machine\", \"machine\", \"machine\", \"machine\", \"machine learning\", \"machine learning\", \"machine learning\", \"machine learning\", \"main\", \"main\", \"main\", \"main conference\", \"making\", \"making\", \"making\", \"making\", \"mathworks\", \"mean\", \"medical\", \"meet\", \"meet\", \"meet\", \"meet\", \"meet\", \"meeting\", \"meeting\", \"meeting\", \"meeting\", \"meets\", \"meetup\", \"meetup\", \"message\", \"message\", \"message\", \"met\", \"method\", \"method\", \"method\", \"microsoft\", \"microsoft\", \"miss\", \"missing\", \"missing\", \"ml\", \"ml\", \"ml\", \"ml\", \"ml\", \"ml\", \"ml\", \"ml\", \"ml\", \"ml\", \"ml health\", \"ml systems\", \"model\", \"model\", \"model\", \"model\", \"model\", \"model\", \"models\", \"models\", \"models\", \"models\", \"models\", \"models\", \"models\", \"models\", \"modern\", \"morning\", \"morning\", \"morning\", \"morning\", \"morning\", \"morning\", \"msftresearch\", \"msftresearch\", \"msftresearch\", \"msftresearch\", \"msftresearch\", \"multimodal\", \"natural\", \"need\", \"need\", \"need\", \"need\", \"need\", \"need best\", \"need best researchers\", \"needs\", \"needs\", \"needs\", \"nets\", \"network\", \"network\", \"network\", \"networks\", \"networks\", \"networks\", \"networks\", \"networks\", \"neural\", \"neural\", \"neural\", \"neural\", \"neural\", \"neural\", \"neural information\", \"neural information processing\", \"neural nets\", \"neural network\", \"neural networks\", \"neural networks\", \"neural networks\", \"neurips\", \"neurips\", \"neurips\", \"neurips\", \"neurips\", \"neurips\", \"neurips\", \"neurips\", \"neuripsconf\", \"neuripsconf\", \"neuripsconf\", \"neuripsconf\", \"neuripsconf\", \"neuripsconf\", \"neuripsconf\", \"neuripsconf\", \"neuripsconf\", \"neutral\", \"neutral platform\", \"new\", \"new\", \"new\", \"new\", \"new\", \"new\", \"new\", \"new\", \"nice\", \"nice\", \"nice\", \"nice\", \"nice\", \"number\", \"number\", \"nvidia\", \"nvidia researchers\", \"object\", \"object\", \"objects\", \"objects images\", \"objects images learn\", \"old\", \"online\", \"online\", \"online\", \"open\", \"open\", \"open\", \"open\", \"open\", \"open\", \"opening\", \"opening\", \"opportunities\", \"order\", \"organizers\", \"organizers\", \"overview\", \"panel\", \"panel\", \"panel\", \"panel\", \"panel\", \"paper\", \"paper\", \"paper\", \"paper\", \"paper\", \"paper\", \"paper\", \"paper\", \"paper\", \"paper award\", \"papers\", \"papers\", \"papers\", \"papers\", \"papers\", \"participants\", \"participants\", \"party\", \"patients\", \"people\", \"people\", \"people\", \"people\", \"people\", \"people\", \"people\", \"people\", \"perception\", \"physics\", \"platform\", \"platform\", \"pleasure\", \"pm\", \"pm\", \"pm east\", \"pm east\", \"pm east exhibition\", \"point\", \"poster\", \"poster\", \"poster\", \"poster\", \"poster\", \"poster\", \"poster dec\", \"poster dec east\", \"poster presentation\", \"poster session\", \"poster session\", \"poster session\", \"poster sessions\", \"poster sessions\", \"poster today\", \"powerful\", \"powerful\", \"predict\", \"predict\", \"present\", \"present\", \"present\", \"present\", \"presentations\", \"presentations\", \"presented\", \"presented\", \"presented\", \"presented\", \"presented\", \"presented\", \"presented\", \"presented\", \"presenting\", \"presenting\", \"presenting\", \"presenting\", \"presenting\", \"presenting\", \"presenting\", \"presenting poster\", \"principles\", \"principles\", \"privacy\", \"privacy\", \"privacy\", \"privacy\", \"processing systems\", \"produce\", \"produces\", \"produces objects\", \"produces objects images\", \"profound\", \"proud\", \"proud\", \"proud\", \"proud\", \"quality\", \"quantization\", \"quickly\", \"quickly\", \"reach\", \"read\", \"read\", \"read\", \"read\", \"read\", \"read\", \"really\", \"really\", \"really\", \"really\", \"really\", \"really\", \"really\", \"really\", \"reception\", \"regression\", \"reinforcement\", \"reinforcement\", \"reinforcement learning\", \"reinforcement learning\", \"rendering\", \"rendering framework\", \"rendering framework called\", \"representation\", \"representation learning\", \"reproducibility\", \"reproducibility\", \"research\", \"research\", \"research\", \"research\", \"research\", \"research\", \"research\", \"research\", \"research\", \"research\", \"researchers\", \"researchers\", \"researchers\", \"researchers\", \"researchers\", \"researchers\", \"researchers\", \"researchers\", \"researchers present\", \"researchers rigorous\", \"researchers rigorous clinical\", \"response\", \"result\", \"right\", \"right\", \"right\", \"rigorous\", \"rigorous\", \"rigorous clinical\", \"rigorous clinical\", \"rigorous clinical trials\", \"rigorous clinical trials\", \"rise\", \"rl\", \"rl\", \"rl\", \"rl\", \"rl\", \"rl\", \"rl\", \"robot\", \"robust\", \"role\", \"rooms\", \"rooms\", \"said\", \"savage\", \"say\", \"say\", \"say\", \"say\", \"say hi\", \"says\", \"schedule\", \"schedule\", \"science\", \"science\", \"science\", \"science meets\", \"search\", \"search\", \"seeing\", \"seeing\", \"session\", \"session\", \"session\", \"session\", \"session\", \"sessions\", \"sessions\", \"sessions\", \"sessions\", \"sexual\", \"sharing\", \"sharing\", \"sharing\", \"short\", \"short\", \"sign\", \"slides\", \"slides\", \"slides\", \"smart\", \"social\", \"social\", \"social\", \"social\", \"social good\", \"software\", \"source\", \"speakers\", \"speakers\", \"speakers\", \"spotlight\", \"spotlight\", \"stakes\", \"stakes big\", \"stakes big need\", \"standard\", \"standing\", \"started\", \"started\", \"starting\", \"starting\", \"starting\", \"stochastic\", \"stop\", \"stop\", \"stop\", \"stop\", \"stop booth\", \"stream\", \"stuff\", \"success\", \"tackle\", \"tackling\", \"tackling climate\", \"tackling climate change\", \"takes\", \"talk\", \"talk\", \"talk\", \"talk\", \"talk\", \"talk\", \"talk\", \"talk\", \"talk\", \"talk celestekidd\", \"talking\", \"talking\", \"talking\", \"talking\", \"talking\", \"talking\", \"talking\", \"talks\", \"talks\", \"talks\", \"talks\", \"talks\", \"task\", \"tasks\", \"tasks\", \"tasks\", \"tasks\", \"team\", \"team\", \"team\", \"team\", \"team\", \"tens thousands\", \"tens thousands patients\", \"tested\", \"tested tens thousands\", \"thank\", \"thank\", \"thank\", \"thank\", \"thank\", \"thanks\", \"thanks\", \"thanks\", \"thanks\", \"thanks\", \"thanks\", \"thanks\", \"thanks\", \"thanks organizers\", \"theres\", \"thing\", \"thing\", \"thing\", \"thing neutral\", \"thing neutral platform\", \"things\", \"thousands\", \"thousands patients approval\", \"thread\", \"thread\", \"thursday\", \"time\", \"time\", \"time\", \"time\", \"time\", \"time\", \"time\", \"time\", \"time\", \"today\", \"today\", \"today\", \"today\", \"today\", \"today\", \"today\", \"today\", \"todays\", \"tonight\", \"tonight\", \"topic\", \"touch\", \"track\", \"track\", \"track\", \"track\", \"track\", \"training\", \"training\", \"training\", \"training\", \"transfer\", \"trials\", \"trials\", \"tutorial\", \"tutorial\", \"tutorial\", \"tutorial\", \"tutorial\", \"tweet\", \"twitter\", \"twitter\", \"twitter\", \"upcoming\", \"upcoming poster\", \"upcoming poster dec\", \"use\", \"use\", \"use\", \"uses\", \"using\", \"using\", \"using\", \"using\", \"using\", \"using\", \"using\", \"using\", \"using machine\", \"using machine learning\", \"vaccine tested\", \"vancouver\", \"vancouver\", \"vancouver\", \"variational\", \"venue\", \"video\", \"video\", \"video\", \"video\", \"view\", \"view\", \"vision\", \"vision\", \"visit poster\", \"want\", \"want\", \"want\", \"want\", \"want\", \"want\", \"want know\", \"wanted\", \"watch\", \"watch\", \"watch\", \"wednesday\", \"week\", \"week\", \"week\", \"week\", \"week\", \"week\", \"week\", \"week\", \"week\", \"west\", \"west\", \"west\", \"west\", \"west\", \"west exhibition\", \"west exhibition hall\", \"whova\", \"wimlworkshop\", \"wimlworkshop\", \"wimlworkshop\", \"wimlworkshop\", \"wimlworkshop\", \"wimlworkshop\", \"winner\", \"women\", \"women\", \"work\", \"work\", \"work\", \"work\", \"work\", \"work\", \"work\", \"work\", \"work\", \"work\", \"workshop\", \"workshop\", \"workshop\", \"workshop\", \"workshop\", \"workshop\", \"workshop\", \"workshop\", \"workshop\", \"workshop\", \"workshop friday\", \"workshop friday\", \"world\", \"world\", \"world\", \"world\", \"world\", \"world\", \"year\", \"year\", \"year\", \"year\", \"year\", \"year\", \"year\", \"yesterday\", \"yesterday\", \"yesterday\", \"yoshua\", \"yoshua\", \"yoshua bengio\", \"yoshua bengio\", \"yu\", \"yu\"]}, \"R\": 30, \"lambda.step\": 0.01, \"plot.opts\": {\"xlab\": \"PC1\", \"ylab\": \"PC2\"}, \"topic.order\": [10, 3, 2, 6, 9, 1, 5, 7, 4, 8]};\n",
       "\n",
       "function LDAvis_load_lib(url, callback){\n",
       "  var s = document.createElement('script');\n",
       "  s.src = url;\n",
       "  s.async = true;\n",
       "  s.onreadystatechange = s.onload = callback;\n",
       "  s.onerror = function(){console.warn(\"failed to load library \" + url);};\n",
       "  document.getElementsByTagName(\"head\")[0].appendChild(s);\n",
       "}\n",
       "\n",
       "if(typeof(LDAvis) !== \"undefined\"){\n",
       "   // already loaded: just create the visualization\n",
       "   !function(LDAvis){\n",
       "       new LDAvis(\"#\" + \"ldavis_el484091404898857480167338456261\", ldavis_el484091404898857480167338456261_data);\n",
       "   }(LDAvis);\n",
       "}else if(typeof define === \"function\" && define.amd){\n",
       "   // require.js is available: use it to load d3/LDAvis\n",
       "   require.config({paths: {d3: \"https://cdnjs.cloudflare.com/ajax/libs/d3/3.5.5/d3.min\"}});\n",
       "   require([\"d3\"], function(d3){\n",
       "      window.d3 = d3;\n",
       "      LDAvis_load_lib(\"https://cdn.rawgit.com/bmabey/pyLDAvis/files/ldavis.v1.0.0.js\", function(){\n",
       "        new LDAvis(\"#\" + \"ldavis_el484091404898857480167338456261\", ldavis_el484091404898857480167338456261_data);\n",
       "      });\n",
       "    });\n",
       "}else{\n",
       "    // require.js not available: dynamically load d3 & LDAvis\n",
       "    LDAvis_load_lib(\"https://cdnjs.cloudflare.com/ajax/libs/d3/3.5.5/d3.min.js\", function(){\n",
       "         LDAvis_load_lib(\"https://cdn.rawgit.com/bmabey/pyLDAvis/files/ldavis.v1.0.0.js\", function(){\n",
       "                 new LDAvis(\"#\" + \"ldavis_el484091404898857480167338456261\", ldavis_el484091404898857480167338456261_data);\n",
       "            })\n",
       "         });\n",
       "}\n",
       "</script>"
      ],
      "text/plain": [
       "<IPython.core.display.HTML object>"
      ]
     },
     "execution_count": 52,
     "metadata": {},
     "output_type": "execute_result"
    }
   ],
   "source": [
    "pyLDAvis.display(vis_data)"
   ]
  },
  {
   "cell_type": "code",
   "execution_count": 53,
   "metadata": {
    "execution": {
     "iopub.execute_input": "2020-11-15T23:49:18.979204Z",
     "iopub.status.busy": "2020-11-15T23:49:18.978829Z",
     "iopub.status.idle": "2020-11-15T23:49:18.991123Z",
     "shell.execute_reply": "2020-11-15T23:49:18.989537Z",
     "shell.execute_reply.started": "2020-11-15T23:49:18.979172Z"
    }
   },
   "outputs": [
    {
     "name": "stderr",
     "output_type": "stream",
     "text": [
      "/opt/anaconda3/envs/metis/lib/python3.8/site-packages/ipykernel/ipkernel.py:287: DeprecationWarning: `should_run_async` will not call `transform_cell` automatically in the future. Please pass the result to `transformed_cell` argument and any exception that happen during thetransform in `preprocessing_exc_tuple` in IPython 7.17 and above.\n",
      "  and should_run_async(code)\n"
     ]
    }
   ],
   "source": [
    "pyLDAvis.save_html(vis_data, \"pldavis1.html\")"
   ]
  },
  {
   "cell_type": "code",
   "execution_count": 70,
   "metadata": {
    "execution": {
     "iopub.execute_input": "2020-11-16T05:34:47.840219Z",
     "iopub.status.busy": "2020-11-16T05:34:47.839649Z",
     "iopub.status.idle": "2020-11-16T05:34:58.728493Z",
     "shell.execute_reply": "2020-11-16T05:34:58.727265Z",
     "shell.execute_reply.started": "2020-11-16T05:34:47.840170Z"
    }
   },
   "outputs": [
    {
     "name": "stderr",
     "output_type": "stream",
     "text": [
      "/opt/anaconda3/envs/metis/lib/python3.8/site-packages/ipykernel/ipkernel.py:287: DeprecationWarning: `should_run_async` will not call `transform_cell` automatically in the future. Please pass the result to `transformed_cell` argument and any exception that happen during thetransform in `preprocessing_exc_tuple` in IPython 7.17 and above.\n",
      "  and should_run_async(code)\n"
     ]
    },
    {
     "name": "stdout",
     "output_type": "stream",
     "text": [
      "\n",
      "Topic  0\n",
      "0.032*\"session\" + 0.031*\"poster\" + 0.023*\"work\" + 0.017*\"papers\" + 0.017*\"great\" + 0.017*\"poster session\" + 0.015*\"ml\" + 0.012*\"neurips\" + 0.011*\"interesting\" + 0.010*\"bengio\"\n",
      "\n",
      "Topic  1\n",
      "0.050*\"poster\" + 0.030*\"come\" + 0.030*\"hall\" + 0.027*\"east\" + 0.022*\"presenting\" + 0.022*\"today\" + 0.021*\"workshop\" + 0.019*\"work\" + 0.019*\"exhibition\" + 0.019*\"exhibition hall\"\n",
      "\n",
      "Topic  2\n",
      "0.034*\"ai\" + 0.030*\"learning\" + 0.021*\"paper\" + 0.021*\"amp\" + 0.020*\"new\" + 0.012*\"neuripsconf\" + 0.012*\"research\" + 0.012*\"data\" + 0.012*\"machine\" + 0.010*\"machine learning\"\n",
      "\n",
      "Topic  3\n",
      "0.022*\"just\" + 0.019*\"people\" + 0.018*\"time\" + 0.017*\"research\" + 0.016*\"im\" + 0.016*\"conference\" + 0.014*\"good\" + 0.013*\"models\" + 0.012*\"year\" + 0.010*\"paper\"\n",
      "\n",
      "Topic  4\n",
      "0.021*\"vancouver\" + 0.016*\"ai\" + 0.014*\"talk\" + 0.014*\"dec\" + 0.014*\"chat\" + 0.013*\"celestekidd\" + 0.012*\"know\" + 0.010*\"booth\" + 0.009*\"ml\" + 0.009*\"workshop\"\n",
      "\n",
      "Topic  5\n",
      "0.063*\"learning\" + 0.043*\"talk\" + 0.037*\"deep\" + 0.027*\"deep learning\" + 0.022*\"workshop\" + 0.016*\"bayesian\" + 0.015*\"tutorial\" + 0.013*\"great\" + 0.012*\"talks\" + 0.012*\"reinforcement\"\n",
      "\n",
      "Topic  6\n",
      "0.021*\"looking\" + 0.019*\"forward\" + 0.018*\"data\" + 0.015*\"great\" + 0.015*\"looking forward\" + 0.011*\"framework\" + 0.010*\"systems\" + 0.010*\"neural\" + 0.009*\"learn\" + 0.009*\"search\"\n",
      "\n",
      "Topic  7\n",
      "0.031*\"learning\" + 0.024*\"machine\" + 0.022*\"celestekidd\" + 0.021*\"machine learning\" + 0.020*\"ml\" + 0.017*\"keynote\" + 0.016*\"representation\" + 0.015*\"beliefs\" + 0.015*\"health\" + 0.014*\"talk\"\n"
     ]
    }
   ],
   "source": [
    "vis_data = lda_vis(doc_word, feature_names, id2word, dictionary, 8)"
   ]
  },
  {
   "cell_type": "code",
   "execution_count": 71,
   "metadata": {
    "execution": {
     "iopub.execute_input": "2020-11-16T05:34:58.730782Z",
     "iopub.status.busy": "2020-11-16T05:34:58.730425Z",
     "iopub.status.idle": "2020-11-16T05:34:58.743931Z",
     "shell.execute_reply": "2020-11-16T05:34:58.742910Z",
     "shell.execute_reply.started": "2020-11-16T05:34:58.730751Z"
    }
   },
   "outputs": [
    {
     "name": "stderr",
     "output_type": "stream",
     "text": [
      "/opt/anaconda3/envs/metis/lib/python3.8/site-packages/ipykernel/ipkernel.py:287: DeprecationWarning: `should_run_async` will not call `transform_cell` automatically in the future. Please pass the result to `transformed_cell` argument and any exception that happen during thetransform in `preprocessing_exc_tuple` in IPython 7.17 and above.\n",
      "  and should_run_async(code)\n"
     ]
    },
    {
     "data": {
      "text/html": [
       "\n",
       "<link rel=\"stylesheet\" type=\"text/css\" href=\"https://cdn.rawgit.com/bmabey/pyLDAvis/files/ldavis.v1.0.0.css\">\n",
       "\n",
       "\n",
       "<div id=\"ldavis_el484091404909734423369978967510\"></div>\n",
       "<script type=\"text/javascript\">\n",
       "\n",
       "var ldavis_el484091404909734423369978967510_data = {\"mdsDat\": {\"x\": [0.00903652563914607, -0.16286710635394272, 0.00014382336206056342, -0.1296351015173039, -0.09938530327536091, -0.1042903929363911, 0.26405299610484256, 0.22294455897694973], \"y\": [-0.07012437439320394, 0.1713804549727346, -0.0061278750551291864, 0.054551710598614654, -0.13358925575916464, -0.09672718559169118, -0.13922645758435997, 0.21986298281219951], \"topics\": [1, 2, 3, 4, 5, 6, 7, 8], \"cluster\": [1, 1, 1, 1, 1, 1, 1, 1], \"Freq\": [15.489126706953723, 14.138363489247155, 13.525956218251652, 13.232560930389065, 13.217287028887048, 13.066312151239245, 9.004664157041411, 8.3257293179907]}, \"tinfo\": {\"Term\": [\"poster\", \"learning\", \"deep\", \"hall\", \"session\", \"east\", \"talk\", \"deep learning\", \"ai\", \"come\", \"celestekidd\", \"machine\", \"exhibition\", \"exhibition hall\", \"machine learning\", \"just\", \"poster session\", \"east exhibition hall\", \"east exhibition\", \"presenting\", \"bayesian\", \"looking\", \"people\", \"tutorial\", \"forward\", \"data\", \"ml\", \"vancouver\", \"new\", \"time\", \"upcoming\", \"friends\", \"generation\", \"imitation\", \"imitation learning\", \"outstanding\", \"climate change\", \"miss\", \"algorithmic\", \"sponsors\", \"stay\", \"paper award\", \"gradient\", \"meetups\", \"forget\", \"choose\", \"ai research\", \"sharing\", \"robust\", \"blog post\", \"directions\", \"federated learning\", \"best paper\", \"sota\", \"federated\", \"source\", \"differential\", \"bit\", \"quantization\", \"combining\", \"blog\", \"summary\", \"award\", \"privacy\", \"climate\", \"local\", \"change\", \"ai\", \"new\", \"collaboration\", \"improve\", \"understanding\", \"dont\", \"paper\", \"amp\", \"tonight\", \"learning\", \"data\", \"machine\", \"machine learning\", \"neuripsconf\", \"research\", \"best\", \"results\", \"make\", \"check\", \"amazing\", \"year\", \"workshop\", \"talk\", \"week\", \"presented\", \"researchers\", \"hall\", \"exhibition\", \"exhibition hall\", \"east\", \"east exhibition\", \"east exhibition hall\", \"hall bc\", \"hi\", \"bc\", \"exhibition hall bc\", \"dec east\", \"say hi\", \"pm east exhibition\", \"exh\", \"exh hall\", \"upcoming poster\", \"poster dec east\", \"poster dec\", \"upcoming poster dec\", \"come say\", \"neural networks\", \"come poster\", \"come say hi\", \"come check\", \"coffee\", \"hotel\", \"lottery\", \"hall poster\", \"ready\", \"dec east exhibition\", \"west exhibition\", \"pm\", \"networks\", \"come\", \"started\", \"poster\", \"presenting\", \"presenting work\", \"today\", \"lxai\", \"west\", \"say\", \"present\", \"workshop\", \"work\", \"booth\", \"blackinai\", \"stop\", \"check\", \"neural\", \"meet\", \"session\", \"research\", \"deep learning\", \"sexual\", \"artificial\", \"spotlight\", \"celeste\", \"comparison\", \"thread\", \"harassment\", \"bayesian\", \"invited talk\", \"bayesian principles\", \"learning deep\", \"learning deep learning\", \"principles\", \"center\", \"learning bayesian\", \"academia\", \"bayesian deep\", \"west ballroom\", \"deep learning bayesian\", \"bayesian deep learning\", \"learning bayesian principles\", \"artificial intelligence\", \"deep learning deep\", \"insightful\", \"stream\", \"robot\", \"biological\", \"invited\", \"researchers present\", \"reinforcement\", \"reinforcement learning\", \"learning workshop\", \"deep\", \"intelligence\", \"watch\", \"approaches\", \"slides\", \"talk\", \"learning\", \"tutorial\", \"talks\", \"emtiyazkhan\", \"workshop\", \"online\", \"let know\", \"great\", \"live\", \"nice\", \"work\", \"rl\", \"amp\", \"yoshua\", \"present\", \"lxai\", \"amazing\", \"evening\", \"graphs\", \"nets\", \"ibm\", \"energy\", \"complex\", \"multimodal\", \"neural nets\", \"excited present\", \"neural network\", \"gans\", \"identify\", \"stage\", \"inverse\", \"pleasure\", \"facebook\", \"efforts\", \"consciousness\", \"mathrachel\", \"useful\", \"interesting work\", \"photo\", \"retrospectives workshop\", \"featuring\", \"embeddings\", \"experiences\", \"limits\", \"main conference\", \"cc\", \"bdl\", \"network\", \"imaging\", \"presents\", \"session\", \"googleai\", \"analysis\", \"poster session\", \"wow\", \"conversation\", \"google\", \"authors\", \"bengio\", \"papers\", \"interesting\", \"poster\", \"model\", \"sessions\", \"work\", \"wimlworkshop\", \"neurips\", \"inference\", \"cool\", \"yoshua bengio\", \"great\", \"ml\", \"neural\", \"yoshua\", \"problems\", \"real\", \"amp\", \"conference\", \"presenting\", \"day\", \"time\", \"workshop\", \"neuripsconf\", \"paper\", \"things\", \"bias\", \"interpretable\", \"able\", \"says\", \"natural\", \"line\", \"fomo\", \"point\", \"decision\", \"discussing\", \"decision making\", \"feel free\", \"diversity\", \"endtoend\", \"tweets\", \"play\", \"consider\", \"isnt\", \"discusses\", \"hiring\", \"standard\", \"news\", \"wait\", \"putting\", \"probably\", \"modelling\", \"company\", \"huge\", \"twitter\", \"message\", \"notes\", \"healthcare\", \"case\", \"making\", \"just\", \"view\", \"im\", \"recognition\", \"love\", \"free\", \"attend\", \"people\", \"demo\", \"good\", \"time\", \"working\", \"year\", \"think\", \"conference\", \"ive\", \"research\", \"models\", \"lot\", \"like\", \"thanks\", \"want\", \"attending\", \"end\", \"paper\", \"make\", \"ml\", \"amp\", \"neuripsconf\", \"work\", \"week\", \"great\", \"wimlworkshop\", \"vancouver\", \"visit\", \"pm east\", \"members\", \"meetup\", \"wednesday\", \"coauthored\", \"et al\", \"al\", \"et\", \"dm\", \"platform\", \"reproducibility\", \"theres\", \"visit poster\", \"wed\", \"ai social\", \"poster today\", \"app\", \"neutral\", \"ai social good\", \"thing neutral\", \"reception\", \"evaluation\", \"arrived\", \"developing\", \"environment\", \"believe\", \"whova\", \"impacts\", \"content\", \"thursday\", \"set\", \"dec\", \"hope\", \"chat\", \"thing\", \"lunch\", \"vancouver\", \"join\", \"panel\", \"know\", \"tomorrow\", \"celestekidd\", \"right\", \"algorithms\", \"booth\", \"ai\", \"youre\", \"talk\", \"day\", \"learn\", \"come\", \"ml\", \"neuripsconf\", \"online\", \"people\", \"workshop\", \"interested\", \"want\", \"work\", \"poster\", \"today\", \"amp\", \"friday\", \"form\", \"beliefs\", \"abebab\", \"representation learning\", \"men\", \"representation\", \"best researchers\", \"researchers rigorous clinical\", \"need best\", \"stakes big need\", \"stakes big\", \"researchers rigorous\", \"big need best\", \"best researchers rigorous\", \"big need\", \"need best researchers\", \"stakes\", \"rest\", \"quickly\", \"solve\", \"highlighting\", \"kind\", \"application\", \"currently\", \"sciences\", \"graph representation\", \"graph representation learning\", \"savage\", \"physical sciences\", \"keynote\", \"humans\", \"health\", \"feedback\", \"machine\", \"rigorous\", \"celestekidd\", \"machine learning\", \"big\", \"need\", \"fairness\", \"ml\", \"learning\", \"best\", \"thank\", \"researchers\", \"talk\", \"clinical\", \"workshop\", \"great\", \"issues\", \"tutorial\", \"dibr\", \"looking forward\", \"yu\", \"produce\", \"images\", \"framework\", \"bin\", \"thinking\", \"objects\", \"nvidia\", \"check poster\", \"forward\", \"data science\", \"nvidia researchers\", \"bin yu\", \"come check poster\", \"rendering\", \"dibr produces\", \"called dibr produces\", \"rendering framework called\", \"rendering framework\", \"called dibr\", \"produces\", \"framework called\", \"framework called dibr\", \"using machine learning\", \"using machine\", \"dibr produces objects\", \"objects images\", \"produces objects\", \"search\", \"looking\", \"processing\", \"efficient\", \"videos\", \"systems\", \"great tutorial\", \"data\", \"techniques\", \"object\", \"called\", \"science\", \"opening\", \"great\", \"important\", \"neural\", \"learn\", \"researchers\", \"using\", \"tutorial\", \"week\", \"learning\", \"really\", \"machine\"], \"Freq\": [536.0, 776.0, 258.0, 184.0, 226.0, 169.0, 456.0, 160.0, 366.0, 257.0, 190.0, 212.0, 119.0, 116.0, 187.0, 172.0, 126.0, 96.0, 96.0, 220.0, 99.0, 92.0, 178.0, 145.0, 72.0, 183.0, 303.0, 203.0, 203.0, 181.0, 48.25325642951029, 45.608681533892195, 35.319730060537886, 32.652946214800544, 29.02320039598995, 28.706168104498513, 32.707415660819024, 41.7795706278945, 24.404009075418756, 23.591347256637537, 22.591693055473126, 20.074187865472943, 19.59373152056367, 19.561315442576845, 19.858360936189946, 20.113319117805897, 18.840060457558444, 33.3199470542651, 23.66372592962736, 17.296407986762734, 18.24956514524541, 18.865989233953684, 17.86882591772693, 15.387252332278583, 21.30790038782054, 20.70107995706434, 14.572970259635708, 16.91669968701656, 14.144681060155854, 13.67517203668238, 28.139522426137486, 32.00194675731406, 38.02093369296584, 43.14825611160227, 46.273372215086496, 23.800007980674017, 51.72571032930478, 226.11809033630246, 136.5725966663856, 24.31124600588231, 25.871097872222123, 33.39449759033622, 42.63354027669868, 143.8705846556995, 142.56965438536855, 30.1502747553534, 200.26476025279024, 78.89265926673575, 78.2412386375374, 69.52528493115604, 84.361347643977, 80.55592921830748, 54.16632810884754, 35.14564470527961, 43.37347925605389, 45.30144305623767, 40.042334751732284, 39.03668042521016, 47.207185334012294, 41.75809401366229, 36.816916919376624, 34.50926367788153, 33.403973953853, 183.78556512060928, 118.997890273305, 115.73235525952254, 168.25475330633586, 95.75389361586898, 95.75389361586898, 60.364485889885636, 45.115751595111966, 73.73531032899696, 32.95653215490729, 32.93408243368999, 31.78205454798444, 32.593299969072206, 29.26533034402699, 29.26533034402699, 28.149290867644112, 27.509871165843983, 27.509871165843983, 27.509871165843983, 26.356282558305566, 44.756343751562206, 26.391786111029422, 22.209714331919557, 32.14602692910056, 22.722543426819694, 17.729579110418836, 16.603159686257786, 15.737128338477923, 17.151542540926037, 15.097692857321025, 16.448595148785355, 76.01936361397647, 75.86847853560451, 185.6460258766622, 37.48511000168012, 309.1507873397777, 136.8419557894972, 48.19204334871092, 132.95614860610686, 71.36899782270848, 65.18044885797957, 44.51359412707163, 66.47429873332538, 131.3929594556325, 120.13146778748997, 61.454030391771155, 48.99989477360698, 45.80770507904758, 55.542360365731035, 49.56038900183675, 40.03366260272189, 43.483052943595716, 42.30911757275083, 159.00407877311196, 45.36316440036177, 41.646753483192434, 47.27032164635714, 30.256999616877177, 30.155069561981115, 32.600762342378886, 31.8399113116663, 96.90845511052282, 25.51193969053297, 24.92632151182201, 20.93982765050385, 20.939819416393266, 35.728796653792244, 20.358831552532987, 19.123724571677325, 19.82862070392911, 18.76804118626854, 18.946284978039692, 18.189969569906093, 18.016575669267812, 17.72251225040032, 17.643872377285785, 17.104643805242723, 22.476508931429656, 16.32358626716162, 16.497788482988714, 15.938213423697237, 38.09069089079578, 15.208090721325362, 71.59116156004059, 71.07672177790501, 43.4009593804214, 218.2685517260296, 45.226258588416385, 36.809438581886155, 24.030510663964954, 55.580833795865146, 251.4250973197769, 372.7724585109167, 88.36629547271156, 71.85734290812526, 31.182362687613466, 127.53527333597476, 43.76523917727791, 24.571936371181675, 78.23691221086968, 40.0848771962371, 36.65056416290768, 68.78675524153982, 41.543484012975014, 54.576420518836976, 35.83122898943382, 35.302492046624145, 33.973973198269626, 32.912829644034176, 42.07168074910882, 39.26196991702522, 36.05253164026259, 28.070146554994334, 25.528772556478792, 23.49026596756059, 22.12465561562188, 20.34710836284618, 19.81799075676758, 20.109754333298064, 19.882460283405948, 25.089755742434615, 18.0754245222672, 17.677332344533458, 16.183851635942347, 15.054091619808958, 18.077543119344092, 19.464087036316343, 13.598352281578142, 13.757507523582744, 13.005666022523146, 12.518277260390635, 12.776763557359725, 12.35467940892631, 11.651660964077886, 12.693128648419293, 12.700761236747645, 11.527437064751748, 10.845380379194538, 10.85928283339684, 49.640619869462505, 22.62368726359141, 19.29949701549852, 181.9495421194844, 32.88703612796557, 26.88703763300072, 96.77656929357049, 17.501827118243426, 15.40100719210732, 43.67129941201794, 20.064847593736637, 59.1217902115163, 98.91130959685978, 61.06499752431786, 178.0045908446084, 52.087682733463815, 38.38186333970574, 131.8869267121126, 57.99095881359118, 70.90221569299007, 29.161989322302865, 33.90175551727342, 37.03656493654796, 97.2465917355575, 87.28030831074085, 56.1671931169802, 39.368017918235395, 33.059649428968136, 28.797614791583765, 55.22294863119598, 44.60106547519302, 45.224840602380176, 38.390181988304235, 39.77355337999594, 47.4145355416336, 43.20597332780976, 43.5797244630821, 44.10898723986957, 41.972336542845355, 31.328085690567526, 32.34598413759415, 24.988258949399928, 24.555475092925672, 24.059485621984116, 21.05981115350856, 19.60192615639604, 22.03126154692639, 24.599010420687414, 15.910203046243142, 15.157569170533643, 14.900790662365742, 15.03987332156219, 14.683903892582775, 13.529610218494826, 12.231467850375989, 11.832345288324708, 11.740287327356858, 27.64915470373644, 11.493322505997744, 21.256637395692096, 15.155446313712337, 11.29426076013694, 11.12596903939606, 11.515511254554477, 10.784770429404807, 17.81144729395045, 38.29561289797755, 30.664027110529016, 19.962876185649822, 30.87665073322738, 23.541894775377635, 42.902252431228796, 129.14140250535203, 24.538926733371092, 90.56006890342806, 20.724536561210368, 43.992212681255815, 25.542886473006277, 40.46447523167121, 111.5778265717444, 27.42476216665793, 77.89515070268003, 105.40217189487102, 38.529717203280875, 69.55609706462721, 39.16211933472575, 90.51805699028982, 27.983101672375064, 99.63851504747872, 72.9678753042698, 39.16174384520587, 52.69710039438882, 47.007570542356234, 48.442911416902135, 32.11635352171336, 29.90253704628642, 57.52882980239834, 39.106654168503916, 51.02235813024132, 49.196116573095445, 43.122428757412685, 46.31208348950402, 38.524677597510525, 42.30032663845793, 36.40331200601331, 37.368110870793316, 43.74285041208674, 42.18243760993729, 41.11756153866378, 31.737092108263443, 27.877837391085517, 29.51313458700967, 25.903787940887963, 25.903742866544086, 25.903665975016292, 25.116715656667694, 25.050697651477158, 22.803306774270375, 20.142080391616023, 19.33514490462115, 29.03571243950903, 19.454806681891487, 18.484353406748163, 18.296825576188258, 17.501796344557377, 18.082750282799715, 17.076396618472895, 16.833679230981346, 17.983114771371547, 21.64991529734681, 16.799568558393037, 15.877099573740729, 15.119210275750014, 14.795500920888177, 14.694274550264284, 24.46788108225983, 34.06366800193737, 33.30693340257955, 78.66746754786179, 30.920262802787164, 78.36624896487949, 42.779956369555094, 29.530313214891493, 121.23586881013756, 49.85360837749239, 42.488365136138924, 65.9090207299018, 49.78779983542929, 72.65903099449308, 34.33939836917218, 34.57954386763064, 54.69198920386233, 91.82730935235878, 32.000389910883676, 79.89082236078129, 50.25755934447053, 49.35478387094528, 50.84165920677241, 53.05752986044792, 49.19205488381472, 35.933958963957835, 42.93516059268989, 50.944799911295156, 34.81242709386063, 36.40037766868806, 41.51188780750779, 41.76165004980441, 37.48584210938622, 37.10220906576946, 40.8576355712014, 52.678253772504064, 60.23741076708005, 35.3808020060008, 47.50011870993858, 31.90563395555321, 61.10577246527725, 28.295308806904636, 27.561398893260552, 27.561391584310833, 27.561378793648828, 27.56137148469911, 27.56135321232481, 27.561340421662802, 27.56134407613766, 27.561333112713083, 27.56128560453991, 27.56128560453991, 30.15238136936963, 23.42972087945408, 23.697073123982484, 19.185824906139235, 18.027235778031056, 15.96143057502027, 15.956937398180607, 16.43568091371504, 13.930607832601332, 13.484834989248634, 13.394214976159466, 13.212385665910046, 66.12261362544713, 51.50129359927755, 57.05392097306263, 28.728239825601314, 95.22038298540895, 28.473095354340817, 87.27638786128632, 82.57135380507232, 44.635152944668675, 54.27334434124657, 49.435228928551744, 78.97098710041568, 122.24654018180836, 47.859349934145236, 40.42731019307949, 44.38602008455194, 54.34825011244021, 30.09248452642365, 36.945516579711764, 34.44406508318375, 28.9243590461698, 28.39131368869917, 32.66869905710735, 53.29771799281814, 27.114444041524177, 26.121773968304282, 26.116256168610743, 41.428812589309715, 22.570835029577093, 22.903097464460675, 22.74862441504867, 22.74716978383736, 23.671918209451785, 69.21450895876997, 20.83119915834578, 19.332373176005664, 18.223327537479513, 17.786348550053035, 17.206302105906254, 16.798365058691648, 16.798338027217337, 16.798338027217337, 16.798309306275883, 16.79829916947302, 16.798295790538727, 16.79826200119584, 16.79819611197721, 16.63704966734491, 16.63704628841062, 16.390196554478262, 16.390186417675398, 16.39017965980682, 33.16943346616125, 76.56282602964063, 30.45069901128084, 25.380295559577803, 28.560124455903562, 37.55061710684774, 21.349132342929465, 65.63265615023494, 24.469542679787413, 23.457710670215974, 24.417843295702273, 30.19789052673026, 29.98535893890167, 54.33342217313966, 27.016211663881403, 36.512361831138215, 33.61475335287953, 32.625056741833745, 29.182419404929828, 28.523567765833487, 27.32078542173576, 30.245530121267457, 25.879860857367802, 23.875485484612298], \"Total\": [536.0, 776.0, 258.0, 184.0, 226.0, 169.0, 456.0, 160.0, 366.0, 257.0, 190.0, 212.0, 119.0, 116.0, 187.0, 172.0, 126.0, 96.0, 96.0, 220.0, 99.0, 92.0, 178.0, 145.0, 72.0, 183.0, 303.0, 203.0, 203.0, 181.0, 49.102829283022054, 46.71473062089383, 36.17749284625463, 33.5384395946725, 29.877491709733707, 29.567955401078162, 33.69505143879031, 43.134450087707826, 25.275271937469768, 24.46004503532172, 23.44907800970177, 20.92617802517033, 20.440686753940547, 20.40824618122466, 20.720822412193698, 21.003102129148747, 19.707638814613958, 34.86665518546792, 24.830865056530882, 18.15981967802125, 19.186039591821924, 19.901186835590007, 18.858146934554934, 16.25045192654175, 22.516820891564155, 21.896948785667085, 15.428300840282258, 17.938915945762833, 15.007536019919483, 14.521230154245947, 30.158932248361108, 34.45667193500103, 41.66606337383798, 47.76827777659514, 52.510427416549035, 25.978707733028656, 62.88956784569497, 366.8175412722949, 203.5567348599909, 26.786658437715026, 29.283598248512142, 41.4121183850356, 59.86659354054765, 337.5607975670381, 394.9183609374863, 39.206005798464744, 776.2586344807173, 183.57043425514047, 212.9314294710636, 187.80694960261326, 289.72174327526693, 285.60855134602343, 130.03962590103006, 54.79672617834686, 103.14058165067429, 193.62855424857167, 124.36671310380343, 118.26843291627284, 462.8795162353114, 456.03373289447273, 160.05417263535566, 78.88888164787613, 170.7555140535519, 184.9127411010673, 119.89751030076835, 116.63231036724905, 169.74731357689805, 96.6530311808767, 96.6530311808767, 61.245079545112624, 46.149049819160574, 75.6750710210775, 33.83444158331495, 33.81796715262793, 32.65750044846653, 33.508568971101106, 30.141927061471, 30.14192713652149, 29.033696831812268, 28.394541959279326, 28.394541959279326, 28.394541959279326, 27.231692192427676, 46.31778222961265, 27.339999695938044, 23.085163216696063, 33.56505045636282, 23.792863671739482, 18.605453334446775, 17.48161015041136, 16.614294229582455, 18.143068932313916, 15.975477412583036, 17.437754606082702, 87.3483150167259, 91.82982332376764, 257.5846241744987, 43.683852570011474, 536.2035536919341, 220.74406768528033, 60.7620818645879, 245.64288861648228, 106.35749080741164, 104.6250310811807, 62.173806307970914, 127.06874323702708, 462.8795162353114, 458.6907765114659, 128.50414480362548, 90.56491135297708, 79.33670358113663, 193.62855424857167, 147.0045512358714, 81.96391473041551, 226.72272884403364, 285.60855134602343, 160.3741289323044, 46.264247698818146, 42.56794885292446, 48.421890707385884, 31.114306335669, 31.012801462706637, 33.55731895235638, 32.79142988512386, 99.99720519539571, 26.378245390921528, 25.78405890199261, 21.797116565590315, 21.797111459029242, 37.225118232478614, 21.219947559012205, 19.982742780047328, 20.72599494111699, 19.629422585295597, 19.82173452406827, 19.04781319451527, 18.877931939627235, 18.58034543170701, 18.505978114434175, 17.961446897025397, 23.635047871802364, 17.181757684511428, 17.37751704460173, 16.805945485023916, 40.210145689386195, 16.064346731284246, 77.11156562830325, 76.64627886829119, 46.497740571068505, 258.7240321069387, 52.040967818811296, 42.48183710318439, 26.42230173912021, 71.40472537356635, 456.03373289447273, 776.2586344807173, 145.90752878340598, 143.34186263557723, 41.95048476845966, 462.8795162353114, 80.68121603021443, 29.650840559612277, 363.82859742444157, 86.72447031302052, 72.80883486837621, 458.6907765114659, 114.21339538319059, 394.9183609374863, 76.08678443647644, 127.06874323702708, 106.35749080741164, 124.36671310380343, 42.949035513460274, 40.11395235936455, 36.90835158338115, 28.971158923894023, 26.436398598936886, 24.38497981264926, 22.97665408331647, 21.200507379922943, 20.67788873528088, 20.98245199421204, 20.799732099582567, 26.27848728127016, 18.932158201463192, 18.532584531255765, 17.065552865198033, 15.910202647777027, 19.11259208316783, 20.629856124082806, 14.450214504260481, 14.638674063908438, 13.860213220066134, 13.37278559447893, 13.67574660467098, 13.256888884225539, 12.508511151991652, 13.648131874311613, 13.660146089642234, 12.405527057576267, 11.706313682910737, 11.725615415384947, 53.64038495560491, 24.69400903457423, 21.066397372198136, 226.72272884403364, 37.621716863283716, 30.39163595498732, 126.5399765854366, 19.604674047801318, 16.985430746324507, 57.88349143490592, 23.53343509542525, 90.9735287321886, 195.86943606082056, 112.03131955279355, 536.2035536919341, 96.64833024524472, 62.48143690563949, 458.6907765114659, 122.1560788328245, 176.5499376459144, 41.48824369107866, 53.85932282040763, 63.139812491420024, 363.82859742444157, 303.9992789713583, 147.0045512358714, 76.08678443647644, 57.187067711325845, 44.074532649095445, 394.9183609374863, 208.6842494981341, 220.74406768528033, 151.61015951693227, 181.6744035913213, 462.8795162353114, 289.72174327526693, 337.5607975670381, 45.01184418774081, 42.96157835728638, 32.196566680539, 33.30651174135419, 25.858175383088277, 25.426328917083033, 24.94260771808392, 21.927439315978216, 20.49188324731498, 23.20723826708527, 25.9392964527057, 16.80366738411372, 16.037998089976753, 15.778022819296263, 15.948720115546909, 15.621898588047761, 14.400896310082583, 13.127240659494147, 12.701800734785246, 12.610378021169875, 29.71897714175515, 12.362467371933361, 22.869646808730057, 16.34762710562899, 12.185590523832795, 12.018100365094936, 12.442975304097894, 11.66400431507779, 19.383896670068033, 41.78049040858873, 33.93988333462481, 21.90831034470306, 34.68019812628029, 26.235607703168206, 51.09115428587012, 172.8717794915611, 28.149933060142576, 119.57824745958406, 23.485587283320058, 55.87341275809684, 29.906182612952076, 51.751402323265246, 178.2461632486284, 32.879999948149944, 123.63991500431733, 181.6744035913213, 52.25973276759436, 118.26843291627284, 57.26047738236226, 208.6842494981341, 34.87034317474898, 285.60855134602343, 173.17928386079237, 62.897520944416534, 140.5475326132976, 118.48999307219114, 132.68042874957277, 52.055005593469104, 44.312905375882295, 337.5607975670381, 103.14058165067429, 303.9992789713583, 394.9183609374863, 289.72174327526693, 458.6907765114659, 160.05417263535566, 363.82859742444157, 122.1560788328245, 203.10649910734293, 44.62075505726678, 43.05272531536408, 42.20356670200023, 32.6157487101534, 28.747337806200942, 30.50646645959198, 26.778025831415025, 26.778037892274135, 26.77804304639463, 25.985802387201996, 25.98418454722437, 23.69050275436988, 21.01993759871484, 20.203392289776566, 30.374978467253868, 20.368251463194717, 19.354718984779176, 19.164806359067626, 18.373197029995243, 18.998608581547767, 17.94729094095827, 17.70378077549558, 18.914664089041427, 22.79879855915469, 17.707529998155184, 16.76371020409529, 15.99253156238864, 15.664370902562059, 15.566729402710852, 25.963888768873396, 36.20365588670732, 35.582789506125856, 90.9724593733954, 34.51016063120737, 105.07654262272541, 52.61404378990537, 35.207610833727806, 203.10649910734293, 71.48045391934912, 68.98572823397485, 148.00019148283494, 96.33847124178587, 190.20958255707671, 53.88875947961721, 55.66575574512706, 128.50414480362548, 366.8175412722949, 48.58370368613547, 456.03373289447273, 151.61015951693227, 163.8011544005277, 257.5846241744987, 303.9992789713583, 289.72174327526693, 80.68121603021443, 178.2461632486284, 462.8795162353114, 76.80295261267901, 132.68042874957277, 458.6907765114659, 536.2035536919341, 245.64288861648228, 394.9183609374863, 41.71887169207387, 53.79875556793314, 61.61808908248379, 36.25951131154904, 48.75547391296045, 32.78336751161085, 62.87925999816829, 29.1561887621889, 28.42233492215152, 28.42233813461722, 28.42233753592707, 28.422339707968977, 28.422335381477165, 28.4223313416403, 28.422340818747035, 28.42236344589771, 28.422349263269272, 28.42235549561341, 31.143520772046223, 24.29022110199561, 24.578837434622564, 20.087075283676803, 18.905948516386843, 16.905920303219474, 16.90276455645532, 17.421793234838898, 14.808944719094072, 14.351234485802904, 14.257533469447125, 14.136702558045863, 75.86317693962059, 66.5613563303405, 75.96233281733984, 35.81754171076221, 212.9314294710636, 38.2588409216218, 190.20958255707671, 187.80694960261326, 75.70894845794177, 115.61000592720222, 106.60507246450801, 303.9992789713583, 776.2586344807173, 130.03962590103006, 106.93200181847509, 170.7555140535519, 456.03373289447273, 49.47556819329619, 462.8795162353114, 363.82859742444157, 49.13057986565246, 145.90752878340598, 33.54222335812264, 54.84398114935895, 28.021178839418766, 26.9954338934496, 27.004639582678365, 42.969010257370414, 23.443351437476558, 23.80492913635313, 23.65226547560234, 23.653503100085327, 24.65840091367255, 72.11496261581415, 21.70674412676407, 20.20568595967633, 19.09581159152593, 18.666852350380594, 18.080088713155902, 17.67163329027706, 17.671636225041162, 17.671636925507197, 17.67163501271029, 17.67163243978825, 17.67163423175742, 17.671636565784606, 17.671639278867847, 17.511625153791893, 17.51164740689962, 17.263232736392453, 17.263232027803934, 17.263233194347375, 35.15888422996974, 92.34124249352517, 35.0745400380139, 29.539875923779828, 35.746255670324, 59.08162502635305, 26.230523505639358, 183.57043425514047, 33.61031374616728, 32.03280745119898, 34.4367250906046, 73.22866312498672, 74.66600640305339, 363.82859742444157, 58.41354319689911, 147.0045512358714, 163.8011544005277, 170.7555140535519, 133.67197179242353, 145.90752878340598, 160.05417263535566, 776.2586344807173, 117.3340279798868, 212.9314294710636], \"Category\": [\"Default\", \"Default\", \"Default\", \"Default\", \"Default\", \"Default\", \"Default\", \"Default\", \"Default\", \"Default\", \"Default\", \"Default\", \"Default\", \"Default\", \"Default\", \"Default\", \"Default\", \"Default\", \"Default\", \"Default\", \"Default\", \"Default\", \"Default\", \"Default\", \"Default\", \"Default\", \"Default\", \"Default\", \"Default\", \"Default\", \"Topic1\", \"Topic1\", \"Topic1\", \"Topic1\", \"Topic1\", \"Topic1\", \"Topic1\", \"Topic1\", \"Topic1\", \"Topic1\", \"Topic1\", \"Topic1\", \"Topic1\", \"Topic1\", \"Topic1\", \"Topic1\", \"Topic1\", \"Topic1\", \"Topic1\", \"Topic1\", \"Topic1\", \"Topic1\", \"Topic1\", \"Topic1\", \"Topic1\", \"Topic1\", \"Topic1\", \"Topic1\", \"Topic1\", \"Topic1\", \"Topic1\", \"Topic1\", \"Topic1\", \"Topic1\", \"Topic1\", \"Topic1\", \"Topic1\", \"Topic1\", \"Topic1\", \"Topic1\", \"Topic1\", \"Topic1\", \"Topic1\", \"Topic1\", \"Topic1\", \"Topic1\", \"Topic1\", \"Topic1\", \"Topic1\", \"Topic1\", \"Topic1\", \"Topic1\", \"Topic1\", \"Topic1\", \"Topic1\", \"Topic1\", \"Topic1\", \"Topic1\", \"Topic1\", \"Topic1\", \"Topic1\", \"Topic1\", \"Topic1\", \"Topic2\", \"Topic2\", \"Topic2\", \"Topic2\", \"Topic2\", \"Topic2\", \"Topic2\", \"Topic2\", \"Topic2\", \"Topic2\", \"Topic2\", \"Topic2\", \"Topic2\", \"Topic2\", \"Topic2\", \"Topic2\", \"Topic2\", \"Topic2\", \"Topic2\", \"Topic2\", \"Topic2\", \"Topic2\", \"Topic2\", \"Topic2\", \"Topic2\", \"Topic2\", \"Topic2\", \"Topic2\", \"Topic2\", \"Topic2\", \"Topic2\", \"Topic2\", \"Topic2\", \"Topic2\", \"Topic2\", \"Topic2\", \"Topic2\", \"Topic2\", \"Topic2\", \"Topic2\", \"Topic2\", \"Topic2\", \"Topic2\", \"Topic2\", \"Topic2\", \"Topic2\", \"Topic2\", \"Topic2\", \"Topic2\", \"Topic2\", \"Topic2\", \"Topic2\", \"Topic2\", \"Topic3\", \"Topic3\", \"Topic3\", \"Topic3\", \"Topic3\", \"Topic3\", \"Topic3\", \"Topic3\", \"Topic3\", \"Topic3\", \"Topic3\", \"Topic3\", \"Topic3\", \"Topic3\", \"Topic3\", \"Topic3\", \"Topic3\", \"Topic3\", \"Topic3\", \"Topic3\", \"Topic3\", \"Topic3\", \"Topic3\", \"Topic3\", \"Topic3\", \"Topic3\", \"Topic3\", \"Topic3\", \"Topic3\", \"Topic3\", \"Topic3\", \"Topic3\", \"Topic3\", \"Topic3\", \"Topic3\", \"Topic3\", \"Topic3\", \"Topic3\", \"Topic3\", \"Topic3\", \"Topic3\", \"Topic3\", \"Topic3\", \"Topic3\", \"Topic3\", \"Topic3\", \"Topic3\", \"Topic3\", \"Topic3\", \"Topic3\", \"Topic3\", \"Topic3\", \"Topic3\", \"Topic3\", \"Topic3\", \"Topic3\", \"Topic4\", \"Topic4\", \"Topic4\", \"Topic4\", \"Topic4\", \"Topic4\", \"Topic4\", \"Topic4\", \"Topic4\", \"Topic4\", \"Topic4\", \"Topic4\", \"Topic4\", \"Topic4\", \"Topic4\", \"Topic4\", \"Topic4\", \"Topic4\", \"Topic4\", \"Topic4\", \"Topic4\", \"Topic4\", \"Topic4\", \"Topic4\", \"Topic4\", \"Topic4\", \"Topic4\", \"Topic4\", \"Topic4\", \"Topic4\", \"Topic4\", \"Topic4\", \"Topic4\", \"Topic4\", \"Topic4\", \"Topic4\", \"Topic4\", \"Topic4\", \"Topic4\", \"Topic4\", \"Topic4\", \"Topic4\", \"Topic4\", \"Topic4\", \"Topic4\", \"Topic4\", \"Topic4\", \"Topic4\", \"Topic4\", \"Topic4\", \"Topic4\", \"Topic4\", \"Topic4\", \"Topic4\", \"Topic4\", \"Topic4\", \"Topic4\", \"Topic4\", \"Topic4\", \"Topic4\", \"Topic4\", \"Topic4\", \"Topic4\", \"Topic4\", \"Topic4\", \"Topic4\", \"Topic4\", \"Topic5\", \"Topic5\", \"Topic5\", \"Topic5\", \"Topic5\", \"Topic5\", \"Topic5\", \"Topic5\", \"Topic5\", \"Topic5\", \"Topic5\", \"Topic5\", \"Topic5\", \"Topic5\", \"Topic5\", \"Topic5\", \"Topic5\", \"Topic5\", \"Topic5\", \"Topic5\", \"Topic5\", \"Topic5\", \"Topic5\", \"Topic5\", \"Topic5\", \"Topic5\", \"Topic5\", \"Topic5\", \"Topic5\", \"Topic5\", \"Topic5\", \"Topic5\", \"Topic5\", \"Topic5\", \"Topic5\", \"Topic5\", \"Topic5\", \"Topic5\", \"Topic5\", \"Topic5\", \"Topic5\", \"Topic5\", \"Topic5\", \"Topic5\", \"Topic5\", \"Topic5\", \"Topic5\", \"Topic5\", \"Topic5\", \"Topic5\", \"Topic5\", \"Topic5\", \"Topic5\", \"Topic5\", \"Topic5\", \"Topic5\", \"Topic5\", \"Topic5\", \"Topic5\", \"Topic5\", \"Topic5\", \"Topic5\", \"Topic5\", \"Topic5\", \"Topic5\", \"Topic5\", \"Topic5\", \"Topic5\", \"Topic5\", \"Topic6\", \"Topic6\", \"Topic6\", \"Topic6\", \"Topic6\", \"Topic6\", \"Topic6\", \"Topic6\", \"Topic6\", \"Topic6\", \"Topic6\", \"Topic6\", \"Topic6\", \"Topic6\", \"Topic6\", \"Topic6\", \"Topic6\", \"Topic6\", \"Topic6\", \"Topic6\", \"Topic6\", \"Topic6\", \"Topic6\", \"Topic6\", \"Topic6\", \"Topic6\", \"Topic6\", \"Topic6\", \"Topic6\", \"Topic6\", \"Topic6\", \"Topic6\", \"Topic6\", \"Topic6\", \"Topic6\", \"Topic6\", \"Topic6\", \"Topic6\", \"Topic6\", \"Topic6\", \"Topic6\", \"Topic6\", \"Topic6\", \"Topic6\", \"Topic6\", \"Topic6\", \"Topic6\", \"Topic6\", \"Topic6\", \"Topic6\", \"Topic6\", \"Topic6\", \"Topic6\", \"Topic6\", \"Topic6\", \"Topic6\", \"Topic6\", \"Topic6\", \"Topic6\", \"Topic6\", \"Topic6\", \"Topic6\", \"Topic6\", \"Topic7\", \"Topic7\", \"Topic7\", \"Topic7\", \"Topic7\", \"Topic7\", \"Topic7\", \"Topic7\", \"Topic7\", \"Topic7\", \"Topic7\", \"Topic7\", \"Topic7\", \"Topic7\", \"Topic7\", \"Topic7\", \"Topic7\", \"Topic7\", \"Topic7\", \"Topic7\", \"Topic7\", \"Topic7\", \"Topic7\", \"Topic7\", \"Topic7\", \"Topic7\", \"Topic7\", \"Topic7\", \"Topic7\", \"Topic7\", \"Topic7\", \"Topic7\", \"Topic7\", \"Topic7\", \"Topic7\", \"Topic7\", \"Topic7\", \"Topic7\", \"Topic7\", \"Topic7\", \"Topic7\", \"Topic7\", \"Topic7\", \"Topic7\", \"Topic7\", \"Topic7\", \"Topic7\", \"Topic7\", \"Topic7\", \"Topic7\", \"Topic7\", \"Topic7\", \"Topic8\", \"Topic8\", \"Topic8\", \"Topic8\", \"Topic8\", \"Topic8\", \"Topic8\", \"Topic8\", \"Topic8\", \"Topic8\", \"Topic8\", \"Topic8\", \"Topic8\", \"Topic8\", \"Topic8\", \"Topic8\", \"Topic8\", \"Topic8\", \"Topic8\", \"Topic8\", \"Topic8\", \"Topic8\", \"Topic8\", \"Topic8\", \"Topic8\", \"Topic8\", \"Topic8\", \"Topic8\", \"Topic8\", \"Topic8\", \"Topic8\", \"Topic8\", \"Topic8\", \"Topic8\", \"Topic8\", \"Topic8\", \"Topic8\", \"Topic8\", \"Topic8\", \"Topic8\", \"Topic8\", \"Topic8\", \"Topic8\", \"Topic8\", \"Topic8\", \"Topic8\", \"Topic8\", \"Topic8\", \"Topic8\", \"Topic8\", \"Topic8\", \"Topic8\", \"Topic8\", \"Topic8\"], \"logprob\": [30.0, 29.0, 28.0, 27.0, 26.0, 25.0, 24.0, 23.0, 22.0, 21.0, 20.0, 19.0, 18.0, 17.0, 16.0, 15.0, 14.0, 13.0, 12.0, 11.0, 10.0, 9.0, 8.0, 7.0, 6.0, 5.0, 4.0, 3.0, 2.0, 1.0, -4.940800189971924, -4.997200012207031, -5.252799987792969, -5.331299781799316, -5.44920015335083, -5.460100173950195, -5.329699993133545, -5.084799766540527, -5.622499942779541, -5.656400203704834, -5.699699878692627, -5.817800045013428, -5.8420000076293945, -5.843699932098389, -5.82859992980957, -5.815899848937988, -5.88129997253418, -5.311100006103516, -5.653299808502197, -5.966800212860107, -5.913099765777588, -5.879899978637695, -5.934199810028076, -6.083700180053711, -5.758200168609619, -5.787099838256836, -6.1381001472473145, -5.988999843597412, -6.167900085449219, -6.201700210571289, -5.480100154876709, -5.351500034332275, -5.179100036621094, -5.052599906921387, -4.982699871063232, -5.647600173950195, -4.871300220489502, -3.396199941635132, -3.900399923324585, -5.626299858093262, -5.5640997886657715, -5.308899879455566, -5.064599990844727, -3.848299980163574, -3.8573999404907227, -5.411099910736084, -3.5176000595092773, -4.44920015335083, -4.457499980926514, -4.5756001472473145, -4.3821001052856445, -4.428299903869629, -4.825200080871582, -5.257800102233887, -5.047399997711182, -5.003900051116943, -5.127299785614014, -5.1528000831604, -4.962699890136719, -5.085400104522705, -5.211299896240234, -5.276000022888184, -5.308599948883057, -3.512200117111206, -3.946899890899658, -3.9746999740600586, -3.6005001068115234, -4.1641998291015625, -4.1641998291015625, -4.6255998611450195, -4.916800022125244, -4.42549991607666, -5.230800151824951, -5.231500148773193, -5.267099857330322, -5.2418999671936035, -5.349599838256836, -5.349599838256836, -5.388500213623047, -5.411499977111816, -5.411499977111816, -5.411499977111816, -5.4542999267578125, -4.924799919128418, -5.453000068664551, -5.625500202178955, -5.25570011138916, -5.60260009765625, -5.850800037384033, -5.916399955749512, -5.96999979019165, -5.883900165557861, -6.011499881744385, -5.92579984664917, -4.394999980926514, -4.396999835968018, -3.50219988822937, -5.102099895477295, -2.9921998977661133, -3.8071999549865723, -4.850800037384033, -3.8359999656677246, -4.458099842071533, -4.548799991607666, -4.930200099945068, -4.529200077056885, -3.8478000164031982, -3.9374001026153564, -4.607699871063232, -4.834199905395508, -4.901599884033203, -4.708899974822998, -4.822800159454346, -5.036300182342529, -4.95359992980957, -4.980999946594238, -3.612799882888794, -4.867000102996826, -4.952499866485596, -4.825799942016602, -5.271999835968018, -5.275400161743164, -5.197400093078613, -5.2210001945495605, -4.107999801635742, -5.442599773406982, -5.465799808502197, -5.640100002288818, -5.640100002288818, -5.105800151824951, -5.6682000160217285, -5.730800151824951, -5.6946001052856445, -5.749599933624268, -5.740099906921387, -5.780900001525879, -5.79040002822876, -5.8069000244140625, -5.811299800872803, -5.842400074005127, -5.569300174713135, -5.889100074768066, -5.878499984741211, -5.913000106811523, -5.041800022125244, -5.95989990234375, -4.410799980163574, -4.418000221252441, -4.911200046539307, -3.2960000038146973, -4.869999885559082, -5.076000213623047, -5.502399921417236, -4.663899898529053, -3.154599905014038, -2.7607998847961426, -4.200200080871582, -4.4070000648498535, -5.2418999671936035, -3.8333001136779785, -4.902900218963623, -5.480100154876709, -4.322000026702881, -4.990699768066406, -5.0802998542785645, -4.450699806213379, -4.954999923706055, -4.68209981918335, -5.10290002822876, -5.117800235748291, -5.156099796295166, -5.187900066375732, -4.920400142669678, -4.989500045776367, -5.07480001449585, -5.325099945068359, -5.420000076293945, -5.503200054168701, -5.5630998611450195, -5.646900177001953, -5.6732001304626465, -5.658599853515625, -5.670000076293945, -5.437300205230713, -5.765200138092041, -5.787499904632568, -5.875800132751465, -5.9481000900268555, -5.765100002288818, -5.691199779510498, -6.049799919128418, -6.0381999015808105, -6.094399929046631, -6.132599830627441, -6.112199783325195, -6.1458001136779785, -6.2042999267578125, -6.11870002746582, -6.118100166320801, -6.215099811553955, -6.276100158691406, -6.274799823760986, -4.755000114440918, -5.540800094604492, -5.699699878692627, -3.4560999870300293, -5.1666998863220215, -5.368199825286865, -4.087399959564209, -5.797500133514404, -5.9253997802734375, -4.8831000328063965, -5.660799980163574, -4.5802001953125, -4.0655999183654785, -4.547900199890137, -3.4779999256134033, -4.706900119781494, -5.012199878692627, -3.7778000831604004, -4.5995001792907715, -4.398499965667725, -5.286900043487549, -5.136300086975098, -5.047900199890137, -4.082499980926514, -4.190700054168701, -4.631499767303467, -4.986800193786621, -5.161499977111816, -5.299499988555908, -4.648399829864502, -4.861999988555908, -4.848100185394287, -5.01200008392334, -4.976600170135498, -4.800899982452393, -4.893799781799316, -4.885200023651123, -4.872000217437744, -4.921599864959717, -5.214099884033203, -5.182199954986572, -5.440199851989746, -5.457699775695801, -5.478099822998047, -5.611299991607666, -5.683000087738037, -5.566199779510498, -5.455900192260742, -5.89169979095459, -5.940100193023682, -5.957200050354004, -5.94789981842041, -5.97189998626709, -6.053800106048584, -6.154600143432617, -6.18779993057251, -6.1956000328063965, -5.339000225067139, -6.216899871826172, -5.6020002365112305, -5.940299987792969, -6.234300136566162, -6.2494001388549805, -6.214900016784668, -6.2804999351501465, -5.778800010681152, -5.013299942016602, -5.235599994659424, -5.66480016708374, -5.228600025177002, -5.499899864196777, -4.899700164794922, -3.7976999282836914, -5.458399772644043, -4.152599811553955, -5.627299785614014, -4.874599933624268, -5.418300151824951, -4.958199977874756, -3.9439001083374023, -5.3471999168396, -4.303299903869629, -4.000899791717529, -5.007199764251709, -4.416500091552734, -4.990900039672852, -4.15310001373291, -5.327000141143799, -4.05709981918335, -4.368599891662598, -4.990900039672852, -4.6940999031066895, -4.808300018310547, -4.778299808502197, -5.189300060272217, -5.260700225830078, -4.606400012969971, -4.992300033569336, -4.726399898529053, -4.762800216674805, -4.894599914550781, -4.823200225830078, -5.007299900054932, -4.91379976272583, -5.064000129699707, -5.037799835205078, -4.868800163269043, -4.905099868774414, -4.930699825286865, -5.189700126647949, -5.319300174713135, -5.26230001449585, -5.3927998542785645, -5.3927998542785645, -5.3927998542785645, -5.423600196838379, -5.426300048828125, -5.520199775695801, -5.6442999839782715, -5.685200214385986, -5.278600215911865, -5.679100036621094, -5.730199813842773, -5.7403998374938965, -5.784800052642822, -5.752200126647949, -5.809500217437744, -5.823800086975098, -5.757699966430664, -5.572199821472168, -5.825799942016602, -5.882299900054932, -5.93120002746582, -5.9527997970581055, -5.959700107574463, -5.44980001449585, -5.118899822235107, -5.14139986038208, -4.281899929046631, -5.215700149536133, -4.285799980163574, -4.89109992980957, -5.26170015335083, -3.849400043487549, -4.738100051879883, -4.897900104522705, -4.458899974822998, -4.7393999099731445, -4.361400127410889, -5.110899925231934, -5.103899955749512, -4.645400047302246, -4.127200126647949, -5.181399822235107, -4.266499996185303, -4.730000019073486, -4.7480998039245605, -4.718400001525879, -4.67579984664917, -4.751399993896484, -5.065499782562256, -4.887499809265137, -4.716400146484375, -5.0971999168396, -5.052599906921387, -4.921199798583984, -4.915200233459473, -5.023200035095215, -5.0335001945495605, -4.564799785614014, -4.310699939727783, -4.176599979400635, -4.708700180053711, -4.414100170135498, -4.812099933624268, -4.162300109863281, -4.932199954986572, -4.958399772644043, -4.958399772644043, -4.958399772644043, -4.958399772644043, -4.958399772644043, -4.958399772644043, -4.958399772644043, -4.958399772644043, -4.958399772644043, -4.958399772644043, -4.868599891662598, -5.1209001541137695, -5.109499931335449, -5.320700168609619, -5.382999897003174, -5.504700183868408, -5.505000114440918, -5.475399971008301, -5.6407999992370605, -5.673299789428711, -5.679999828338623, -5.693699836730957, -4.0833001136779785, -4.3333001136779785, -4.230899810791016, -4.916999816894531, -3.7186999320983887, -4.925899982452393, -3.805799961090088, -3.8612000942230225, -4.47629976272583, -4.280799865722656, -4.374199867248535, -3.9058001041412354, -3.4688000679016113, -4.406599998474121, -4.575399875640869, -4.481900215148926, -4.279399871826172, -4.87060022354126, -4.66540002822876, -4.735499858856201, -4.910200119018555, -4.928800106048584, -4.710000038146973, -4.220600128173828, -4.896399974822998, -4.933700084686279, -4.933899879455566, -4.472499847412109, -5.079800128936768, -5.065199851989746, -5.072000026702881, -5.072000026702881, -5.032199859619141, -3.9593000411987305, -5.159999847412109, -5.2347002029418945, -5.293799877166748, -5.317999839782715, -5.351200103759766, -5.375199794769287, -5.375199794769287, -5.375199794769287, -5.375199794769287, -5.375199794769287, -5.375199794769287, -5.375199794769287, -5.375199794769287, -5.384799957275391, -5.384799957275391, -5.399799823760986, -5.399799823760986, -5.399799823760986, -4.694799900054932, -3.8584001064300537, -4.780399799346924, -4.962500095367432, -4.8445000648498535, -4.570799827575684, -5.135499954223633, -4.012400150299072, -4.999000072479248, -5.041299819946289, -5.001200199127197, -4.788700103759766, -4.79580020904541, -4.201300144195557, -4.900000095367432, -4.598800182342529, -4.68149995803833, -4.711400032043457, -4.82289981842041, -4.845699787139893, -4.888800144195557, -4.787099838256836, -4.942999839782715, -5.023600101470947], \"loglift\": [30.0, 29.0, 28.0, 27.0, 26.0, 25.0, 24.0, 23.0, 22.0, 21.0, 20.0, 19.0, 18.0, 17.0, 16.0, 15.0, 14.0, 13.0, 12.0, 11.0, 10.0, 9.0, 8.0, 7.0, 6.0, 5.0, 4.0, 3.0, 2.0, 1.0, 1.8476, 1.8411, 1.841, 1.8383, 1.836, 1.8355, 1.8353, 1.8331, 1.83, 1.8289, 1.8278, 1.8235, 1.8227, 1.8226, 1.8225, 1.8217, 1.82, 1.8197, 1.8169, 1.8163, 1.815, 1.8116, 1.8111, 1.8105, 1.8098, 1.8089, 1.808, 1.8064, 1.8058, 1.805, 1.7957, 1.7911, 1.7735, 1.7633, 1.7386, 1.7774, 1.6696, 1.3812, 1.4659, 1.7681, 1.7411, 1.6498, 1.5256, 1.0122, 0.8462, 1.6024, 0.5102, 1.0205, 0.8639, 0.8713, 0.6312, 0.5994, 0.9893, 1.4209, 0.9988, 0.4124, 0.7317, 0.7566, -0.4179, -0.5256, 0.3955, 1.0382, 0.2335, 1.9502, 1.9487, 1.9485, 1.9474, 1.9469, 1.9469, 1.9418, 1.9336, 1.9303, 1.93, 1.9298, 1.9291, 1.9286, 1.9268, 1.9268, 1.9253, 1.9246, 1.9246, 1.9246, 1.9236, 1.922, 1.921, 1.9176, 1.9131, 1.9103, 1.9081, 1.9047, 1.902, 1.9001, 1.8998, 1.8979, 1.8174, 1.7653, 1.6288, 1.8032, 1.4056, 1.4781, 1.7245, 1.3424, 1.5573, 1.4831, 1.6221, 1.3084, 0.697, 0.6165, 1.2186, 1.342, 1.407, 0.7075, 0.869, 1.2397, 0.3049, 0.0467, 1.992, 1.9809, 1.9787, 1.9765, 1.9726, 1.9725, 1.9716, 1.9711, 1.9692, 1.9672, 1.9667, 1.9604, 1.9604, 1.9595, 1.9591, 1.9566, 1.9563, 1.9557, 1.9554, 1.9545, 1.9539, 1.9533, 1.9529, 1.9517, 1.9503, 1.9493, 1.9486, 1.9475, 1.9464, 1.9458, 1.9263, 1.9251, 1.9316, 1.8305, 1.8602, 1.8572, 1.9057, 1.75, 1.4051, 1.267, 1.4991, 1.31, 1.7039, 0.7115, 1.3889, 1.8127, 0.4636, 1.2288, 1.3142, 0.1032, 0.9892, 0.0215, 1.2475, 0.7198, 0.8593, 0.6712, 2.0019, 2.001, 1.999, 1.9909, 1.9876, 1.9851, 1.9847, 1.9814, 1.98, 1.98, 1.9774, 1.9762, 1.9762, 1.9752, 1.9694, 1.9672, 1.9668, 1.9643, 1.9617, 1.9604, 1.9589, 1.9565, 1.9545, 1.952, 1.9515, 1.9499, 1.9497, 1.9491, 1.9461, 1.9457, 1.945, 1.9349, 1.9349, 1.8025, 1.888, 1.9, 1.7543, 1.909, 1.9246, 1.7407, 1.863, 1.5915, 1.3393, 1.4157, 0.9198, 1.4043, 1.5352, 0.7761, 1.2775, 1.1102, 1.6699, 1.5596, 1.489, 0.7031, 0.7746, 1.0604, 1.3636, 1.4745, 1.5969, 0.0552, 0.4794, 0.4371, 0.649, 0.5035, -0.256, 0.1195, -0.0247, 2.0034, 2.0003, 1.9963, 1.9944, 1.9894, 1.9888, 1.9876, 1.9833, 1.9792, 1.9716, 1.9706, 1.969, 1.9672, 1.9664, 1.965, 1.9617, 1.9612, 1.953, 1.9527, 1.9522, 1.9515, 1.9507, 1.9505, 1.9479, 1.9477, 1.9465, 1.9462, 1.9453, 1.939, 1.9366, 1.9221, 1.9307, 1.9075, 1.9153, 1.849, 1.732, 1.8864, 1.7457, 1.8986, 1.7846, 1.8659, 1.7776, 1.5552, 1.8422, 1.5616, 1.4792, 1.7188, 1.4928, 1.6437, 1.1884, 1.8036, 0.9706, 1.1593, 1.5498, 1.0427, 1.0991, 1.0161, 1.5407, 1.6303, 0.2542, 1.0538, 0.2389, -0.0592, 0.1188, -0.2693, 0.5994, -0.1282, 0.813, 0.3307, 2.0153, 2.0147, 2.0091, 2.0078, 2.0044, 2.002, 2.0019, 2.0019, 2.0019, 2.0011, 1.9985, 1.997, 1.9925, 1.9912, 1.99, 1.9892, 1.9891, 1.9888, 1.9865, 1.9857, 1.9854, 1.9847, 1.9846, 1.9834, 1.9825, 1.9808, 1.979, 1.9781, 1.9775, 1.9758, 1.9742, 1.969, 1.8898, 1.9253, 1.7418, 1.8282, 1.8593, 1.5191, 1.6748, 1.5505, 1.2262, 1.375, 1.0728, 1.5845, 1.559, 1.1809, 0.6502, 1.6176, 0.2932, 0.931, 0.8355, 0.4125, 0.2895, 0.2619, 1.2263, 0.6117, -0.1716, 1.2439, 0.7418, -0.3673, -0.5174, 0.1552, -0.3299, 2.3866, 2.3864, 2.3848, 2.3829, 2.3813, 2.3803, 2.3788, 2.3775, 2.3767, 2.3767, 2.3767, 2.3767, 2.3767, 2.3767, 2.3767, 2.3767, 2.3767, 2.3767, 2.3751, 2.3714, 2.3709, 2.3615, 2.3598, 2.3499, 2.3498, 2.3492, 2.3463, 2.3452, 2.345, 2.3398, 2.27, 2.1509, 2.1212, 2.1869, 1.6027, 2.112, 1.6284, 1.5857, 1.8791, 1.6512, 1.639, 1.0595, 0.559, 1.4079, 1.4347, 1.0601, 0.2803, 1.9102, -0.1206, 0.0501, 1.8776, 0.7705, 2.4594, 2.4572, 2.4529, 2.4529, 2.4524, 2.4493, 2.4479, 2.4472, 2.4469, 2.4467, 2.445, 2.4448, 2.4446, 2.4416, 2.4391, 2.4375, 2.4363, 2.4351, 2.4351, 2.4351, 2.4351, 2.4351, 2.4351, 2.4351, 2.4351, 2.4346, 2.4346, 2.4339, 2.4339, 2.4339, 2.4276, 2.2984, 2.3445, 2.3341, 2.2614, 2.0326, 2.2799, 1.4573, 2.1684, 2.1743, 2.142, 1.6, 1.5735, 0.5843, 1.7147, 1.093, 0.9021, 0.8307, 0.964, 0.8536, 0.718, -0.7593, 0.9743, 0.2977]}, \"token.table\": {\"Topic\": [7, 5, 3, 1, 2, 3, 4, 5, 6, 7, 1, 6, 6, 6, 1, 2, 3, 5, 6, 8, 1, 2, 3, 4, 6, 7, 1, 2, 3, 4, 5, 6, 7, 8, 4, 5, 6, 7, 3, 8, 6, 3, 3, 1, 2, 3, 4, 5, 2, 3, 4, 5, 8, 4, 7, 1, 3, 3, 8, 3, 3, 3, 2, 3, 4, 5, 7, 6, 1, 3, 4, 1, 3, 4, 5, 6, 7, 8, 1, 7, 7, 5, 1, 2, 3, 5, 7, 7, 7, 8, 8, 3, 1, 1, 2, 4, 7, 1, 6, 1, 1, 2, 4, 5, 6, 1, 8, 8, 8, 1, 5, 4, 3, 3, 4, 6, 7, 3, 1, 4, 5, 2, 5, 6, 1, 2, 3, 4, 5, 6, 8, 8, 1, 1, 7, 1, 5, 7, 8, 6, 2, 1, 3, 1, 1, 2, 3, 6, 2, 8, 2, 2, 2, 5, 3, 4, 1, 2, 4, 5, 6, 7, 8, 4, 5, 4, 6, 1, 4, 3, 4, 5, 6, 7, 7, 1, 2, 4, 5, 6, 7, 8, 8, 1, 2, 3, 4, 6, 7, 8, 1, 3, 6, 2, 2, 5, 5, 1, 2, 3, 4, 8, 1, 3, 3, 3, 3, 5, 6, 8, 8, 8, 1, 1, 5, 5, 5, 6, 1, 2, 3, 6, 7, 2, 6, 2, 2, 1, 8, 4, 4, 2, 3, 8, 5, 6, 5, 4, 6, 6, 6, 6, 4, 4, 2, 2, 2, 2, 2, 4, 4, 1, 5, 6, 7, 8, 4, 1, 1, 6, 7, 5, 5, 1, 7, 3, 4, 8, 2, 8, 8, 8, 5, 6, 7, 1, 4, 1, 1, 3, 5, 6, 4, 6, 7, 4, 5, 1, 7, 7, 4, 1, 2, 3, 4, 5, 6, 7, 8, 4, 8, 2, 2, 2, 3, 5, 6, 7, 5, 7, 2, 7, 5, 7, 4, 6, 2, 1, 5, 5, 7, 4, 4, 2, 4, 5, 6, 8, 3, 4, 1, 1, 6, 1, 7, 8, 1, 7, 2, 3, 4, 3, 2, 3, 5, 1, 2, 3, 4, 6, 2, 3, 4, 5, 7, 8, 4, 5, 4, 3, 6, 3, 5, 3, 5, 7, 1, 5, 1, 2, 4, 6, 2, 3, 4, 5, 6, 7, 8, 7, 2, 3, 5, 6, 7, 8, 1, 2, 3, 4, 5, 6, 8, 1, 2, 3, 4, 5, 7, 8, 3, 3, 3, 3, 1, 3, 7, 2, 3, 1, 2, 3, 4, 5, 6, 4, 5, 3, 5, 6, 8, 1, 4, 3, 4, 6, 8, 4, 8, 3, 4, 5, 2, 3, 4, 5, 7, 4, 6, 2, 3, 1, 2, 3, 5, 7, 8, 1, 3, 7, 8, 4, 1, 2, 3, 4, 5, 6, 8, 1, 5, 6, 4, 1, 2, 4, 5, 6, 8, 6, 1, 6, 7, 5, 6, 8, 1, 2, 3, 4, 5, 6, 7, 8, 1, 2, 4, 5, 8, 5, 1, 2, 3, 4, 5, 6, 8, 4, 5, 1, 4, 5, 6, 7, 7, 7, 4, 4, 5, 1, 2, 3, 4, 8, 2, 3, 4, 5, 7, 8, 4, 4, 2, 8, 1, 2, 3, 4, 5, 6, 8, 1, 2, 3, 4, 5, 6, 7, 8, 6, 1, 2, 4, 5, 6, 8, 3, 5, 1, 3, 4, 8, 5, 6, 8, 8, 2, 8, 8, 8, 3, 6, 6, 7, 8, 1, 1, 3, 6, 7, 1, 2, 3, 4, 5, 6, 7, 8, 1, 1, 3, 4, 5, 6, 8, 1, 2, 3, 4, 5, 6, 4, 7, 6, 5, 4, 2, 6, 6, 2, 5, 1, 2, 3, 4, 6, 8, 2, 2, 2, 4, 6, 1, 2, 3, 4, 6, 1, 3, 4, 5, 6, 8, 1, 2, 3, 4, 6, 7, 8, 2, 4, 4, 6, 3, 8, 1, 3, 5, 5, 1, 2, 4, 5, 6, 2, 8, 8, 8, 8, 5, 1, 7, 2, 3, 4, 5, 6, 8, 1, 3, 4, 5, 6, 7, 8, 6, 5, 8, 1, 3, 7, 1, 3, 7, 8, 8, 8, 1, 7, 1, 7, 6, 1, 2, 3, 4, 5, 6, 7, 1, 2, 3, 5, 7, 8, 3, 7, 7, 7, 1, 2, 3, 5, 6, 4, 5, 6, 7, 8, 1, 2, 3, 4, 5, 6, 7, 3, 1, 7, 2, 5, 2, 5, 2, 3, 5, 6, 7, 8, 7, 2, 8, 2, 3, 4, 1, 4, 6, 1, 6, 3, 1, 2, 3, 8, 7, 1, 1, 1, 3, 4, 7, 7, 7, 5, 2, 3, 1, 1, 2, 4, 5, 6, 3, 1, 4, 2, 3, 6, 8, 1, 2, 3, 4, 5, 6, 7, 8, 1, 2, 3, 4, 5, 6, 8, 4, 5, 8, 1, 2, 5, 6, 7, 8, 1, 2, 3, 4, 5, 6, 7, 8, 6, 5, 6, 6, 5, 3, 5, 6, 8, 3, 1, 6, 1, 2, 3, 4, 5, 6, 1, 2, 3, 4, 5, 6, 8, 1, 2, 3, 4, 6, 1, 8, 3, 7, 8, 5, 3, 5, 1, 6, 1, 2, 2, 4, 1, 2, 3, 4, 5, 7, 8, 8, 8, 1, 2, 3, 4, 5, 6, 7, 8, 6, 7, 8, 5, 6, 8, 6, 6, 5, 1, 2, 3, 4, 5, 6, 8, 1, 3, 4, 5, 8, 3, 6, 6, 1, 2, 3, 4, 5, 6, 7, 8, 2, 3, 6, 3, 2, 6, 2, 3, 4, 5, 1, 2, 3, 4, 5, 6, 7, 8, 2, 5, 1, 2, 3, 4, 5, 6, 7, 8, 2, 4, 1, 2, 5, 6, 8, 3, 4, 3, 4, 3, 5, 6, 8], \"Freq\": [0.9652639744444688, 0.9607730839092347, 0.9649717688738437, 0.616110121713717, 0.01363075490517073, 0.005452301962068292, 0.07633222746895608, 0.03271381177240975, 0.25080589025514144, 0.002726150981034146, 0.9640931711165106, 0.9328243042527662, 0.9474378043391211, 0.9709449252628547, 0.9495446798505373, 0.03592873164530922, 0.01796436582265461, 0.14371492658123688, 0.6287528037929113, 0.16167929240389148, 0.3216294698293888, 0.16885547166042914, 0.2653443126092458, 0.13669252467749024, 0.00804073674573472, 0.08844810420308193, 0.36210015573987514, 0.07343289871647818, 0.13926929066918273, 0.13926929066918273, 0.12407627714163554, 0.09369025008654111, 0.01266084460628934, 0.055707716267673096, 0.8884023235863108, 0.09871136928736786, 0.9392215951862978, 0.9464140202384039, 0.9083235910695164, 0.07569363258912637, 0.9649631292156867, 0.9866578289950787, 0.9726586667667393, 0.03864629575652841, 0.019323147878264203, 0.09661573939132101, 0.05796944363479261, 0.7729259151305681, 0.1152626905250543, 0.03842089684168477, 0.1152626905250543, 0.6147343494669563, 0.07684179368336953, 0.8498546820259093, 0.1274782023038864, 0.9120132050646308, 0.07200104250510243, 0.9700271103623432, 0.02000055897654316, 0.9679347376337449, 0.953494273502261, 0.9695913314124481, 0.9778649560750204, 0.013214391298311087, 0.9381170719250367, 0.01622900052387815, 0.9737400314326891, 0.9379378081252074, 0.01099220854611278, 0.3187740478372706, 0.648540304220654, 0.41525803866198496, 0.007689963678925647, 0.05382974575247953, 0.02306989103677694, 0.1153494551838847, 0.36911825658843106, 0.007689963678925647, 0.9544946310189948, 0.9603449966791168, 0.9851405335879843, 0.9776177134534143, 0.21133565220349618, 0.1320847826271851, 0.026416956525437022, 0.052833913050874044, 0.594381521822333, 0.9851397493138921, 0.9851408620720158, 0.981088393497876, 0.9426150815180742, 0.952044025982227, 0.9476603854657892, 0.2650032958842074, 0.5410483957635901, 0.01104180399517531, 0.17666886392280495, 0.9284148314475414, 0.03315767255169791, 0.9361326434631411, 0.06225480129240389, 0.47469285985457965, 0.007781850161550486, 0.023345550484651457, 0.42800175888527675, 0.26134889355246727, 0.6969303828065794, 0.9619937522989642, 0.9619935462405322, 0.07623227266652872, 0.9147872719983446, 0.9396638684010461, 0.9641866887968646, 0.14720604305830892, 0.01051471736130778, 0.38378718368773396, 0.45739020521688845, 0.9425093980265711, 0.826846196933433, 0.04770266520769806, 0.11130621881796214, 0.1998543107323197, 0.04758435969817136, 0.7423160112914732, 0.23240373907988288, 0.28921354196607646, 0.10845507823727868, 0.061974330421302105, 0.15493582605325526, 0.10845507823727868, 0.041316220280868066, 0.973299123654548, 0.9522402870309044, 0.8760164840231861, 0.09521918304599848, 0.979372299221655, 0.16169597019572943, 0.6063598882339853, 0.22233195901912797, 0.9833980621694476, 0.9666764084105931, 0.8959684185993325, 0.07466403488327772, 0.964105647475497, 0.0077644386050198235, 0.7220927902668436, 0.0698799474451784, 0.19799318442800548, 0.9533726171990266, 0.9642761223015193, 0.9509875745851918, 0.954769898847117, 0.9529930455110999, 0.9430723534438815, 0.9673424710139603, 0.9432035694394618, 0.15334171159039062, 0.038335427897597654, 0.21563678192398683, 0.43606549233517333, 0.06229507033359619, 0.038335427897597654, 0.05750314184639648, 0.9209952743111887, 0.9141296568918403, 0.038515031738960544, 0.924360761735053, 0.05887398529568589, 0.8831097794352883, 0.11140132637773462, 0.6312741828071629, 0.11140132637773462, 0.05570066318886731, 0.09283443864811218, 0.9465907157707792, 0.43035252556084086, 0.02179000129421979, 0.06537000388265937, 0.016342500970664843, 0.08171250485332422, 0.032685001941329686, 0.35953502135462656, 0.9674412651369181, 0.13191728089809404, 0.039575184269428215, 0.17808832921242695, 0.2506428337063787, 0.3297932022452351, 0.019787592134714108, 0.04617104831433291, 0.03297701327042875, 0.09893103981128624, 0.868394682787957, 0.9758126457176961, 0.9389390759731097, 0.947980097709537, 0.9521730961615253, 0.011595366598028307, 0.07730244398685537, 0.8425966394567236, 0.05797683299014153, 0.0077302443986855375, 0.006235419681824807, 0.9914317294101443, 0.9449903679852875, 0.9464716343545451, 0.1520681267604848, 0.821167884506618, 0.9600435521933948, 0.9838346029619609, 0.9619937060007581, 0.9268252501902818, 0.9722392734808494, 0.9381821565547339, 0.9515971670202754, 0.9637886688862864, 0.950689460383797, 0.9620638080551438, 0.7182636835830002, 0.05011141978486048, 0.08351903297476747, 0.06681522637981398, 0.08351903297476747, 0.98970638450719, 0.0058911094315904165, 0.9932435519828177, 0.9932435519828177, 0.10155763713228656, 0.8463136427690546, 0.9417874834388543, 0.9593467882937703, 0.14302576080148377, 0.7389664308076662, 0.09535050720098918, 0.6770036797525756, 0.2933682612261161, 0.9405143416729665, 0.983492509492029, 0.954442650535159, 0.9709447383796261, 0.9709453625777643, 0.9516425940880782, 0.9779032171010489, 0.9672167335863328, 0.9621149948660491, 0.9621149924704757, 0.9925143541469968, 0.9945786003444668, 0.9753375098193894, 0.952511312150235, 0.9427912599275283, 0.2532712503805961, 0.08442375012686537, 0.1969887502960192, 0.4596404173573781, 0.009380416680762818, 0.9051897549114167, 0.9326360990803801, 0.9547169300486953, 0.16751568403135722, 0.8096591394848932, 0.9352788244422183, 0.9577041667924078, 0.9652126543119489, 0.9851528988077701, 0.013866747811094465, 0.013866747811094465, 0.9568055989655181, 0.023272586313027106, 0.9541760388341113, 0.96199352769143, 0.9619933799989338, 0.8693854490388772, 0.13375160754444262, 0.982768668880121, 0.9847001018438034, 0.9615508461477436, 0.9674523369748511, 0.040440014859484556, 0.07279202674707219, 0.630864231807959, 0.2507280921288042, 0.7601476502066415, 0.15548474663317668, 0.06910433183696742, 0.8771529518421791, 0.10632156992026413, 0.9784407070444641, 0.9453745871540022, 0.9058454178879437, 0.9722303015822249, 0.04122820500143653, 0.04122820500143653, 0.21438666600746997, 0.26660905900928955, 0.11543897400402228, 0.07421076900258576, 0.09345059800325614, 0.14842153800517152, 0.15249409715898468, 0.8005940100846697, 0.9950639361266705, 0.9796705375458692, 0.9630261616236049, 0.9758647339290654, 0.17113745086344298, 0.0658220964859396, 0.7503718999397115, 0.893881859818688, 0.08650469611148592, 0.975101333100828, 0.945881853464243, 0.9421589399407697, 0.0336485335693132, 0.0869309196227593, 0.8982861694351794, 0.9674582863656529, 0.05158921433708252, 0.9286058580674854, 0.21033225240361297, 0.7812340803562767, 0.9664784233711459, 0.9513485206516665, 0.06690180003435742, 0.025088175012884028, 0.7610079753908155, 0.1421663250730095, 0.9627975193076536, 0.04049565214785068, 0.9313999994005656, 0.9839455979115371, 0.9706303421231364, 0.963593546977687, 0.2225511292163853, 0.3081477173765335, 0.4622215760648003, 0.8878690309624441, 0.10244642664951278, 0.14461928166147459, 0.12051606805122882, 0.6989931946971271, 0.9308210467492622, 0.01921563033726919, 0.8647033651771135, 0.09607815168634595, 0.2343659896875953, 0.11718299484379766, 0.06510166380210981, 0.13020332760421963, 0.45571164661476865, 0.01785215070199652, 0.16959543166896696, 0.5444905964108939, 0.20529973307296, 0.026778226052994784, 0.03570430140399304, 0.9379365088827956, 0.962835581432903, 0.9712622634820554, 0.9450351235616243, 0.024869345356884853, 0.9856607069455914, 0.9447479338214392, 0.040707844390784696, 0.3663705995170623, 0.5902637436663781, 0.17206598655859634, 0.8029746039401162, 0.06994919206362993, 0.20984757619088978, 0.013989838412725986, 0.6994919206362993, 0.02313853661809077, 0.028923170772613464, 0.12726195139949925, 0.7462178059334273, 0.075200244008795, 0.8699872937371094, 0.11863463096415128, 0.9520812978200165, 0.0743242281634195, 0.13513496029712638, 0.1824321964011206, 0.445945368980517, 0.12162146426741374, 0.04054048808913791, 0.12209926159064705, 0.22588363394269703, 0.006104963079532353, 0.12820422467017942, 0.006104963079532353, 0.2991431908970853, 0.2075687447041, 0.25764608742006606, 0.048952756609812555, 0.4805099530384232, 0.005152921748401321, 0.010305843496802643, 0.1571641133262403, 0.03864691311300991, 0.9508204258612291, 0.9687656274292586, 0.9634301829238886, 0.9634304086333858, 0.021506421338292142, 0.9247761175465622, 0.043012842676584284, 0.13490342683399142, 0.8431464177124464, 0.21345091900362267, 0.042690183800724535, 0.18499079646980632, 0.028460122533816357, 0.3770966235730667, 0.14941564330253587, 0.9516735703037036, 0.9622089346576016, 0.46123083664420533, 0.345923127483154, 0.172961563741577, 0.011530770916105134, 0.9238334811198873, 0.03849306171332864, 0.021658794553692916, 0.04331758910738583, 0.09746457549161813, 0.8338635903171773, 0.0182335413849089, 0.9663776934001717, 0.3179775561849933, 0.04769663342774899, 0.6200562345607369, 0.9724504695924691, 0.14318080111977208, 0.05369280041991453, 0.7874944061587464, 0.01789760013997151, 0.14201474856141486, 0.8520884913684892, 0.6675599382892953, 0.3196765901667048, 0.3663151099570289, 0.0046963475635516515, 0.06105251832617148, 0.0046963475635516515, 0.4461530185374069, 0.11271234152523965, 0.3727231614597609, 0.05857078251510529, 0.44194317715943077, 0.12779079821477515, 0.9673107756168566, 0.4169067045368837, 0.009695504756671715, 0.03878201902668686, 0.009695504756671715, 0.3781246855101969, 0.135737066593404, 0.009695504756671715, 0.11743715881673421, 0.8416329715199286, 0.019572859802789035, 0.9688437494040146, 0.012200490951280977, 0.4880196380512391, 0.2684108009281815, 0.09760392761024782, 0.03660147285384293, 0.08540343665896684, 0.9811211229389405, 0.9799960183937687, 0.9714818723616744, 0.9761047271506381, 0.9133796864992285, 0.029463860854813825, 0.029463860854813825, 0.9736996742649766, 0.02960533337596484, 0.02960533337596484, 0.28618488930099345, 0.1677635557971341, 0.17434251876957071, 0.2598690374112469, 0.04934222229327473, 0.06208074143417714, 0.041387160956118094, 0.5380330924295352, 0.33109728764894475, 0.020693580478059047, 0.964399567364567, 0.19055396964527563, 0.051969264448711534, 0.10393852889742307, 0.12703597976351708, 0.42152847830621576, 0.07506671531480555, 0.034646176299141025, 0.9574936333299449, 0.9832327773909745, 0.00864977033760974, 0.06054839236326818, 0.3027419618163409, 0.14704609573936558, 0.46708759823092594, 0.9851406266220291, 0.9851402408943345, 0.9753889961373904, 0.932133504287528, 0.05592801025725168, 0.05444854208606417, 0.8276178397081755, 0.065338250503277, 0.02177941683442567, 0.02177941683442567, 0.340125523867449, 0.013605020954697958, 0.38094058673154285, 0.006802510477348979, 0.006802510477348979, 0.2516928876619122, 0.9433736486391909, 0.9531774458731969, 0.9715491077901796, 0.0215899801731151, 0.11328239628218767, 0.056641198141093835, 0.11894651609629706, 0.40215250680176623, 0.13593887553862521, 0.10195415665396891, 0.07363355758342198, 0.2899333652020412, 0.1104508057912538, 0.07938651666246367, 0.1484182702819973, 0.1484182702819973, 0.16912779636785738, 0.003451587680976681, 0.044870639852696854, 0.9796879645177713, 0.6730310352749098, 0.10807797646750376, 0.08842743529159398, 0.10807797646750376, 0.004912635293977443, 0.014737905881932332, 0.043726079740692314, 0.9182476745545386, 0.31589572943420113, 0.5081800864811061, 0.013734596931921788, 0.15108056625113966, 0.9128955946543614, 0.04564477973271808, 0.9723718259692802, 0.9403293725299666, 0.2497439542939769, 0.7180138685951836, 0.9724227061346338, 0.926825288232853, 0.5453561828260295, 0.44620051322129684, 0.34821736493645866, 0.24107356034062521, 0.40178926723437536, 0.9807915226678997, 0.18844477448884298, 0.17394902260508582, 0.6088215791178004, 0.014495751883757154, 0.4265898203756976, 0.1244220309429118, 0.05036129823879763, 0.13034688955924092, 0.17182089987354487, 0.03258672238981023, 0.011849717232658267, 0.056286156855126765, 0.9557406983704186, 0.12253060243941082, 0.07658162652463175, 0.5054387350625696, 0.1582686948175723, 0.1327414859760284, 0.005105441768308784, 0.039271532539165974, 0.011220437868333136, 0.011220437868333136, 0.0673226272099988, 0.6283445206266556, 0.24123941416916242, 0.9721235645449339, 0.9195921005355727, 0.9621237085414135, 0.9721617112261338, 0.9375611869351724, 0.870079748939028, 0.1259325952411751, 0.9755479982358191, 0.9848227188830501, 0.9759961912051479, 0.007459853580713355, 0.5762736891101067, 0.0037299267903566774, 0.3319634843417443, 0.07832846259749023, 0.0018649633951783387, 0.9861050070874487, 0.9861050070874487, 0.2291765873721332, 0.7665561715550662, 0.9300057528169463, 0.023609267893709818, 0.519403893661616, 0.27544145875994785, 0.11804633946854909, 0.047218535787419635, 0.44366201255360654, 0.038028172504594844, 0.2788732650336955, 0.20281692002450583, 0.012676057501531614, 0.025352115003063228, 0.004530133065345711, 0.6206282299523623, 0.031710931457419975, 0.20385598794055698, 0.040771197588111395, 0.009060266130691422, 0.09060266130691422, 0.7899663495232274, 0.19749158738080685, 0.9019102632647947, 0.04746896122446288, 0.9670889364319142, 0.026863581567553172, 0.9001789891003473, 0.020934395095356915, 0.06280318528607075, 0.9152860823119866, 0.1748647098060513, 0.03497294196121026, 0.5770535423599693, 0.03497294196121026, 0.1748647098060513, 0.1140428355058908, 0.855321266294181, 0.9631258420450453, 0.9619936547492345, 0.9268252256036833, 0.9027055339243514, 0.9328646608888906, 0.9468831058977224, 0.9369969360432711, 0.022688839560968625, 0.6579763472680901, 0.2722660747316235, 0.022688839560968625, 0.022688839560968625, 0.08522676816067529, 0.13636282905708047, 0.12784015224101294, 0.01704535363213506, 0.2642029812980934, 0.15340818268921552, 0.22158959721775576, 0.9602468656599211, 0.8941654192703381, 0.08515861135907982, 0.051872893092081485, 0.9337120756574667, 0.012968223273020371, 0.052187791228242034, 0.9263332943012962, 0.013046947807060508, 0.9402608731466024, 0.9619936122363767, 0.9619935081091577, 0.015903495047955886, 0.970113197925309, 0.020510517481282742, 0.9845048391015717, 0.9708531827488333, 0.2836049537671792, 0.1470544204718707, 0.03501295725520731, 0.11204146321666339, 0.35012957255207305, 0.04901814015729023, 0.028010365804165847, 0.1932587663883617, 0.1112701988296628, 0.14640815635481946, 0.09370122006708446, 0.25767835518448223, 0.1932587663883617, 0.933744785948158, 0.9851407220480412, 0.9851407379686331, 0.963282225525618, 0.6387242895877672, 0.2737389812519002, 0.018249265416793347, 0.036498530833586694, 0.018249265416793347, 0.9505879551438766, 0.35257816627206884, 0.6309293501710705, 0.7318569858758042, 0.2352397454600799, 0.10506648506280294, 0.2889328339227081, 0.36773269771981026, 0.04377770210950122, 0.008755540421900245, 0.18386634885990513, 0.008755540421900245, 0.9207299270047529, 0.9665390209064685, 0.9117986661478348, 0.7237774663030536, 0.27342704282559804, 0.9798667859010195, 0.9668122220390871, 0.013655854925184138, 0.16387025910220965, 0.24580538865331447, 0.013655854925184138, 0.13655854925184138, 0.4096756477555241, 0.9183899604550642, 0.028442313284435552, 0.9385963383863731, 0.18965897340438426, 0.00441067380010196, 0.8027426316185566, 0.08002376782005004, 0.6081806354323802, 0.2880855641521801, 0.028103474007506977, 0.9274146422477302, 0.9726733328282253, 0.9464630267647262, 0.028680697780749276, 0.7842618217075434, 0.21007013081452058, 0.9764497634942166, 0.923051252223983, 0.9590377273817166, 0.9811919792192783, 0.9706353740712359, 0.9507632362066809, 0.9851400248765942, 0.9851405720884209, 0.9851406473731016, 0.8897900127100368, 0.8469948922362248, 0.11445876922111146, 0.9808487988518795, 0.025209013101415607, 0.579807301332559, 0.16385858515920146, 0.12604506550707803, 0.10083605240566243, 0.9312202100500621, 0.9287025763940495, 0.058043911024628095, 0.08462868104541431, 0.20310883450899433, 0.050777208627248584, 0.6431779759451487, 0.09209845011557269, 0.013156921445081814, 0.5503978804525892, 0.041663584576092406, 0.002192820240846969, 0.17542561926775752, 0.11841229300573632, 0.004385640481693938, 0.08371594856771185, 0.06278696142578388, 0.5022956914062711, 0.11859759380425845, 0.020928987141927962, 0.1325502518988771, 0.08371594856771185, 0.2082694036379901, 0.0297527719482843, 0.7140665267588232, 0.22444169745126216, 0.11222084872563108, 0.08416563654422331, 0.17768301048224922, 0.3740694957521036, 0.01870347478760518, 0.1519115625994959, 0.00843953125552755, 0.1350325000884408, 0.2700650001768816, 0.39665796900979483, 0.0168790625110551, 0.00843953125552755, 0.00843953125552755, 0.9514776105340484, 0.17105699071407923, 0.8172722889672674, 0.9472181654560234, 0.977520490306496, 0.017464052793734242, 0.6810980589556355, 0.2794248446997479, 0.9661864510605116, 0.983392029823728, 0.027621519857809834, 0.9391316751655343, 0.022017410933672567, 0.0660522328010177, 0.10458270193494469, 0.22017410933672565, 0.5779570370089049, 0.005504352733418142, 0.07734805638792316, 0.5414363947154621, 0.08548995706033613, 0.11805755974998798, 0.020354751681032412, 0.15062516243963983, 0.004070950336206482, 0.051900346097990595, 0.35292235346633605, 0.07266048453718683, 0.010380069219598118, 0.5190034609799059, 0.7651888885139827, 0.2040503702703954, 0.6031217219135591, 0.19190236606340516, 0.19875602199424106, 0.9601905885803425, 0.04786923227662412, 0.9095154132558582, 0.7968681943091483, 0.16903264727769812, 0.9775404126579856, 0.9643966513186276, 0.9861050070874487, 0.9563707709373019, 0.14213899701804886, 0.16458199654721448, 0.06732899858749683, 0.17954399623332487, 0.08977199811666244, 0.12717699733193846, 0.21694899544860088, 0.9707824515300583, 0.9707836851635037, 0.07877640582807698, 0.034464677549783676, 0.004923525364254811, 0.08369993119233178, 0.182170438477428, 0.5957465690748321, 0.004923525364254811, 0.009847050728509622, 0.027974957971057788, 0.13987478985528895, 0.8112737811606759, 0.8881015790192923, 0.07104812632154338, 0.03552406316077169, 0.9860881991694203, 0.9404361271356636, 0.9175643598351371, 0.08290597267183929, 0.10551669249143182, 0.030147626426123376, 0.06029525285224675, 0.36177151711348055, 0.2713286378351104, 0.08290597267183929, 0.02353947164693217, 0.8709604509364903, 0.04707894329386434, 0.04707894329386434, 0.02353947164693217, 0.0329218340377776, 0.9547331870955503, 0.9740032342737581, 0.23117173011350015, 0.031239422988310832, 0.037487307585973, 0.15619711494155417, 0.2436674993088245, 0.12495769195324333, 0.006247884597662167, 0.1686928841368785, 0.6212662431571004, 0.23894855506042326, 0.13381119083383702, 0.95854376300568, 0.9175493268163563, 0.9575871315423593, 0.14735247047863842, 0.07367623523931921, 0.47480240487561265, 0.29470494095727684, 0.0719438926829502, 0.261614155210728, 0.1504281392461686, 0.2877755707318008, 0.1002854261641124, 0.0915649543237548, 0.0152608257206258, 0.021801179600894, 0.24875749093116578, 0.7462724727934973, 0.10153830176426921, 0.2830110113004099, 0.27652984310269063, 0.10153830176426921, 0.036726619787076094, 0.11017985936122829, 0.07993440777187151, 0.008641557596959082, 0.051008244134115095, 0.9181483944140717, 0.3297583221349498, 0.03382136637281536, 0.5918739115242688, 0.01691068318640768, 0.03382136637281536, 0.4731439272487036, 0.5125725878527623, 0.39594669375043223, 0.5860011067506397, 0.06174910046753233, 0.2675794353593068, 0.6586570716536782, 0.9635568922609985], \"Term\": [\"abebab\", \"able\", \"academia\", \"ai\", \"ai\", \"ai\", \"ai\", \"ai\", \"ai\", \"ai\", \"ai research\", \"ai social\", \"ai social good\", \"al\", \"algorithmic\", \"algorithms\", \"algorithms\", \"algorithms\", \"algorithms\", \"algorithms\", \"amazing\", \"amazing\", \"amazing\", \"amazing\", \"amazing\", \"amazing\", \"amp\", \"amp\", \"amp\", \"amp\", \"amp\", \"amp\", \"amp\", \"amp\", \"analysis\", \"analysis\", \"app\", \"application\", \"approaches\", \"approaches\", \"arrived\", \"artificial\", \"artificial intelligence\", \"attend\", \"attend\", \"attend\", \"attend\", \"attend\", \"attending\", \"attending\", \"attending\", \"attending\", \"attending\", \"authors\", \"authors\", \"award\", \"award\", \"bayesian\", \"bayesian\", \"bayesian deep\", \"bayesian deep learning\", \"bayesian principles\", \"bc\", \"bc\", \"bdl\", \"beliefs\", \"beliefs\", \"believe\", \"bengio\", \"bengio\", \"bengio\", \"best\", \"best\", \"best\", \"best\", \"best\", \"best\", \"best\", \"best paper\", \"best researchers\", \"best researchers rigorous\", \"bias\", \"big\", \"big\", \"big\", \"big\", \"big\", \"big need\", \"big need best\", \"bin\", \"bin yu\", \"biological\", \"bit\", \"blackinai\", \"blackinai\", \"blackinai\", \"blackinai\", \"blog\", \"blog\", \"blog post\", \"booth\", \"booth\", \"booth\", \"booth\", \"booth\", \"called\", \"called\", \"called dibr\", \"called dibr produces\", \"case\", \"case\", \"cc\", \"celeste\", \"celestekidd\", \"celestekidd\", \"celestekidd\", \"celestekidd\", \"center\", \"change\", \"change\", \"change\", \"chat\", \"chat\", \"chat\", \"check\", \"check\", \"check\", \"check\", \"check\", \"check\", \"check\", \"check poster\", \"choose\", \"climate\", \"climate\", \"climate change\", \"clinical\", \"clinical\", \"clinical\", \"coauthored\", \"coffee\", \"collaboration\", \"collaboration\", \"combining\", \"come\", \"come\", \"come\", \"come\", \"come check\", \"come check poster\", \"come poster\", \"come say\", \"come say hi\", \"company\", \"comparison\", \"complex\", \"conference\", \"conference\", \"conference\", \"conference\", \"conference\", \"conference\", \"conference\", \"consciousness\", \"consider\", \"content\", \"content\", \"conversation\", \"conversation\", \"cool\", \"cool\", \"cool\", \"cool\", \"cool\", \"currently\", \"data\", \"data\", \"data\", \"data\", \"data\", \"data\", \"data\", \"data science\", \"day\", \"day\", \"day\", \"day\", \"day\", \"day\", \"day\", \"dec\", \"dec\", \"dec\", \"dec east\", \"dec east exhibition\", \"decision\", \"decision making\", \"deep\", \"deep\", \"deep\", \"deep\", \"deep\", \"deep learning\", \"deep learning\", \"deep learning bayesian\", \"deep learning deep\", \"demo\", \"demo\", \"developing\", \"dibr\", \"dibr produces\", \"dibr produces objects\", \"differential\", \"directions\", \"discusses\", \"discussing\", \"diversity\", \"dm\", \"dont\", \"dont\", \"dont\", \"dont\", \"dont\", \"east\", \"east\", \"east exhibition\", \"east exhibition hall\", \"efficient\", \"efficient\", \"efforts\", \"embeddings\", \"emtiyazkhan\", \"emtiyazkhan\", \"emtiyazkhan\", \"end\", \"end\", \"endtoend\", \"energy\", \"environment\", \"et\", \"et al\", \"evaluation\", \"evening\", \"excited present\", \"exh\", \"exh hall\", \"exhibition\", \"exhibition hall\", \"exhibition hall bc\", \"experiences\", \"facebook\", \"fairness\", \"fairness\", \"fairness\", \"fairness\", \"fairness\", \"featuring\", \"federated\", \"federated learning\", \"feedback\", \"feedback\", \"feel free\", \"fomo\", \"forget\", \"form\", \"forward\", \"forward\", \"forward\", \"framework\", \"framework\", \"framework called\", \"framework called dibr\", \"free\", \"free\", \"friday\", \"friends\", \"gans\", \"generation\", \"good\", \"good\", \"good\", \"good\", \"google\", \"google\", \"google\", \"googleai\", \"googleai\", \"gradient\", \"graph representation\", \"graph representation learning\", \"graphs\", \"great\", \"great\", \"great\", \"great\", \"great\", \"great\", \"great\", \"great\", \"great tutorial\", \"great tutorial\", \"hall\", \"hall bc\", \"hall poster\", \"harassment\", \"health\", \"health\", \"health\", \"healthcare\", \"healthcare\", \"hi\", \"highlighting\", \"hiring\", \"hiring\", \"hope\", \"hope\", \"hotel\", \"huge\", \"huge\", \"humans\", \"humans\", \"ibm\", \"identify\", \"im\", \"im\", \"im\", \"im\", \"images\", \"imaging\", \"imaging\", \"imitation\", \"imitation learning\", \"impacts\", \"important\", \"important\", \"important\", \"improve\", \"improve\", \"inference\", \"inference\", \"inference\", \"insightful\", \"intelligence\", \"intelligence\", \"intelligence\", \"interested\", \"interested\", \"interested\", \"interested\", \"interested\", \"interesting\", \"interesting\", \"interesting\", \"interesting\", \"interesting\", \"interesting\", \"interesting work\", \"interpretable\", \"inverse\", \"invited\", \"invited\", \"invited talk\", \"isnt\", \"issues\", \"issues\", \"issues\", \"ive\", \"ive\", \"join\", \"join\", \"join\", \"join\", \"just\", \"just\", \"just\", \"just\", \"just\", \"keynote\", \"keynote\", \"kind\", \"know\", \"know\", \"know\", \"know\", \"know\", \"know\", \"learn\", \"learn\", \"learn\", \"learn\", \"learn\", \"learn\", \"learn\", \"learning\", \"learning\", \"learning\", \"learning\", \"learning\", \"learning\", \"learning\", \"learning bayesian\", \"learning bayesian principles\", \"learning deep\", \"learning deep learning\", \"learning workshop\", \"learning workshop\", \"learning workshop\", \"let know\", \"let know\", \"like\", \"like\", \"like\", \"like\", \"like\", \"like\", \"limits\", \"line\", \"live\", \"live\", \"live\", \"live\", \"local\", \"local\", \"looking\", \"looking\", \"looking\", \"looking\", \"looking forward\", \"looking forward\", \"lot\", \"lot\", \"lot\", \"lottery\", \"love\", \"love\", \"love\", \"love\", \"lunch\", \"lunch\", \"lxai\", \"lxai\", \"machine\", \"machine\", \"machine\", \"machine\", \"machine\", \"machine\", \"machine learning\", \"machine learning\", \"machine learning\", \"machine learning\", \"main conference\", \"make\", \"make\", \"make\", \"make\", \"make\", \"make\", \"make\", \"making\", \"making\", \"making\", \"mathrachel\", \"meet\", \"meet\", \"meet\", \"meet\", \"meet\", \"meet\", \"meetup\", \"meetups\", \"members\", \"men\", \"message\", \"message\", \"message\", \"miss\", \"ml\", \"ml\", \"ml\", \"ml\", \"ml\", \"ml\", \"ml\", \"model\", \"model\", \"model\", \"model\", \"model\", \"modelling\", \"models\", \"models\", \"models\", \"models\", \"models\", \"models\", \"models\", \"multimodal\", \"natural\", \"need\", \"need\", \"need\", \"need\", \"need\", \"need best\", \"need best researchers\", \"nets\", \"network\", \"network\", \"networks\", \"networks\", \"networks\", \"networks\", \"networks\", \"neural\", \"neural\", \"neural\", \"neural\", \"neural\", \"neural\", \"neural nets\", \"neural network\", \"neural networks\", \"neural networks\", \"neurips\", \"neurips\", \"neurips\", \"neurips\", \"neurips\", \"neurips\", \"neurips\", \"neuripsconf\", \"neuripsconf\", \"neuripsconf\", \"neuripsconf\", \"neuripsconf\", \"neuripsconf\", \"neuripsconf\", \"neuripsconf\", \"neutral\", \"new\", \"new\", \"new\", \"new\", \"new\", \"new\", \"news\", \"news\", \"nice\", \"nice\", \"nice\", \"nice\", \"notes\", \"notes\", \"nvidia\", \"nvidia researchers\", \"object\", \"object\", \"objects\", \"objects images\", \"online\", \"online\", \"opening\", \"opening\", \"opening\", \"outstanding\", \"panel\", \"panel\", \"panel\", \"panel\", \"paper\", \"paper\", \"paper\", \"paper\", \"paper\", \"paper\", \"paper\", \"paper\", \"paper award\", \"papers\", \"papers\", \"papers\", \"papers\", \"papers\", \"papers\", \"people\", \"people\", \"people\", \"people\", \"people\", \"people\", \"photo\", \"physical sciences\", \"platform\", \"play\", \"pleasure\", \"pm\", \"pm\", \"pm east\", \"pm east exhibition\", \"point\", \"poster\", \"poster\", \"poster\", \"poster\", \"poster\", \"poster\", \"poster dec\", \"poster dec east\", \"poster session\", \"poster session\", \"poster today\", \"present\", \"present\", \"present\", \"present\", \"present\", \"presented\", \"presented\", \"presented\", \"presented\", \"presented\", \"presented\", \"presenting\", \"presenting\", \"presenting\", \"presenting\", \"presenting\", \"presenting\", \"presenting\", \"presenting work\", \"presenting work\", \"presents\", \"presents\", \"principles\", \"principles\", \"privacy\", \"privacy\", \"privacy\", \"probably\", \"problems\", \"problems\", \"problems\", \"problems\", \"problems\", \"processing\", \"processing\", \"produce\", \"produces\", \"produces objects\", \"putting\", \"quantization\", \"quickly\", \"ready\", \"real\", \"real\", \"real\", \"real\", \"real\", \"really\", \"really\", \"really\", \"really\", \"really\", \"really\", \"really\", \"reception\", \"recognition\", \"recognition\", \"reinforcement\", \"reinforcement\", \"reinforcement\", \"reinforcement learning\", \"reinforcement learning\", \"reinforcement learning\", \"rendering\", \"rendering framework\", \"rendering framework called\", \"representation\", \"representation\", \"representation learning\", \"representation learning\", \"reproducibility\", \"research\", \"research\", \"research\", \"research\", \"research\", \"research\", \"research\", \"researchers\", \"researchers\", \"researchers\", \"researchers\", \"researchers\", \"researchers\", \"researchers present\", \"researchers rigorous\", \"researchers rigorous clinical\", \"rest\", \"results\", \"results\", \"results\", \"results\", \"results\", \"retrospectives workshop\", \"right\", \"right\", \"rigorous\", \"rigorous\", \"rl\", \"rl\", \"rl\", \"rl\", \"rl\", \"rl\", \"rl\", \"robot\", \"robust\", \"savage\", \"say\", \"say\", \"say hi\", \"says\", \"science\", \"science\", \"science\", \"science\", \"science\", \"science\", \"sciences\", \"search\", \"search\", \"session\", \"session\", \"session\", \"sessions\", \"sessions\", \"sessions\", \"set\", \"set\", \"sexual\", \"sharing\", \"sharing\", \"slides\", \"slides\", \"solve\", \"sota\", \"source\", \"sponsors\", \"spotlight\", \"stage\", \"stakes\", \"stakes big\", \"stakes big need\", \"standard\", \"started\", \"started\", \"stay\", \"stop\", \"stop\", \"stop\", \"stop\", \"stop\", \"stream\", \"summary\", \"summary\", \"systems\", \"systems\", \"systems\", \"systems\", \"talk\", \"talk\", \"talk\", \"talk\", \"talk\", \"talk\", \"talk\", \"talk\", \"talks\", \"talks\", \"talks\", \"talks\", \"talks\", \"talks\", \"talks\", \"techniques\", \"techniques\", \"techniques\", \"thank\", \"thank\", \"thank\", \"thank\", \"thank\", \"thank\", \"thanks\", \"thanks\", \"thanks\", \"thanks\", \"thanks\", \"thanks\", \"thanks\", \"thanks\", \"theres\", \"thing\", \"thing\", \"thing neutral\", \"things\", \"think\", \"think\", \"think\", \"thinking\", \"thread\", \"thursday\", \"thursday\", \"time\", \"time\", \"time\", \"time\", \"time\", \"time\", \"today\", \"today\", \"today\", \"today\", \"today\", \"today\", \"today\", \"tomorrow\", \"tomorrow\", \"tomorrow\", \"tomorrow\", \"tomorrow\", \"tonight\", \"tonight\", \"tutorial\", \"tutorial\", \"tutorial\", \"tweets\", \"twitter\", \"twitter\", \"understanding\", \"understanding\", \"upcoming\", \"upcoming poster\", \"upcoming poster dec\", \"useful\", \"using\", \"using\", \"using\", \"using\", \"using\", \"using\", \"using\", \"using machine\", \"using machine learning\", \"vancouver\", \"vancouver\", \"vancouver\", \"vancouver\", \"vancouver\", \"vancouver\", \"vancouver\", \"vancouver\", \"videos\", \"videos\", \"videos\", \"view\", \"view\", \"view\", \"visit\", \"visit poster\", \"wait\", \"want\", \"want\", \"want\", \"want\", \"want\", \"want\", \"want\", \"watch\", \"watch\", \"watch\", \"watch\", \"watch\", \"wed\", \"wed\", \"wednesday\", \"week\", \"week\", \"week\", \"week\", \"week\", \"week\", \"week\", \"week\", \"west\", \"west\", \"west\", \"west ballroom\", \"west exhibition\", \"whova\", \"wimlworkshop\", \"wimlworkshop\", \"wimlworkshop\", \"wimlworkshop\", \"work\", \"work\", \"work\", \"work\", \"work\", \"work\", \"work\", \"work\", \"working\", \"working\", \"workshop\", \"workshop\", \"workshop\", \"workshop\", \"workshop\", \"workshop\", \"workshop\", \"workshop\", \"wow\", \"wow\", \"year\", \"year\", \"year\", \"year\", \"year\", \"yoshua\", \"yoshua\", \"yoshua bengio\", \"yoshua bengio\", \"youre\", \"youre\", \"youre\", \"yu\"]}, \"R\": 30, \"lambda.step\": 0.01, \"plot.opts\": {\"xlab\": \"PC1\", \"ylab\": \"PC2\"}, \"topic.order\": [3, 2, 6, 1, 4, 5, 8, 7]};\n",
       "\n",
       "function LDAvis_load_lib(url, callback){\n",
       "  var s = document.createElement('script');\n",
       "  s.src = url;\n",
       "  s.async = true;\n",
       "  s.onreadystatechange = s.onload = callback;\n",
       "  s.onerror = function(){console.warn(\"failed to load library \" + url);};\n",
       "  document.getElementsByTagName(\"head\")[0].appendChild(s);\n",
       "}\n",
       "\n",
       "if(typeof(LDAvis) !== \"undefined\"){\n",
       "   // already loaded: just create the visualization\n",
       "   !function(LDAvis){\n",
       "       new LDAvis(\"#\" + \"ldavis_el484091404909734423369978967510\", ldavis_el484091404909734423369978967510_data);\n",
       "   }(LDAvis);\n",
       "}else if(typeof define === \"function\" && define.amd){\n",
       "   // require.js is available: use it to load d3/LDAvis\n",
       "   require.config({paths: {d3: \"https://cdnjs.cloudflare.com/ajax/libs/d3/3.5.5/d3.min\"}});\n",
       "   require([\"d3\"], function(d3){\n",
       "      window.d3 = d3;\n",
       "      LDAvis_load_lib(\"https://cdn.rawgit.com/bmabey/pyLDAvis/files/ldavis.v1.0.0.js\", function(){\n",
       "        new LDAvis(\"#\" + \"ldavis_el484091404909734423369978967510\", ldavis_el484091404909734423369978967510_data);\n",
       "      });\n",
       "    });\n",
       "}else{\n",
       "    // require.js not available: dynamically load d3 & LDAvis\n",
       "    LDAvis_load_lib(\"https://cdnjs.cloudflare.com/ajax/libs/d3/3.5.5/d3.min.js\", function(){\n",
       "         LDAvis_load_lib(\"https://cdn.rawgit.com/bmabey/pyLDAvis/files/ldavis.v1.0.0.js\", function(){\n",
       "                 new LDAvis(\"#\" + \"ldavis_el484091404909734423369978967510\", ldavis_el484091404909734423369978967510_data);\n",
       "            })\n",
       "         });\n",
       "}\n",
       "</script>"
      ],
      "text/plain": [
       "<IPython.core.display.HTML object>"
      ]
     },
     "execution_count": 71,
     "metadata": {},
     "output_type": "execute_result"
    }
   ],
   "source": [
    "pyLDAvis.display(vis_data)"
   ]
  },
  {
   "cell_type": "code",
   "execution_count": 72,
   "metadata": {
    "execution": {
     "iopub.execute_input": "2020-11-16T05:35:27.749293Z",
     "iopub.status.busy": "2020-11-16T05:35:27.748957Z",
     "iopub.status.idle": "2020-11-16T05:35:27.757557Z",
     "shell.execute_reply": "2020-11-16T05:35:27.756570Z",
     "shell.execute_reply.started": "2020-11-16T05:35:27.749265Z"
    }
   },
   "outputs": [
    {
     "name": "stderr",
     "output_type": "stream",
     "text": [
      "/opt/anaconda3/envs/metis/lib/python3.8/site-packages/ipykernel/ipkernel.py:287: DeprecationWarning: `should_run_async` will not call `transform_cell` automatically in the future. Please pass the result to `transformed_cell` argument and any exception that happen during thetransform in `preprocessing_exc_tuple` in IPython 7.17 and above.\n",
      "  and should_run_async(code)\n"
     ]
    }
   ],
   "source": [
    "pyLDAvis.save_html(vis_data, \"pldavis2.html\")"
   ]
  },
  {
   "cell_type": "code",
   "execution_count": 58,
   "metadata": {
    "execution": {
     "iopub.execute_input": "2020-11-15T23:53:49.419373Z",
     "iopub.status.busy": "2020-11-15T23:53:49.418720Z",
     "iopub.status.idle": "2020-11-15T23:53:49.427417Z",
     "shell.execute_reply": "2020-11-15T23:53:49.426026Z",
     "shell.execute_reply.started": "2020-11-15T23:53:49.419313Z"
    }
   },
   "outputs": [
    {
     "name": "stderr",
     "output_type": "stream",
     "text": [
      "/opt/anaconda3/envs/metis/lib/python3.8/site-packages/ipykernel/ipkernel.py:287: DeprecationWarning: `should_run_async` will not call `transform_cell` automatically in the future. Please pass the result to `transformed_cell` argument and any exception that happen during thetransform in `preprocessing_exc_tuple` in IPython 7.17 and above.\n",
      "  and should_run_async(code)\n"
     ]
    }
   ],
   "source": [
    "def lda_dt(doc_word, feature_names, id2word, dictionary, num_topics):\n",
    "    corpus = matutils.Sparse2Corpus(doc_word.transpose())\n",
    "    model = models.LdaModel(corpus=corpus, num_topics=num_topics, id2word=id2word, passes=5, random_state=42)\n",
    "    topics = model.print_topics()\n",
    "    for n, topic in topics:\n",
    "        print(\"\\nTopic \", n)\n",
    "        print(topic)\n",
    "\n",
    "    return model, corpus"
   ]
  },
  {
   "cell_type": "code",
   "execution_count": 59,
   "metadata": {
    "execution": {
     "iopub.execute_input": "2020-11-15T23:53:50.570231Z",
     "iopub.status.busy": "2020-11-15T23:53:50.569881Z",
     "iopub.status.idle": "2020-11-15T23:53:57.503974Z",
     "shell.execute_reply": "2020-11-15T23:53:57.503153Z",
     "shell.execute_reply.started": "2020-11-15T23:53:50.570201Z"
    }
   },
   "outputs": [
    {
     "name": "stderr",
     "output_type": "stream",
     "text": [
      "/opt/anaconda3/envs/metis/lib/python3.8/site-packages/ipykernel/ipkernel.py:287: DeprecationWarning: `should_run_async` will not call `transform_cell` automatically in the future. Please pass the result to `transformed_cell` argument and any exception that happen during thetransform in `preprocessing_exc_tuple` in IPython 7.17 and above.\n",
      "  and should_run_async(code)\n"
     ]
    },
    {
     "name": "stdout",
     "output_type": "stream",
     "text": [
      "\n",
      "Topic  0\n",
      "0.024*\"session\" + 0.021*\"bengio\" + 0.019*\"neurips\" + 0.018*\"poster\" + 0.017*\"research\" + 0.017*\"papers\" + 0.015*\"yoshua\" + 0.015*\"yoshua bengio\" + 0.014*\"great\" + 0.012*\"neural\"\n",
      "\n",
      "Topic  1\n",
      "0.078*\"poster\" + 0.034*\"come\" + 0.033*\"hall\" + 0.031*\"east\" + 0.024*\"today\" + 0.023*\"presenting\" + 0.021*\"exhibition\" + 0.021*\"exhibition hall\" + 0.018*\"east exhibition\" + 0.018*\"east exhibition hall\"\n",
      "\n",
      "Topic  2\n",
      "0.045*\"learning\" + 0.033*\"machine\" + 0.031*\"machine learning\" + 0.028*\"workshop\" + 0.022*\"ai\" + 0.022*\"amp\" + 0.011*\"booth\" + 0.009*\"upcoming\" + 0.009*\"climate\" + 0.008*\"computational\"\n",
      "\n",
      "Topic  3\n",
      "0.026*\"papers\" + 0.022*\"just\" + 0.014*\"things\" + 0.013*\"pm east\" + 0.013*\"help\" + 0.013*\"research\" + 0.012*\"people\" + 0.012*\"bias\" + 0.012*\"language\" + 0.011*\"love\"\n",
      "\n",
      "Topic  4\n",
      "0.041*\"celestekidd\" + 0.026*\"talk\" + 0.021*\"know\" + 0.019*\"neuripsconf\" + 0.015*\"people\" + 0.013*\"humans\" + 0.013*\"thank\" + 0.013*\"beliefs\" + 0.011*\"form\" + 0.011*\"vancouver\"\n",
      "\n",
      "Topic  5\n",
      "0.075*\"learning\" + 0.039*\"deep\" + 0.036*\"talk\" + 0.031*\"deep learning\" + 0.022*\"workshop\" + 0.019*\"bayesian\" + 0.016*\"great\" + 0.015*\"bc\" + 0.014*\"reinforcement\" + 0.014*\"reinforcement learning\"\n",
      "\n",
      "Topic  6\n",
      "0.032*\"paper\" + 0.021*\"data\" + 0.021*\"learning\" + 0.016*\"models\" + 0.016*\"using\" + 0.015*\"learn\" + 0.014*\"opening\" + 0.013*\"researchers\" + 0.013*\"week\" + 0.013*\"new\"\n",
      "\n",
      "Topic  7\n",
      "0.028*\"tutorial\" + 0.025*\"representation\" + 0.025*\"learning\" + 0.019*\"representation learning\" + 0.019*\"best\" + 0.018*\"health\" + 0.017*\"big\" + 0.017*\"researchers\" + 0.016*\"friday\" + 0.016*\"need\"\n",
      "\n",
      "Topic  8\n",
      "0.036*\"vancouver\" + 0.030*\"conference\" + 0.024*\"ai\" + 0.019*\"good\" + 0.018*\"social\" + 0.018*\"day\" + 0.017*\"great\" + 0.013*\"data\" + 0.013*\"nice\" + 0.013*\"science\"\n",
      "\n",
      "Topic  9\n",
      "0.036*\"work\" + 0.027*\"ml\" + 0.018*\"workshop\" + 0.017*\"looking\" + 0.017*\"amp\" + 0.016*\"lxai\" + 0.016*\"ai\" + 0.016*\"im\" + 0.012*\"new\" + 0.011*\"forward\"\n"
     ]
    }
   ],
   "source": [
    "lda_model, corpus = lda_dt(doc_word, feature_names, id2word, dictionary, 10)"
   ]
  },
  {
   "cell_type": "code",
   "execution_count": 60,
   "metadata": {
    "execution": {
     "iopub.execute_input": "2020-11-15T23:53:59.763417Z",
     "iopub.status.busy": "2020-11-15T23:53:59.762955Z",
     "iopub.status.idle": "2020-11-15T23:53:59.780116Z",
     "shell.execute_reply": "2020-11-15T23:53:59.778994Z",
     "shell.execute_reply.started": "2020-11-15T23:53:59.763375Z"
    }
   },
   "outputs": [
    {
     "name": "stdout",
     "output_type": "stream",
     "text": [
      "0: session bengio neurips poster research papers yoshua yoshua bengio great neural google latest sessions booth graphs want poster session deep nets msftresearch work excited rl coauthored network week neuripsconf apple analysis poster sessions\n",
      "1: poster come hall east today presenting exhibition exhibition hall east exhibition hall east exhibition session work pm poster session dec networks check hall bc workshop paper neural hi neuripsconf wimlworkshop morning present say neural networks research learn\n",
      "2: learning machine machine learning workshop ai amp booth upcoming climate computational want miss competition thursday change challenge neuripsconf panel talks stop happy ml talk team today experience imitation climate change west join\n",
      "3: papers just things pm east help research people bias language love time making seeing conference like message mean hiring look lab healthcare demo says able natural ibm world main year read\n",
      "4: celestekidd talk know neuripsconf people humans thank beliefs form vancouver online thing sexual just like right human powerful feedback talk celestekidd interpretable lunch harassment time doing meetup chat feel community free\n",
      "5: learning deep talk deep learning workshop bayesian great bc reinforcement reinforcement learning slides talks present live joint work tutorial keynote west spotlight amp video invited giving learning workshop watch day great talk models online\n",
      "6: paper data learning models using learn opening researchers week new amp training check framework dibr called machine keynote award machine learning neuripsconf search produce images presented blog best reach objects nvidia\n",
      "7: tutorial representation learning representation learning best health big researchers friday need fairness ml clinical rigorous best researchers trials great tutorial researchers rigorous clinical need best clinical trials big need stakes big need rigorous clinical stakes big best researchers rigorous researchers rigorous big need best stakes rigorous clinical trials need best researchers\n",
      "8: vancouver conference ai good social day great data nice science event let thanks paper amazing time week wimlworkshop know twitter party going talk work amp like excellent canada ml meet\n",
      "9: work ml workshop looking amp lxai ai im new forward blackinai fairness looking forward research presenting great really talk use chat interesting model talking emtiyazkhan topic models today lot ethics abebab\n"
     ]
    },
    {
     "name": "stderr",
     "output_type": "stream",
     "text": [
      "/opt/anaconda3/envs/metis/lib/python3.8/site-packages/ipykernel/ipkernel.py:287: DeprecationWarning: `should_run_async` will not call `transform_cell` automatically in the future. Please pass the result to `transformed_cell` argument and any exception that happen during thetransform in `preprocessing_exc_tuple` in IPython 7.17 and above.\n",
      "  and should_run_async(code)\n"
     ]
    }
   ],
   "source": [
    "all_topic_words = []\n",
    "for topic_id in range(lda_model.num_topics):\n",
    "    topk = lda_model.show_topic(topic_id, 30)\n",
    "    topk_words = [ w for w, _ in topk ]\n",
    "    all_topic_words.append(topk_words)\n",
    "    \n",
    "    print('{}: {}'.format(topic_id, ' '.join(topk_words)))"
   ]
  },
  {
   "cell_type": "code",
   "execution_count": 64,
   "metadata": {
    "execution": {
     "iopub.execute_input": "2020-11-15T23:57:31.736108Z",
     "iopub.status.busy": "2020-11-15T23:57:31.735760Z",
     "iopub.status.idle": "2020-11-15T23:57:32.890446Z",
     "shell.execute_reply": "2020-11-15T23:57:32.889833Z",
     "shell.execute_reply.started": "2020-11-15T23:57:31.736079Z"
    }
   },
   "outputs": [
    {
     "name": "stderr",
     "output_type": "stream",
     "text": [
      "/opt/anaconda3/envs/metis/lib/python3.8/site-packages/ipykernel/ipkernel.py:287: DeprecationWarning: `should_run_async` will not call `transform_cell` automatically in the future. Please pass the result to `transformed_cell` argument and any exception that happen during thetransform in `preprocessing_exc_tuple` in IPython 7.17 and above.\n",
      "  and should_run_async(code)\n"
     ]
    }
   ],
   "source": [
    "lda_corpus = lda_model[corpus]\n",
    "lda_corpus\n",
    "lda_docs = [doc for doc in lda_corpus]"
   ]
  },
  {
   "cell_type": "code",
   "execution_count": 65,
   "metadata": {
    "execution": {
     "iopub.execute_input": "2020-11-15T23:57:32.892542Z",
     "iopub.status.busy": "2020-11-15T23:57:32.892196Z",
     "iopub.status.idle": "2020-11-15T23:57:32.898404Z",
     "shell.execute_reply": "2020-11-15T23:57:32.896909Z",
     "shell.execute_reply.started": "2020-11-15T23:57:32.892505Z"
    }
   },
   "outputs": [
    {
     "name": "stderr",
     "output_type": "stream",
     "text": [
      "/opt/anaconda3/envs/metis/lib/python3.8/site-packages/ipykernel/ipkernel.py:287: DeprecationWarning: `should_run_async` will not call `transform_cell` automatically in the future. Please pass the result to `transformed_cell` argument and any exception that happen during thetransform in `preprocessing_exc_tuple` in IPython 7.17 and above.\n",
      "  and should_run_async(code)\n"
     ]
    }
   ],
   "source": [
    "def topic_weights_to_matrix(topic_weights, doc_ids=None, topic_ids=None):\n",
    "    topic_dicts = [dict(doc) for doc in topic_weights]\n",
    "    doc_to_top_mat = pd.DataFrame(topic_dicts).fillna(0)\n",
    "    if doc_ids:\n",
    "        doc_to_top_mat.rename(index=lambda ind: doc_ids[ind], inplace=True)\n",
    "    if topic_ids:\n",
    "        doc_to_top_mat.rename(columns=lambda ind: topic_ids[ind], inplace=True)\n",
    "    return doc_to_top_mat"
   ]
  },
  {
   "cell_type": "code",
   "execution_count": 66,
   "metadata": {
    "execution": {
     "iopub.execute_input": "2020-11-15T23:57:33.517688Z",
     "iopub.status.busy": "2020-11-15T23:57:33.517343Z",
     "iopub.status.idle": "2020-11-15T23:57:33.568437Z",
     "shell.execute_reply": "2020-11-15T23:57:33.567410Z",
     "shell.execute_reply.started": "2020-11-15T23:57:33.517658Z"
    }
   },
   "outputs": [
    {
     "name": "stderr",
     "output_type": "stream",
     "text": [
      "/opt/anaconda3/envs/metis/lib/python3.8/site-packages/ipykernel/ipkernel.py:287: DeprecationWarning: `should_run_async` will not call `transform_cell` automatically in the future. Please pass the result to `transformed_cell` argument and any exception that happen during thetransform in `preprocessing_exc_tuple` in IPython 7.17 and above.\n",
      "  and should_run_async(code)\n"
     ]
    },
    {
     "data": {
      "text/html": [
       "<div>\n",
       "<style scoped>\n",
       "    .dataframe tbody tr th:only-of-type {\n",
       "        vertical-align: middle;\n",
       "    }\n",
       "\n",
       "    .dataframe tbody tr th {\n",
       "        vertical-align: top;\n",
       "    }\n",
       "\n",
       "    .dataframe thead th {\n",
       "        text-align: right;\n",
       "    }\n",
       "</style>\n",
       "<table border=\"1\" class=\"dataframe\">\n",
       "  <thead>\n",
       "    <tr style=\"text-align: right;\">\n",
       "      <th></th>\n",
       "      <th>0</th>\n",
       "      <th>1</th>\n",
       "      <th>2</th>\n",
       "      <th>3</th>\n",
       "      <th>4</th>\n",
       "      <th>5</th>\n",
       "      <th>6</th>\n",
       "      <th>7</th>\n",
       "      <th>8</th>\n",
       "      <th>9</th>\n",
       "    </tr>\n",
       "  </thead>\n",
       "  <tbody>\n",
       "    <tr>\n",
       "      <th>0</th>\n",
       "      <td>0.774971</td>\n",
       "      <td>0.025002</td>\n",
       "      <td>0.025006</td>\n",
       "      <td>0.025001</td>\n",
       "      <td>0.025002</td>\n",
       "      <td>0.025004</td>\n",
       "      <td>0.025001</td>\n",
       "      <td>0.025005</td>\n",
       "      <td>0.025003</td>\n",
       "      <td>0.025004</td>\n",
       "    </tr>\n",
       "    <tr>\n",
       "      <th>1</th>\n",
       "      <td>0.774985</td>\n",
       "      <td>0.025001</td>\n",
       "      <td>0.025001</td>\n",
       "      <td>0.025006</td>\n",
       "      <td>0.025001</td>\n",
       "      <td>0.025002</td>\n",
       "      <td>0.025001</td>\n",
       "      <td>0.025001</td>\n",
       "      <td>0.025001</td>\n",
       "      <td>0.025001</td>\n",
       "    </tr>\n",
       "    <tr>\n",
       "      <th>2</th>\n",
       "      <td>0.000000</td>\n",
       "      <td>0.000000</td>\n",
       "      <td>0.324852</td>\n",
       "      <td>0.000000</td>\n",
       "      <td>0.000000</td>\n",
       "      <td>0.000000</td>\n",
       "      <td>0.000000</td>\n",
       "      <td>0.227959</td>\n",
       "      <td>0.400507</td>\n",
       "      <td>0.000000</td>\n",
       "    </tr>\n",
       "    <tr>\n",
       "      <th>3</th>\n",
       "      <td>0.010004</td>\n",
       "      <td>0.574421</td>\n",
       "      <td>0.010001</td>\n",
       "      <td>0.010001</td>\n",
       "      <td>0.010001</td>\n",
       "      <td>0.345564</td>\n",
       "      <td>0.010003</td>\n",
       "      <td>0.010002</td>\n",
       "      <td>0.010001</td>\n",
       "      <td>0.010001</td>\n",
       "    </tr>\n",
       "    <tr>\n",
       "      <th>4</th>\n",
       "      <td>0.016674</td>\n",
       "      <td>0.176679</td>\n",
       "      <td>0.235965</td>\n",
       "      <td>0.178296</td>\n",
       "      <td>0.016673</td>\n",
       "      <td>0.016671</td>\n",
       "      <td>0.309034</td>\n",
       "      <td>0.016668</td>\n",
       "      <td>0.016671</td>\n",
       "      <td>0.016670</td>\n",
       "    </tr>\n",
       "    <tr>\n",
       "      <th>...</th>\n",
       "      <td>...</td>\n",
       "      <td>...</td>\n",
       "      <td>...</td>\n",
       "      <td>...</td>\n",
       "      <td>...</td>\n",
       "      <td>...</td>\n",
       "      <td>...</td>\n",
       "      <td>...</td>\n",
       "      <td>...</td>\n",
       "      <td>...</td>\n",
       "    </tr>\n",
       "    <tr>\n",
       "      <th>4713</th>\n",
       "      <td>0.000000</td>\n",
       "      <td>0.000000</td>\n",
       "      <td>0.000000</td>\n",
       "      <td>0.178942</td>\n",
       "      <td>0.000000</td>\n",
       "      <td>0.000000</td>\n",
       "      <td>0.661041</td>\n",
       "      <td>0.000000</td>\n",
       "      <td>0.000000</td>\n",
       "      <td>0.106159</td>\n",
       "    </tr>\n",
       "    <tr>\n",
       "      <th>4714</th>\n",
       "      <td>0.010002</td>\n",
       "      <td>0.010001</td>\n",
       "      <td>0.517696</td>\n",
       "      <td>0.200365</td>\n",
       "      <td>0.010001</td>\n",
       "      <td>0.010003</td>\n",
       "      <td>0.010001</td>\n",
       "      <td>0.211929</td>\n",
       "      <td>0.010001</td>\n",
       "      <td>0.010001</td>\n",
       "    </tr>\n",
       "    <tr>\n",
       "      <th>4715</th>\n",
       "      <td>0.025002</td>\n",
       "      <td>0.025002</td>\n",
       "      <td>0.025005</td>\n",
       "      <td>0.025001</td>\n",
       "      <td>0.025001</td>\n",
       "      <td>0.025003</td>\n",
       "      <td>0.025001</td>\n",
       "      <td>0.774978</td>\n",
       "      <td>0.025006</td>\n",
       "      <td>0.025002</td>\n",
       "    </tr>\n",
       "    <tr>\n",
       "      <th>4716</th>\n",
       "      <td>0.073398</td>\n",
       "      <td>0.127272</td>\n",
       "      <td>0.094635</td>\n",
       "      <td>0.000000</td>\n",
       "      <td>0.000000</td>\n",
       "      <td>0.000000</td>\n",
       "      <td>0.667181</td>\n",
       "      <td>0.000000</td>\n",
       "      <td>0.000000</td>\n",
       "      <td>0.000000</td>\n",
       "    </tr>\n",
       "    <tr>\n",
       "      <th>4717</th>\n",
       "      <td>0.000000</td>\n",
       "      <td>0.000000</td>\n",
       "      <td>0.000000</td>\n",
       "      <td>0.273881</td>\n",
       "      <td>0.000000</td>\n",
       "      <td>0.000000</td>\n",
       "      <td>0.000000</td>\n",
       "      <td>0.000000</td>\n",
       "      <td>0.158969</td>\n",
       "      <td>0.517143</td>\n",
       "    </tr>\n",
       "  </tbody>\n",
       "</table>\n",
       "<p>4718 rows × 10 columns</p>\n",
       "</div>"
      ],
      "text/plain": [
       "             0         1         2         3         4         5         6  \\\n",
       "0     0.774971  0.025002  0.025006  0.025001  0.025002  0.025004  0.025001   \n",
       "1     0.774985  0.025001  0.025001  0.025006  0.025001  0.025002  0.025001   \n",
       "2     0.000000  0.000000  0.324852  0.000000  0.000000  0.000000  0.000000   \n",
       "3     0.010004  0.574421  0.010001  0.010001  0.010001  0.345564  0.010003   \n",
       "4     0.016674  0.176679  0.235965  0.178296  0.016673  0.016671  0.309034   \n",
       "...        ...       ...       ...       ...       ...       ...       ...   \n",
       "4713  0.000000  0.000000  0.000000  0.178942  0.000000  0.000000  0.661041   \n",
       "4714  0.010002  0.010001  0.517696  0.200365  0.010001  0.010003  0.010001   \n",
       "4715  0.025002  0.025002  0.025005  0.025001  0.025001  0.025003  0.025001   \n",
       "4716  0.073398  0.127272  0.094635  0.000000  0.000000  0.000000  0.667181   \n",
       "4717  0.000000  0.000000  0.000000  0.273881  0.000000  0.000000  0.000000   \n",
       "\n",
       "             7         8         9  \n",
       "0     0.025005  0.025003  0.025004  \n",
       "1     0.025001  0.025001  0.025001  \n",
       "2     0.227959  0.400507  0.000000  \n",
       "3     0.010002  0.010001  0.010001  \n",
       "4     0.016668  0.016671  0.016670  \n",
       "...        ...       ...       ...  \n",
       "4713  0.000000  0.000000  0.106159  \n",
       "4714  0.211929  0.010001  0.010001  \n",
       "4715  0.774978  0.025006  0.025002  \n",
       "4716  0.000000  0.000000  0.000000  \n",
       "4717  0.000000  0.158969  0.517143  \n",
       "\n",
       "[4718 rows x 10 columns]"
      ]
     },
     "execution_count": 66,
     "metadata": {},
     "output_type": "execute_result"
    }
   ],
   "source": [
    "doc_topic_matrix = topic_weights_to_matrix(lda_docs)\n",
    "doc_topic_matrix"
   ]
  },
  {
   "cell_type": "code",
   "execution_count": 69,
   "metadata": {
    "execution": {
     "iopub.execute_input": "2020-11-16T00:00:36.098955Z",
     "iopub.status.busy": "2020-11-16T00:00:36.098621Z",
     "iopub.status.idle": "2020-11-16T00:00:36.104440Z",
     "shell.execute_reply": "2020-11-16T00:00:36.103649Z",
     "shell.execute_reply.started": "2020-11-16T00:00:36.098930Z"
    }
   },
   "outputs": [
    {
     "name": "stderr",
     "output_type": "stream",
     "text": [
      "/opt/anaconda3/envs/metis/lib/python3.8/site-packages/ipykernel/ipkernel.py:287: DeprecationWarning: `should_run_async` will not call `transform_cell` automatically in the future. Please pass the result to `transformed_cell` argument and any exception that happen during thetransform in `preprocessing_exc_tuple` in IPython 7.17 and above.\n",
      "  and should_run_async(code)\n"
     ]
    }
   ],
   "source": [
    "doc_topic_matrix.to_pickle(\"./dtm_2019\")"
   ]
  },
  {
   "cell_type": "code",
   "execution_count": 67,
   "metadata": {
    "execution": {
     "iopub.execute_input": "2020-11-15T23:58:08.988921Z",
     "iopub.status.busy": "2020-11-15T23:58:08.988497Z",
     "iopub.status.idle": "2020-11-15T23:58:08.996347Z",
     "shell.execute_reply": "2020-11-15T23:58:08.995112Z",
     "shell.execute_reply.started": "2020-11-15T23:58:08.988882Z"
    }
   },
   "outputs": [
    {
     "name": "stderr",
     "output_type": "stream",
     "text": [
      "/opt/anaconda3/envs/metis/lib/python3.8/site-packages/ipykernel/ipkernel.py:287: DeprecationWarning: `should_run_async` will not call `transform_cell` automatically in the future. Please pass the result to `transformed_cell` argument and any exception that happen during thetransform in `preprocessing_exc_tuple` in IPython 7.17 and above.\n",
      "  and should_run_async(code)\n"
     ]
    },
    {
     "data": {
      "text/plain": [
       "array([[0.77497101, 0.02500193, 0.02500628, ..., 0.02500511, 0.0250029 ,\n",
       "        0.02500433],\n",
       "       [0.77498472, 0.02500105, 0.02500118, ..., 0.02500105, 0.02500129,\n",
       "        0.02500105],\n",
       "       [0.        , 0.        , 0.3248522 , ..., 0.2279595 , 0.400507  ,\n",
       "        0.        ],\n",
       "       ...,\n",
       "       [0.02500238, 0.02500158, 0.02500535, ..., 0.77497768, 0.02500601,\n",
       "        0.02500162],\n",
       "       [0.07339827, 0.12727159, 0.09463549, ..., 0.        , 0.        ,\n",
       "        0.        ],\n",
       "       [0.        , 0.        , 0.        , ..., 0.        , 0.15896943,\n",
       "        0.51714253]])"
      ]
     },
     "execution_count": 67,
     "metadata": {},
     "output_type": "execute_result"
    }
   ],
   "source": [
    "doc_topic = doc_topic_matrix.values\n",
    "doc_topic"
   ]
  },
  {
   "cell_type": "code",
   "execution_count": null,
   "metadata": {},
   "outputs": [],
   "source": []
  }
 ],
 "metadata": {
  "kernelspec": {
   "display_name": "Python [conda env:metis] *",
   "language": "python",
   "name": "conda-env-metis-py"
  },
  "language_info": {
   "codemirror_mode": {
    "name": "ipython",
    "version": 3
   },
   "file_extension": ".py",
   "mimetype": "text/x-python",
   "name": "python",
   "nbconvert_exporter": "python",
   "pygments_lexer": "ipython3",
   "version": "3.8.6"
  }
 },
 "nbformat": 4,
 "nbformat_minor": 4
}
